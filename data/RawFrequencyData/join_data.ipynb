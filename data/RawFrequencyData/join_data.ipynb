{
 "cells": [
  {
   "cell_type": "code",
   "execution_count": 50,
   "metadata": {},
   "outputs": [
    {
     "data": {
      "text/plain": [
       "['fNew 2019 12.csv',\n",
       " 'fNew 2021 11.csv',\n",
       " 'fNew 2021 12.csv',\n",
       " 'fNew 2022 1.csv',\n",
       " 'fNew 2022 2.csv',\n",
       " 'fNew 2022 3.csv',\n",
       " 'fnew-2022-10.csv',\n",
       " 'fnew-2022-4.csv',\n",
       " 'fnew-2022-5.csv',\n",
       " 'fnew-2022-6.csv',\n",
       " 'fnew-2022-7.csv',\n",
       " 'fnew-2022-8.csv',\n",
       " 'fnew-2022-9.csv']"
      ]
     },
     "execution_count": 50,
     "metadata": {},
     "output_type": "execute_result"
    }
   ],
   "source": [
    "import pandas as pd\n",
    "import seaborn as sns\n",
    "import os, glob\n",
    "import matplotlib.pyplot as plt\n",
    "import numpy as np\n",
    "\n",
    "root_data = ''\n",
    "wildcard = \"*.csv\"\n",
    "\n",
    "# Load weather data\n",
    "files = glob.glob(os.path.join(root_data, wildcard))\n",
    "files.sort()\n",
    "files = [f for f in files if \"resampled\" not in f]\n",
    "files"
   ]
  },
  {
   "cell_type": "code",
   "execution_count": 54,
   "metadata": {},
   "outputs": [],
   "source": [
    "df_join = None\n",
    "for file in files[:]:\n",
    "    df = pd.read_csv(file)\n",
    "    if df_join is None:\n",
    "            df_join = df\n",
    "    else:\n",
    "        df_join = pd.concat([df_join, df])"
   ]
  },
  {
   "cell_type": "code",
   "execution_count": 55,
   "metadata": {},
   "outputs": [
    {
     "data": {
      "text/plain": [
       "(                         dtm       f\n",
       " 0  2019-12-01 00:00:00 +0000  50.118\n",
       " 1  2019-12-01 00:00:01 +0000  50.117\n",
       " 2  2019-12-01 00:00:02 +0000  50.111\n",
       " 3  2019-12-01 00:00:03 +0000  50.100\n",
       " 4  2019-12-01 00:00:04 +0000  50.089,\n",
       " (34214400, 2))"
      ]
     },
     "execution_count": 55,
     "metadata": {},
     "output_type": "execute_result"
    }
   ],
   "source": [
    "df_join.head(), df_join.shape"
   ]
  },
  {
   "cell_type": "code",
   "execution_count": 56,
   "metadata": {},
   "outputs": [
    {
     "ename": "KeyboardInterrupt",
     "evalue": "",
     "output_type": "error",
     "traceback": [
      "\u001b[1;31m---------------------------------------------------------------------------\u001b[0m",
      "\u001b[1;31mKeyboardInterrupt\u001b[0m                         Traceback (most recent call last)",
      "Cell \u001b[1;32mIn [56], line 1\u001b[0m\n\u001b[1;32m----> 1\u001b[0m df_join[\u001b[39m'\u001b[39m\u001b[39mdtm\u001b[39m\u001b[39m'\u001b[39m] \u001b[39m=\u001b[39m pd\u001b[39m.\u001b[39;49mto_datetime(df_join[\u001b[39m'\u001b[39;49m\u001b[39mdtm\u001b[39;49m\u001b[39m'\u001b[39;49m])\n\u001b[0;32m      2\u001b[0m df_join \u001b[39m=\u001b[39m df_join\u001b[39m.\u001b[39mset_index(\u001b[39m'\u001b[39m\u001b[39mdtm\u001b[39m\u001b[39m'\u001b[39m)\n",
      "File \u001b[1;32mc:\\Users\\Jordi\\Miniconda3\\lib\\site-packages\\pandas\\core\\tools\\datetimes.py:1051\u001b[0m, in \u001b[0;36mto_datetime\u001b[1;34m(arg, errors, dayfirst, yearfirst, utc, format, exact, unit, infer_datetime_format, origin, cache)\u001b[0m\n\u001b[0;32m   1049\u001b[0m         result \u001b[39m=\u001b[39m arg\u001b[39m.\u001b[39mmap(cache_array)\n\u001b[0;32m   1050\u001b[0m     \u001b[39melse\u001b[39;00m:\n\u001b[1;32m-> 1051\u001b[0m         values \u001b[39m=\u001b[39m convert_listlike(arg\u001b[39m.\u001b[39;49m_values, \u001b[39mformat\u001b[39;49m)\n\u001b[0;32m   1052\u001b[0m         result \u001b[39m=\u001b[39m arg\u001b[39m.\u001b[39m_constructor(values, index\u001b[39m=\u001b[39marg\u001b[39m.\u001b[39mindex, name\u001b[39m=\u001b[39marg\u001b[39m.\u001b[39mname)\n\u001b[0;32m   1053\u001b[0m \u001b[39melif\u001b[39;00m \u001b[39misinstance\u001b[39m(arg, (ABCDataFrame, abc\u001b[39m.\u001b[39mMutableMapping)):\n",
      "File \u001b[1;32mc:\\Users\\Jordi\\Miniconda3\\lib\\site-packages\\pandas\\core\\tools\\datetimes.py:402\u001b[0m, in \u001b[0;36m_convert_listlike_datetimes\u001b[1;34m(arg, format, name, tz, unit, errors, infer_datetime_format, dayfirst, yearfirst, exact)\u001b[0m\n\u001b[0;32m    400\u001b[0m \u001b[39massert\u001b[39;00m \u001b[39mformat\u001b[39m \u001b[39mis\u001b[39;00m \u001b[39mNone\u001b[39;00m \u001b[39mor\u001b[39;00m infer_datetime_format\n\u001b[0;32m    401\u001b[0m utc \u001b[39m=\u001b[39m tz \u001b[39m==\u001b[39m \u001b[39m\"\u001b[39m\u001b[39mutc\u001b[39m\u001b[39m\"\u001b[39m\n\u001b[1;32m--> 402\u001b[0m result, tz_parsed \u001b[39m=\u001b[39m objects_to_datetime64ns(\n\u001b[0;32m    403\u001b[0m     arg,\n\u001b[0;32m    404\u001b[0m     dayfirst\u001b[39m=\u001b[39;49mdayfirst,\n\u001b[0;32m    405\u001b[0m     yearfirst\u001b[39m=\u001b[39;49myearfirst,\n\u001b[0;32m    406\u001b[0m     utc\u001b[39m=\u001b[39;49mutc,\n\u001b[0;32m    407\u001b[0m     errors\u001b[39m=\u001b[39;49merrors,\n\u001b[0;32m    408\u001b[0m     require_iso8601\u001b[39m=\u001b[39;49mrequire_iso8601,\n\u001b[0;32m    409\u001b[0m     allow_object\u001b[39m=\u001b[39;49m\u001b[39mTrue\u001b[39;49;00m,\n\u001b[0;32m    410\u001b[0m )\n\u001b[0;32m    412\u001b[0m \u001b[39mif\u001b[39;00m tz_parsed \u001b[39mis\u001b[39;00m \u001b[39mnot\u001b[39;00m \u001b[39mNone\u001b[39;00m:\n\u001b[0;32m    413\u001b[0m     \u001b[39m# We can take a shortcut since the datetime64 numpy array\u001b[39;00m\n\u001b[0;32m    414\u001b[0m     \u001b[39m# is in UTC\u001b[39;00m\n\u001b[0;32m    415\u001b[0m     dta \u001b[39m=\u001b[39m DatetimeArray(result, dtype\u001b[39m=\u001b[39mtz_to_dtype(tz_parsed))\n",
      "File \u001b[1;32mc:\\Users\\Jordi\\Miniconda3\\lib\\site-packages\\pandas\\core\\arrays\\datetimes.py:2224\u001b[0m, in \u001b[0;36mobjects_to_datetime64ns\u001b[1;34m(data, dayfirst, yearfirst, utc, errors, require_iso8601, allow_object, allow_mixed)\u001b[0m\n\u001b[0;32m   2222\u001b[0m order: Literal[\u001b[39m\"\u001b[39m\u001b[39mF\u001b[39m\u001b[39m\"\u001b[39m, \u001b[39m\"\u001b[39m\u001b[39mC\u001b[39m\u001b[39m\"\u001b[39m] \u001b[39m=\u001b[39m \u001b[39m\"\u001b[39m\u001b[39mF\u001b[39m\u001b[39m\"\u001b[39m \u001b[39mif\u001b[39;00m flags\u001b[39m.\u001b[39mf_contiguous \u001b[39melse\u001b[39;00m \u001b[39m\"\u001b[39m\u001b[39mC\u001b[39m\u001b[39m\"\u001b[39m\n\u001b[0;32m   2223\u001b[0m \u001b[39mtry\u001b[39;00m:\n\u001b[1;32m-> 2224\u001b[0m     result, tz_parsed \u001b[39m=\u001b[39m tslib\u001b[39m.\u001b[39;49marray_to_datetime(\n\u001b[0;32m   2225\u001b[0m         data\u001b[39m.\u001b[39;49mravel(\u001b[39m\"\u001b[39;49m\u001b[39mK\u001b[39;49m\u001b[39m\"\u001b[39;49m),\n\u001b[0;32m   2226\u001b[0m         errors\u001b[39m=\u001b[39;49merrors,\n\u001b[0;32m   2227\u001b[0m         utc\u001b[39m=\u001b[39;49mutc,\n\u001b[0;32m   2228\u001b[0m         dayfirst\u001b[39m=\u001b[39;49mdayfirst,\n\u001b[0;32m   2229\u001b[0m         yearfirst\u001b[39m=\u001b[39;49myearfirst,\n\u001b[0;32m   2230\u001b[0m         require_iso8601\u001b[39m=\u001b[39;49mrequire_iso8601,\n\u001b[0;32m   2231\u001b[0m         allow_mixed\u001b[39m=\u001b[39;49mallow_mixed,\n\u001b[0;32m   2232\u001b[0m     )\n\u001b[0;32m   2233\u001b[0m     result \u001b[39m=\u001b[39m result\u001b[39m.\u001b[39mreshape(data\u001b[39m.\u001b[39mshape, order\u001b[39m=\u001b[39morder)\n\u001b[0;32m   2234\u001b[0m \u001b[39mexcept\u001b[39;00m \u001b[39mValueError\u001b[39;00m \u001b[39mas\u001b[39;00m err:\n",
      "File \u001b[1;32mc:\\Users\\Jordi\\Miniconda3\\lib\\site-packages\\pandas\\_libs\\tslib.pyx:381\u001b[0m, in \u001b[0;36mpandas._libs.tslib.array_to_datetime\u001b[1;34m()\u001b[0m\n",
      "File \u001b[1;32mc:\\Users\\Jordi\\Miniconda3\\lib\\site-packages\\pandas\\_libs\\tslib.pyx:641\u001b[0m, in \u001b[0;36mpandas._libs.tslib.array_to_datetime\u001b[1;34m()\u001b[0m\n",
      "File \u001b[1;32mc:\\Users\\Jordi\\Miniconda3\\lib\\site-packages\\pandas\\_libs\\tslib.pyx:742\u001b[0m, in \u001b[0;36mpandas._libs.tslib._array_to_datetime_object\u001b[1;34m()\u001b[0m\n",
      "File \u001b[1;32mc:\\Users\\Jordi\\Miniconda3\\lib\\site-packages\\pandas\\_libs\\tslibs\\parsing.pyx:273\u001b[0m, in \u001b[0;36mpandas._libs.tslibs.parsing.parse_datetime_string\u001b[1;34m()\u001b[0m\n",
      "File \u001b[1;32mc:\\Users\\Jordi\\Miniconda3\\lib\\site-packages\\pandas\\_libs\\tslibs\\parsing.pyx:509\u001b[0m, in \u001b[0;36mpandas._libs.tslibs.parsing._parse_dateabbr_string\u001b[1;34m()\u001b[0m\n",
      "File \u001b[1;32mc:\\Users\\Jordi\\Miniconda3\\lib\\_strptime.py:568\u001b[0m, in \u001b[0;36m_strptime_datetime\u001b[1;34m(cls, data_string, format)\u001b[0m\n\u001b[0;32m    565\u001b[0m \u001b[39mdef\u001b[39;00m \u001b[39m_strptime_datetime\u001b[39m(\u001b[39mcls\u001b[39m, data_string, \u001b[39mformat\u001b[39m\u001b[39m=\u001b[39m\u001b[39m\"\u001b[39m\u001b[39m%a\u001b[39;00m\u001b[39m \u001b[39m\u001b[39m%\u001b[39m\u001b[39mb \u001b[39m\u001b[39m%d\u001b[39;00m\u001b[39m \u001b[39m\u001b[39m%\u001b[39m\u001b[39mH:\u001b[39m\u001b[39m%\u001b[39m\u001b[39mM:\u001b[39m\u001b[39m%\u001b[39m\u001b[39mS \u001b[39m\u001b[39m%\u001b[39m\u001b[39mY\u001b[39m\u001b[39m\"\u001b[39m):\n\u001b[0;32m    566\u001b[0m     \u001b[39m\"\"\"Return a class cls instance based on the input string and the\u001b[39;00m\n\u001b[0;32m    567\u001b[0m \u001b[39m    format string.\"\"\"\u001b[39;00m\n\u001b[1;32m--> 568\u001b[0m     tt, fraction, gmtoff_fraction \u001b[39m=\u001b[39m _strptime(data_string, \u001b[39mformat\u001b[39m)\n\u001b[0;32m    569\u001b[0m     tzname, gmtoff \u001b[39m=\u001b[39m tt[\u001b[39m-\u001b[39m\u001b[39m2\u001b[39m:]\n\u001b[0;32m    570\u001b[0m     args \u001b[39m=\u001b[39m tt[:\u001b[39m6\u001b[39m] \u001b[39m+\u001b[39m (fraction,)\n",
      "\u001b[1;31mKeyboardInterrupt\u001b[0m: "
     ]
    }
   ],
   "source": [
    "df_join['dtm'] = pd.to_datetime(df_join['dtm'], utc=True)\n",
    "df_join = df_join.set_index('dtm')"
   ]
  },
  {
   "cell_type": "code",
   "execution_count": null,
   "metadata": {},
   "outputs": [
    {
     "data": {
      "text/html": [
       "<div>\n",
       "<style scoped>\n",
       "    .dataframe tbody tr th:only-of-type {\n",
       "        vertical-align: middle;\n",
       "    }\n",
       "\n",
       "    .dataframe tbody tr th {\n",
       "        vertical-align: top;\n",
       "    }\n",
       "\n",
       "    .dataframe thead tr th {\n",
       "        text-align: left;\n",
       "    }\n",
       "\n",
       "    .dataframe thead tr:last-of-type th {\n",
       "        text-align: right;\n",
       "    }\n",
       "</style>\n",
       "<table border=\"1\" class=\"dataframe\">\n",
       "  <thead>\n",
       "    <tr>\n",
       "      <th></th>\n",
       "      <th colspan=\"4\" halign=\"left\">f</th>\n",
       "    </tr>\n",
       "    <tr>\n",
       "      <th></th>\n",
       "      <th>min</th>\n",
       "      <th>max</th>\n",
       "      <th>mean</th>\n",
       "      <th>sum</th>\n",
       "    </tr>\n",
       "    <tr>\n",
       "      <th>dtm</th>\n",
       "      <th></th>\n",
       "      <th></th>\n",
       "      <th></th>\n",
       "      <th></th>\n",
       "    </tr>\n",
       "  </thead>\n",
       "  <tbody>\n",
       "    <tr>\n",
       "      <th>2019-12-01 00:00:00+00:00</th>\n",
       "      <td>49.952</td>\n",
       "      <td>50.139</td>\n",
       "      <td>50.048194</td>\n",
       "      <td>90086.749</td>\n",
       "    </tr>\n",
       "    <tr>\n",
       "      <th>2019-12-01 00:30:00+00:00</th>\n",
       "      <td>49.851</td>\n",
       "      <td>50.059</td>\n",
       "      <td>49.926807</td>\n",
       "      <td>89868.252</td>\n",
       "    </tr>\n",
       "    <tr>\n",
       "      <th>2019-12-01 01:00:00+00:00</th>\n",
       "      <td>49.892</td>\n",
       "      <td>50.042</td>\n",
       "      <td>49.962614</td>\n",
       "      <td>89932.705</td>\n",
       "    </tr>\n",
       "    <tr>\n",
       "      <th>2019-12-01 01:30:00+00:00</th>\n",
       "      <td>49.941</td>\n",
       "      <td>50.067</td>\n",
       "      <td>50.003465</td>\n",
       "      <td>90006.237</td>\n",
       "    </tr>\n",
       "    <tr>\n",
       "      <th>2019-12-01 02:00:00+00:00</th>\n",
       "      <td>49.900</td>\n",
       "      <td>50.062</td>\n",
       "      <td>50.002399</td>\n",
       "      <td>90004.318</td>\n",
       "    </tr>\n",
       "  </tbody>\n",
       "</table>\n",
       "</div>"
      ],
      "text/plain": [
       "                                f                              \n",
       "                              min     max       mean        sum\n",
       "dtm                                                            \n",
       "2019-12-01 00:00:00+00:00  49.952  50.139  50.048194  90086.749\n",
       "2019-12-01 00:30:00+00:00  49.851  50.059  49.926807  89868.252\n",
       "2019-12-01 01:00:00+00:00  49.892  50.042  49.962614  89932.705\n",
       "2019-12-01 01:30:00+00:00  49.941  50.067  50.003465  90006.237\n",
       "2019-12-01 02:00:00+00:00  49.900  50.062  50.002399  90004.318"
      ]
     },
     "execution_count": 43,
     "metadata": {},
     "output_type": "execute_result"
    }
   ],
   "source": [
    "# Downsample the weather data to every 30 min instead\n",
    "df_resample = df_join.resample('30min').agg(['min','max', 'mean', 'sum'])\n",
    "df_resample.head()"
   ]
  },
  {
   "cell_type": "code",
   "execution_count": null,
   "metadata": {},
   "outputs": [
    {
     "data": {
      "text/html": [
       "<div>\n",
       "<style scoped>\n",
       "    .dataframe tbody tr th:only-of-type {\n",
       "        vertical-align: middle;\n",
       "    }\n",
       "\n",
       "    .dataframe tbody tr th {\n",
       "        vertical-align: top;\n",
       "    }\n",
       "\n",
       "    .dataframe thead th {\n",
       "        text-align: right;\n",
       "    }\n",
       "</style>\n",
       "<table border=\"1\" class=\"dataframe\">\n",
       "  <thead>\n",
       "    <tr style=\"text-align: right;\">\n",
       "      <th></th>\n",
       "      <th>dtm</th>\n",
       "      <th>f_min</th>\n",
       "      <th>f_max</th>\n",
       "      <th>f_mean</th>\n",
       "      <th>f_sum</th>\n",
       "    </tr>\n",
       "  </thead>\n",
       "  <tbody>\n",
       "    <tr>\n",
       "      <th>0</th>\n",
       "      <td>2019-12-01 00:00:00+00:00</td>\n",
       "      <td>49.952</td>\n",
       "      <td>50.139</td>\n",
       "      <td>50.048194</td>\n",
       "      <td>90086.749</td>\n",
       "    </tr>\n",
       "    <tr>\n",
       "      <th>1</th>\n",
       "      <td>2019-12-01 00:30:00+00:00</td>\n",
       "      <td>49.851</td>\n",
       "      <td>50.059</td>\n",
       "      <td>49.926807</td>\n",
       "      <td>89868.252</td>\n",
       "    </tr>\n",
       "    <tr>\n",
       "      <th>2</th>\n",
       "      <td>2019-12-01 01:00:00+00:00</td>\n",
       "      <td>49.892</td>\n",
       "      <td>50.042</td>\n",
       "      <td>49.962614</td>\n",
       "      <td>89932.705</td>\n",
       "    </tr>\n",
       "    <tr>\n",
       "      <th>3</th>\n",
       "      <td>2019-12-01 01:30:00+00:00</td>\n",
       "      <td>49.941</td>\n",
       "      <td>50.067</td>\n",
       "      <td>50.003465</td>\n",
       "      <td>90006.237</td>\n",
       "    </tr>\n",
       "    <tr>\n",
       "      <th>4</th>\n",
       "      <td>2019-12-01 02:00:00+00:00</td>\n",
       "      <td>49.900</td>\n",
       "      <td>50.062</td>\n",
       "      <td>50.002399</td>\n",
       "      <td>90004.318</td>\n",
       "    </tr>\n",
       "  </tbody>\n",
       "</table>\n",
       "</div>"
      ],
      "text/plain": [
       "                        dtm   f_min   f_max     f_mean      f_sum\n",
       "0 2019-12-01 00:00:00+00:00  49.952  50.139  50.048194  90086.749\n",
       "1 2019-12-01 00:30:00+00:00  49.851  50.059  49.926807  89868.252\n",
       "2 2019-12-01 01:00:00+00:00  49.892  50.042  49.962614  89932.705\n",
       "3 2019-12-01 01:30:00+00:00  49.941  50.067  50.003465  90006.237\n",
       "4 2019-12-01 02:00:00+00:00  49.900  50.062  50.002399  90004.318"
      ]
     },
     "execution_count": 44,
     "metadata": {},
     "output_type": "execute_result"
    }
   ],
   "source": [
    "df_resample.columns = ['_'.join(tup).rstrip('_') for tup in df_resample.columns.values]\n",
    "df_resample.reset_index(inplace=True)\n",
    "df_resample.head()"
   ]
  },
  {
   "cell_type": "code",
   "execution_count": null,
   "metadata": {},
   "outputs": [],
   "source": [
    "df_resample.to_csv(os.path.join(root_data, 'freq_resampled.csv'))"
   ]
  },
  {
   "cell_type": "code",
   "execution_count": null,
   "metadata": {},
   "outputs": [],
   "source": []
  }
 ],
 "metadata": {
  "kernelspec": {
   "display_name": "Python 3.9.12 ('base')",
   "language": "python",
   "name": "python3"
  },
  "language_info": {
   "codemirror_mode": {
    "name": "ipython",
    "version": 3
   },
   "file_extension": ".py",
   "mimetype": "text/x-python",
   "name": "python",
   "nbconvert_exporter": "python",
   "pygments_lexer": "ipython3",
   "version": "3.9.12"
  },
  "orig_nbformat": 4,
  "vscode": {
   "interpreter": {
    "hash": "3d0acdbfa3a8f436ad8414a81e53380ff9c1e6f7ba4c27311bc8f8e055475003"
   }
  }
 },
 "nbformat": 4,
 "nbformat_minor": 2
}
