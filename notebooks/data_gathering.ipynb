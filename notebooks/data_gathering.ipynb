{
 "cells": [
  {
   "cell_type": "code",
   "execution_count": 6,
   "metadata": {},
   "outputs": [],
   "source": [
    "import pandas as pd\n",
    "import seaborn as sns\n",
    "import os, glob\n",
    "import matplotlib.pyplot as plt"
   ]
  },
  {
   "cell_type": "code",
   "execution_count": 2,
   "metadata": {},
   "outputs": [
    {
     "data": {
      "text/plain": [
       "['../data\\\\Demand\\\\dem_2019-12.csv',\n",
       " '../data\\\\Frequency\\\\psd_2019-12.csv',\n",
       " '../data\\\\Generation\\\\gen_2019-12.csv',\n",
       " '../data\\\\Wind\\\\wind_2019-12.csv']"
      ]
     },
     "execution_count": 2,
     "metadata": {},
     "output_type": "execute_result"
    }
   ],
   "source": [
    "root_data = '../data'\n",
    "wildcard = '**/*_2019-12.csv'\n",
    "\n",
    "files = glob.glob(os.path.join(root_data, wildcard), recursive=True)\n",
    "files.sort()\n",
    "[os.path.basename(f) for f in files]\n",
    "files\n"
   ]
  },
  {
   "cell_type": "code",
   "execution_count": 4,
   "metadata": {},
   "outputs": [
    {
     "name": "stdout",
     "output_type": "stream",
     "text": [
      "0      2019-12-01 00:00:00\n",
      "1      2019-12-01 00:30:00\n",
      "2      2019-12-01 01:00:00\n",
      "3      2019-12-01 01:30:00\n",
      "4      2019-12-01 02:00:00\n",
      "               ...        \n",
      "1483   2019-12-31 21:30:00\n",
      "1484   2019-12-31 22:00:00\n",
      "1485   2019-12-31 22:30:00\n",
      "1486   2019-12-31 23:00:00\n",
      "1487   2019-12-31 23:30:00\n",
      "Name: dtm, Length: 1488, dtype: datetime64[ns]\n",
      "0      2019-12-01 00:00:00\n",
      "1      2019-12-01 00:30:00\n",
      "2      2019-12-01 01:00:00\n",
      "3      2019-12-01 01:30:00\n",
      "4      2019-12-01 02:00:00\n",
      "               ...        \n",
      "1483   2019-12-31 21:30:00\n",
      "1484   2019-12-31 22:00:00\n",
      "1485   2019-12-31 22:30:00\n",
      "1486   2019-12-31 23:00:00\n",
      "1487   2019-12-31 23:30:00\n",
      "Name: dtm, Length: 1488, dtype: datetime64[ns]\n",
      "0      2019-12-01 00:00:00\n",
      "1      2019-12-01 00:30:00\n",
      "2      2019-12-01 01:00:00\n",
      "3      2019-12-01 01:30:00\n",
      "4      2019-12-01 02:00:00\n",
      "               ...        \n",
      "1483   2019-12-31 21:30:00\n",
      "1484   2019-12-31 22:00:00\n",
      "1485   2019-12-31 22:30:00\n",
      "1486   2019-12-31 23:00:00\n",
      "1487   2019-12-31 23:30:00\n",
      "Name: dtm, Length: 1488, dtype: datetime64[ns]\n",
      "0      2019-12-01 00:00:00\n",
      "1      2019-12-01 00:30:00\n",
      "2      2019-12-01 01:00:00\n",
      "3      2019-12-01 01:30:00\n",
      "4      2019-12-01 02:00:00\n",
      "               ...        \n",
      "1483   2019-12-31 21:30:00\n",
      "1484   2019-12-31 22:00:00\n",
      "1485   2019-12-31 22:30:00\n",
      "1486   2019-12-31 23:00:00\n",
      "1487   2019-12-31 23:30:00\n",
      "Name: dtm, Length: 1488, dtype: datetime64[ns]\n"
     ]
    },
    {
     "name": "stderr",
     "output_type": "stream",
     "text": [
      "C:\\Users\\Jordi\\AppData\\Local\\Temp\\ipykernel_13920\\1598267721.py:28: FutureWarning: Passing 'suffixes' which cause duplicate columns {'Unnamed: 0_x'} in the result is deprecated and will raise a MergeError in a future version.\n",
      "  df_all = pd.merge(df_all, df, on='dtm')\n"
     ]
    }
   ],
   "source": [
    "def create_dtm_col(df, date_colname, period_colname, n_per_period=48):\n",
    "    df[date_colname] = pd.to_datetime(df[date_colname])\n",
    "    df['dtm'] = pd.to_timedelta((df[period_colname] - 1) / n_per_period * 24, unit='H')\n",
    "    df['dtm'] += df[date_colname]\n",
    "    return df\n",
    "\n",
    "f = '../data\\\\Demand\\\\dem_2019-12.csv'\n",
    "df = pd.read_csv(f, sep=\"\\t\")\n",
    "create_dtm_col(df, \"SETTLEMENT_DATE\", \"SETTLEMENT_PERIOD\")\n",
    "df_all = df\n",
    "print(df['dtm'])\n",
    "\n",
    "f = '../data\\\\Wind\\\\wind_2019-12.csv'\n",
    "df = pd.read_csv(f, sep=\"\\t\")\n",
    "create_dtm_col(df, \"Sett_Date\", \"Sett_Period\")\n",
    "df_all = pd.merge(df_all, df, on='dtm')\n",
    "print(df['dtm'])\n",
    "\n",
    "f = '../data\\\\Frequency\\\\psd_2019-12.csv'\n",
    "df = pd.read_csv(f, sep=\"\\t\")\n",
    "df['dtm'] = pd.to_datetime(df[\"dtm\"])\n",
    "df_all = pd.merge(df_all, df, on='dtm')\n",
    "print(df['dtm'])\n",
    "\n",
    "f = '../data\\\\Generation\\\\gen_2019-12.csv'\n",
    "df = pd.read_csv(f, sep=\"\\t\")\n",
    "df['dtm'] = pd.to_datetime(df[\"DATETIME\"])\n",
    "df_all = pd.merge(df_all, df, on='dtm')\n",
    "print(df['dtm'])"
   ]
  },
  {
   "cell_type": "code",
   "execution_count": 12,
   "metadata": {},
   "outputs": [
    {
     "data": {
      "text/plain": [
       "(1488, 44)"
      ]
     },
     "execution_count": 12,
     "metadata": {},
     "output_type": "execute_result"
    }
   ],
   "source": [
    "desired_cols = [\n",
    "'IFA_FLOW', 'TSD', 'IFA2_FLOW',\n",
    "'EMBEDDED_WIND_GENERATION', 'ND', 'MOYLE_FLOW', 'NEMO_FLOW',\n",
    "'ELECLINK_FLOW', 'PUMP_STORAGE_PUMPING', 'EMBEDDED_WIND_CAPACITY',\n",
    "'SETTLEMENT_DATE', 'ENGLAND_WALES_DEMAND', 'EMBEDDED_SOLAR_CAPACITY',\n",
    "'NON_BM_STOR', 'EAST_WEST_FLOW', 'NSL_FLOW', 'BRITNED_FLOW',\n",
    "'EMBEDDED_SOLAR_GENERATION', 'dtm', 'Total',\n",
    "'England/Wales Wind Output',\n",
    " 'Scottish Wind Output', '0.1', '0.2', '0.3',\n",
    "'0.4', '0.5', 'NUCLEAR',\n",
    "'STORAGE', 'LOW_CARBON',\n",
    "'HYDRO', 'IMPORTS', 'GAS', 'CARBON_INTENSITY', 'COAL',\n",
    "'FOSSIL',\n",
    "'GENERATION', 'DATETIME', 'OTHER', 'ZERO_CARBON',\n",
    "'BIOMASS', 'WIND', 'SOLAR',\n",
    "'RENEWABLE'\n",
    "]\n",
    "\n",
    "df_all_c = df_all[desired_cols]\n",
    "df_all_c.shape"
   ]
  },
  {
   "cell_type": "code",
   "execution_count": 13,
   "metadata": {},
   "outputs": [],
   "source": [
    "sns.pairplot(df_all_c)"
   ]
  },
  {
   "cell_type": "code",
   "execution_count": null,
   "metadata": {},
   "outputs": [],
   "source": []
  }
 ],
 "metadata": {
  "kernelspec": {
   "display_name": "Python 3.9.12 ('base')",
   "language": "python",
   "name": "python3"
  },
  "language_info": {
   "codemirror_mode": {
    "name": "ipython",
    "version": 3
   },
   "file_extension": ".py",
   "mimetype": "text/x-python",
   "name": "python",
   "nbconvert_exporter": "python",
   "pygments_lexer": "ipython3",
   "version": "3.9.12"
  },
  "orig_nbformat": 4,
  "vscode": {
   "interpreter": {
    "hash": "3d0acdbfa3a8f436ad8414a81e53380ff9c1e6f7ba4c27311bc8f8e055475003"
   }
  }
 },
 "nbformat": 4,
 "nbformat_minor": 2
}
