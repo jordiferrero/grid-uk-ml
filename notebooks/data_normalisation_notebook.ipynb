{
  "cells": [
    {
      "cell_type": "code",
      "execution_count": 33,
      "metadata": {
        "id": "_lXnRtxo06x8"
      },
      "outputs": [],
      "source": [
        "import pandas as pd\n",
        "import numpy as np\n",
        "import time"
      ]
    },
    {
      "cell_type": "markdown",
      "source": [
        "# Data exploration\n",
        "\n",
        "Before deciding on how to do feature engineering, we need to explore the data, the distributions of the data and the data types."
      ],
      "metadata": {
        "id": "FEGFvdQj2D2F"
      }
    },
    {
      "cell_type": "code",
      "execution_count": 34,
      "metadata": {
        "id": "xDa0-CTO00xq"
      },
      "outputs": [],
      "source": [
        "path = r\"https://raw.githubusercontent.com/jordiferrero/grid-uk-ml/DataCollection/data/df_clean.csv\"\n",
        "grid_data = pd.read_csv(path)"
      ]
    },
    {
      "cell_type": "code",
      "execution_count": 35,
      "metadata": {
        "colab": {
          "base_uri": "https://localhost:8080/",
          "height": 209
        },
        "id": "Aj8Wf6fk0-rj",
        "outputId": "f158c8b0-b5b4-443a-a9a0-b49c28ee7e22"
      },
      "outputs": [
        {
          "output_type": "execute_result",
          "data": {
            "text/plain": [
              "                 Datetime  national_demand  pump_demand  demand_forecast  \\\n",
              "1790  2021-12-08 07:30:00            36968            7            36604   \n",
              "\n",
              "      demand_outturn demand_forecast_publishdate       f01      f02       f03  \\\n",
              "1790           34840         2021-12-07T08:45:00  0.043897  0.00005  0.000018   \n",
              "\n",
              "           f04  ...  storage_perc  wind_perc  total_wind_power  \\\n",
              "1790  0.000011  ...           0.1       33.8          9965.908   \n",
              "\n",
              "      wind_forecast_publishdate  wind_forecast  temperature_deg  \\\n",
              "1790        2021-12-07T07:19:25        11239.0              5.3   \n",
              "\n",
              "      cloudcover_perc  windspeed_kmh  winddirection_degr  \\\n",
              "1790               86           18.9               149.0   \n",
              "\n",
              "      import_export_electricity  \n",
              "1790                       1508  \n",
              "\n",
              "[1 rows x 30 columns]"
            ],
            "text/html": [
              "\n",
              "  <div id=\"df-a5b25559-3f37-4544-8fa6-70eed8d0e1e4\">\n",
              "    <div class=\"colab-df-container\">\n",
              "      <div>\n",
              "<style scoped>\n",
              "    .dataframe tbody tr th:only-of-type {\n",
              "        vertical-align: middle;\n",
              "    }\n",
              "\n",
              "    .dataframe tbody tr th {\n",
              "        vertical-align: top;\n",
              "    }\n",
              "\n",
              "    .dataframe thead th {\n",
              "        text-align: right;\n",
              "    }\n",
              "</style>\n",
              "<table border=\"1\" class=\"dataframe\">\n",
              "  <thead>\n",
              "    <tr style=\"text-align: right;\">\n",
              "      <th></th>\n",
              "      <th>Datetime</th>\n",
              "      <th>national_demand</th>\n",
              "      <th>pump_demand</th>\n",
              "      <th>demand_forecast</th>\n",
              "      <th>demand_outturn</th>\n",
              "      <th>demand_forecast_publishdate</th>\n",
              "      <th>f01</th>\n",
              "      <th>f02</th>\n",
              "      <th>f03</th>\n",
              "      <th>f04</th>\n",
              "      <th>...</th>\n",
              "      <th>storage_perc</th>\n",
              "      <th>wind_perc</th>\n",
              "      <th>total_wind_power</th>\n",
              "      <th>wind_forecast_publishdate</th>\n",
              "      <th>wind_forecast</th>\n",
              "      <th>temperature_deg</th>\n",
              "      <th>cloudcover_perc</th>\n",
              "      <th>windspeed_kmh</th>\n",
              "      <th>winddirection_degr</th>\n",
              "      <th>import_export_electricity</th>\n",
              "    </tr>\n",
              "  </thead>\n",
              "  <tbody>\n",
              "    <tr>\n",
              "      <th>1790</th>\n",
              "      <td>2021-12-08 07:30:00</td>\n",
              "      <td>36968</td>\n",
              "      <td>7</td>\n",
              "      <td>36604</td>\n",
              "      <td>34840</td>\n",
              "      <td>2021-12-07T08:45:00</td>\n",
              "      <td>0.043897</td>\n",
              "      <td>0.00005</td>\n",
              "      <td>0.000018</td>\n",
              "      <td>0.000011</td>\n",
              "      <td>...</td>\n",
              "      <td>0.1</td>\n",
              "      <td>33.8</td>\n",
              "      <td>9965.908</td>\n",
              "      <td>2021-12-07T07:19:25</td>\n",
              "      <td>11239.0</td>\n",
              "      <td>5.3</td>\n",
              "      <td>86</td>\n",
              "      <td>18.9</td>\n",
              "      <td>149.0</td>\n",
              "      <td>1508</td>\n",
              "    </tr>\n",
              "  </tbody>\n",
              "</table>\n",
              "<p>1 rows × 30 columns</p>\n",
              "</div>\n",
              "      <button class=\"colab-df-convert\" onclick=\"convertToInteractive('df-a5b25559-3f37-4544-8fa6-70eed8d0e1e4')\"\n",
              "              title=\"Convert this dataframe to an interactive table.\"\n",
              "              style=\"display:none;\">\n",
              "        \n",
              "  <svg xmlns=\"http://www.w3.org/2000/svg\" height=\"24px\"viewBox=\"0 0 24 24\"\n",
              "       width=\"24px\">\n",
              "    <path d=\"M0 0h24v24H0V0z\" fill=\"none\"/>\n",
              "    <path d=\"M18.56 5.44l.94 2.06.94-2.06 2.06-.94-2.06-.94-.94-2.06-.94 2.06-2.06.94zm-11 1L8.5 8.5l.94-2.06 2.06-.94-2.06-.94L8.5 2.5l-.94 2.06-2.06.94zm10 10l.94 2.06.94-2.06 2.06-.94-2.06-.94-.94-2.06-.94 2.06-2.06.94z\"/><path d=\"M17.41 7.96l-1.37-1.37c-.4-.4-.92-.59-1.43-.59-.52 0-1.04.2-1.43.59L10.3 9.45l-7.72 7.72c-.78.78-.78 2.05 0 2.83L4 21.41c.39.39.9.59 1.41.59.51 0 1.02-.2 1.41-.59l7.78-7.78 2.81-2.81c.8-.78.8-2.07 0-2.86zM5.41 20L4 18.59l7.72-7.72 1.47 1.35L5.41 20z\"/>\n",
              "  </svg>\n",
              "      </button>\n",
              "      \n",
              "  <style>\n",
              "    .colab-df-container {\n",
              "      display:flex;\n",
              "      flex-wrap:wrap;\n",
              "      gap: 12px;\n",
              "    }\n",
              "\n",
              "    .colab-df-convert {\n",
              "      background-color: #E8F0FE;\n",
              "      border: none;\n",
              "      border-radius: 50%;\n",
              "      cursor: pointer;\n",
              "      display: none;\n",
              "      fill: #1967D2;\n",
              "      height: 32px;\n",
              "      padding: 0 0 0 0;\n",
              "      width: 32px;\n",
              "    }\n",
              "\n",
              "    .colab-df-convert:hover {\n",
              "      background-color: #E2EBFA;\n",
              "      box-shadow: 0px 1px 2px rgba(60, 64, 67, 0.3), 0px 1px 3px 1px rgba(60, 64, 67, 0.15);\n",
              "      fill: #174EA6;\n",
              "    }\n",
              "\n",
              "    [theme=dark] .colab-df-convert {\n",
              "      background-color: #3B4455;\n",
              "      fill: #D2E3FC;\n",
              "    }\n",
              "\n",
              "    [theme=dark] .colab-df-convert:hover {\n",
              "      background-color: #434B5C;\n",
              "      box-shadow: 0px 1px 3px 1px rgba(0, 0, 0, 0.15);\n",
              "      filter: drop-shadow(0px 1px 2px rgba(0, 0, 0, 0.3));\n",
              "      fill: #FFFFFF;\n",
              "    }\n",
              "  </style>\n",
              "\n",
              "      <script>\n",
              "        const buttonEl =\n",
              "          document.querySelector('#df-a5b25559-3f37-4544-8fa6-70eed8d0e1e4 button.colab-df-convert');\n",
              "        buttonEl.style.display =\n",
              "          google.colab.kernel.accessAllowed ? 'block' : 'none';\n",
              "\n",
              "        async function convertToInteractive(key) {\n",
              "          const element = document.querySelector('#df-a5b25559-3f37-4544-8fa6-70eed8d0e1e4');\n",
              "          const dataTable =\n",
              "            await google.colab.kernel.invokeFunction('convertToInteractive',\n",
              "                                                     [key], {});\n",
              "          if (!dataTable) return;\n",
              "\n",
              "          const docLinkHtml = 'Like what you see? Visit the ' +\n",
              "            '<a target=\"_blank\" href=https://colab.research.google.com/notebooks/data_table.ipynb>data table notebook</a>'\n",
              "            + ' to learn more about interactive tables.';\n",
              "          element.innerHTML = '';\n",
              "          dataTable['output_type'] = 'display_data';\n",
              "          await google.colab.output.renderOutput(dataTable, element);\n",
              "          const docLink = document.createElement('div');\n",
              "          docLink.innerHTML = docLinkHtml;\n",
              "          element.appendChild(docLink);\n",
              "        }\n",
              "      </script>\n",
              "    </div>\n",
              "  </div>\n",
              "  "
            ]
          },
          "metadata": {},
          "execution_count": 35
        }
      ],
      "source": [
        "grid_data.sample()"
      ]
    },
    {
      "cell_type": "code",
      "execution_count": 36,
      "metadata": {
        "colab": {
          "base_uri": "https://localhost:8080/"
        },
        "id": "OkKzmpoaPpGH",
        "outputId": "4bda3583-ccf2-40b3-837b-cb8e6ce99614"
      },
      "outputs": [
        {
          "output_type": "execute_result",
          "data": {
            "text/plain": [
              "Datetime                       0.000000\n",
              "national_demand                0.000000\n",
              "pump_demand                    0.000000\n",
              "demand_forecast                0.000000\n",
              "demand_outturn                 0.000000\n",
              "demand_forecast_publishdate    0.000000\n",
              "f01                            0.000000\n",
              "f02                            0.000000\n",
              "f03                            0.000000\n",
              "f04                            0.000000\n",
              "f05                            0.000000\n",
              "biomass_perc                   0.000000\n",
              "carbon_intensity               0.000000\n",
              "fossil_perc                    0.000000\n",
              "generation                     0.000000\n",
              "hydro_perc                     0.000000\n",
              "imports_perc                   0.000000\n",
              "nuclear_perc                   0.000000\n",
              "other_perc                     0.000000\n",
              "solar_perc                     0.000000\n",
              "storage_perc                   0.000000\n",
              "wind_perc                      0.000000\n",
              "total_wind_power               0.000000\n",
              "wind_forecast_publishdate      0.000000\n",
              "wind_forecast                  0.000000\n",
              "temperature_deg                0.000000\n",
              "cloudcover_perc                0.000000\n",
              "windspeed_kmh                  0.000000\n",
              "winddirection_degr             0.000125\n",
              "import_export_electricity      0.000000\n",
              "dtype: float64"
            ]
          },
          "metadata": {},
          "execution_count": 36
        }
      ],
      "source": [
        "# How many % of nan values in dataset\n",
        "grid_data.isnull().mean()"
      ]
    },
    {
      "cell_type": "code",
      "source": [
        "grid_data['temperature_k'] = grid_data['temperature_deg'] + 273\n",
        "grid_data.pop('temperature_deg')\n",
        "grid_data.describe().min()"
      ],
      "metadata": {
        "id": "sj8e2DSXJ0G5",
        "outputId": "4d76a28a-7927-40dd-98b0-1bc5cadbcc6a",
        "colab": {
          "base_uri": "https://localhost:8080/"
        }
      },
      "execution_count": 37,
      "outputs": [
        {
          "output_type": "execute_result",
          "data": {
            "text/plain": [
              "national_demand              6415.857551\n",
              "pump_demand                     0.000000\n",
              "demand_forecast              6444.978726\n",
              "demand_outturn               6387.764175\n",
              "f01                             0.000000\n",
              "f02                             0.000000\n",
              "f03                             0.000000\n",
              "f04                             0.000000\n",
              "f05                             0.000000\n",
              "biomass_perc                    0.000000\n",
              "carbon_intensity               39.000000\n",
              "fossil_perc                     5.300000\n",
              "generation                   5864.755032\n",
              "hydro_perc                      0.000000\n",
              "imports_perc                    0.000000\n",
              "nuclear_perc                    3.421049\n",
              "other_perc                      0.000000\n",
              "solar_perc                      0.000000\n",
              "storage_perc                    0.000000\n",
              "wind_perc                       1.000000\n",
              "total_wind_power              132.346000\n",
              "wind_forecast                 233.000000\n",
              "cloudcover_perc                 0.000000\n",
              "windspeed_kmh                   0.000000\n",
              "winddirection_degr              1.000000\n",
              "import_export_electricity   -6362.000000\n",
              "temperature_k                   5.460614\n",
              "dtype: float64"
            ]
          },
          "metadata": {},
          "execution_count": 37
        }
      ]
    },
    {
      "cell_type": "code",
      "execution_count": 38,
      "metadata": {
        "id": "E8EeCD8xQvoi"
      },
      "outputs": [],
      "source": [
        "# Convert date columns into datetime \n",
        "date_time_cols = ['Datetime', 'demand_forecast_publishdate', 'wind_forecast_publishdate',]\n",
        "for col in date_time_cols:\n",
        "  grid_data[col] = pd.to_datetime(grid_data[col])\n",
        "\n",
        "# numerical_columns = grid_data.columns.difference(date_time_cols)"
      ]
    },
    {
      "cell_type": "code",
      "execution_count": 39,
      "metadata": {
        "colab": {
          "base_uri": "https://localhost:8080/"
        },
        "id": "wVwqIhuuQUj8",
        "outputId": "ac755cb3-5244-4ce0-8d95-68a73d68f0a2"
      },
      "outputs": [
        {
          "output_type": "stream",
          "name": "stdout",
          "text": [
            "<class 'pandas.core.frame.DataFrame'>\n",
            "RangeIndex: 16027 entries, 0 to 16026\n",
            "Data columns (total 30 columns):\n",
            " #   Column                       Non-Null Count  Dtype         \n",
            "---  ------                       --------------  -----         \n",
            " 0   Datetime                     16027 non-null  datetime64[ns]\n",
            " 1   national_demand              16027 non-null  int64         \n",
            " 2   pump_demand                  16027 non-null  int64         \n",
            " 3   demand_forecast              16027 non-null  int64         \n",
            " 4   demand_outturn               16027 non-null  int64         \n",
            " 5   demand_forecast_publishdate  16027 non-null  datetime64[ns]\n",
            " 6   f01                          16027 non-null  float64       \n",
            " 7   f02                          16027 non-null  float64       \n",
            " 8   f03                          16027 non-null  float64       \n",
            " 9   f04                          16027 non-null  float64       \n",
            " 10  f05                          16027 non-null  float64       \n",
            " 11  biomass_perc                 16027 non-null  float64       \n",
            " 12  carbon_intensity             16027 non-null  float64       \n",
            " 13  fossil_perc                  16027 non-null  float64       \n",
            " 14  generation                   16027 non-null  float64       \n",
            " 15  hydro_perc                   16027 non-null  float64       \n",
            " 16  imports_perc                 16027 non-null  float64       \n",
            " 17  nuclear_perc                 16027 non-null  float64       \n",
            " 18  other_perc                   16027 non-null  float64       \n",
            " 19  solar_perc                   16027 non-null  float64       \n",
            " 20  storage_perc                 16027 non-null  float64       \n",
            " 21  wind_perc                    16027 non-null  float64       \n",
            " 22  total_wind_power             16027 non-null  float64       \n",
            " 23  wind_forecast_publishdate    16027 non-null  datetime64[ns]\n",
            " 24  wind_forecast                16027 non-null  float64       \n",
            " 25  cloudcover_perc              16027 non-null  int64         \n",
            " 26  windspeed_kmh                16027 non-null  float64       \n",
            " 27  winddirection_degr           16025 non-null  float64       \n",
            " 28  import_export_electricity    16027 non-null  int64         \n",
            " 29  temperature_k                16027 non-null  float64       \n",
            "dtypes: datetime64[ns](3), float64(21), int64(6)\n",
            "memory usage: 3.7 MB\n"
          ]
        }
      ],
      "source": [
        "grid_data.info()"
      ]
    },
    {
      "cell_type": "markdown",
      "source": [
        "## Trying out the effect of rebinning quantitative data"
      ],
      "metadata": {
        "id": "TAWNGxW6L6Uv"
      }
    },
    {
      "cell_type": "code",
      "execution_count": 40,
      "metadata": {
        "colab": {
          "base_uri": "https://localhost:8080/",
          "height": 0
        },
        "id": "G5dP39GNaiJy",
        "outputId": "42a37c5c-4b38-497b-8ee4-f6d3be2a9488"
      },
      "outputs": [
        {
          "output_type": "execute_result",
          "data": {
            "text/plain": [
              "<matplotlib.axes._subplots.AxesSubplot at 0x7f9988890370>"
            ]
          },
          "metadata": {},
          "execution_count": 40
        },
        {
          "output_type": "display_data",
          "data": {
            "text/plain": [
              "<Figure size 432x288 with 1 Axes>"
            ],
            "image/png": "[encoded data removed]"
          },
          "metadata": {
            "needs_background": "light"
          }
        }
      ],
      "source": [
        "# Feature creation (from exisiting variable)\n",
        "\n",
        "# 1. Create bins for continuous variable\n",
        "\n",
        "from sklearn.preprocessing import KBinsDiscretizer\n",
        "binner = KBinsDiscretizer(n_bins=10, encode='ordinal', strategy='uniform') \n",
        "binned_data = binner.fit_transform(grid_data[['national_demand']].dropna())\n",
        "pd.Series(binned_data.reshape(-1,)).plot(\n",
        "    title='National demand (Uniform Binning)', kind='hist', xlabel='national_demand'\n",
        ")"
      ]
    },
    {
      "cell_type": "code",
      "execution_count": 41,
      "metadata": {
        "colab": {
          "base_uri": "https://localhost:8080/",
          "height": 0
        },
        "id": "9C93mXnLbcf_",
        "outputId": "15ea2d7d-3cca-4513-df4c-4da003456083"
      },
      "outputs": [
        {
          "output_type": "execute_result",
          "data": {
            "text/plain": [
              "<matplotlib.axes._subplots.AxesSubplot at 0x7f998878d1c0>"
            ]
          },
          "metadata": {},
          "execution_count": 41
        },
        {
          "output_type": "display_data",
          "data": {
            "text/plain": [
              "<Figure size 432x288 with 1 Axes>"
            ],
            "image/png": "[encoded data removed]"
          },
          "metadata": {
            "needs_background": "light"
          }
        }
      ],
      "source": [
        "binner = KBinsDiscretizer(n_bins=10, encode='ordinal', strategy='quantile')\n",
        "binned_data = binner.fit_transform(grid_data[['national_demand']].dropna())\n",
        "pd.Series(binned_data.reshape(-1,)).plot(\n",
        "    title='National demand (Quantile binning)', kind='hist', xlabel='national_demand',\n",
        ")"
      ]
    },
    {
      "cell_type": "code",
      "execution_count": 42,
      "metadata": {
        "colab": {
          "base_uri": "https://localhost:8080/",
          "height": 0
        },
        "id": "giaQNfZNbuHc",
        "outputId": "4a56c31b-b48b-40fa-9ee4-3519c43b79c7"
      },
      "outputs": [
        {
          "output_type": "execute_result",
          "data": {
            "text/plain": [
              "<matplotlib.axes._subplots.AxesSubplot at 0x7f9988875ee0>"
            ]
          },
          "metadata": {},
          "execution_count": 42
        },
        {
          "output_type": "display_data",
          "data": {
            "text/plain": [
              "<Figure size 432x288 with 1 Axes>"
            ],
            "image/png": "[encoded data removed]"
          },
          "metadata": {
            "needs_background": "light"
          }
        }
      ],
      "source": [
        "binner = KBinsDiscretizer(n_bins=10, encode='ordinal', strategy='kmeans') \n",
        "binned_data = binner.fit_transform(grid_data[['national_demand']].dropna())\n",
        "pd.Series(binned_data.reshape(-1,)).plot(\n",
        "    title='National demand (KMeans Binning)', kind='hist', xlabel='national_demand'\n",
        ")"
      ]
    },
    {
      "cell_type": "markdown",
      "source": [
        "## Trying out the effect of renormalisation of the distributions of quantitative variables"
      ],
      "metadata": {
        "id": "k30W1dDcC7SF"
      }
    },
    {
      "cell_type": "code",
      "execution_count": 43,
      "metadata": {
        "colab": {
          "base_uri": "https://localhost:8080/",
          "height": 298
        },
        "id": "yJUjmjI1U2yQ",
        "outputId": "912654f4-4b92-4323-f392-8a81f8d79e2f"
      },
      "outputs": [
        {
          "output_type": "execute_result",
          "data": {
            "text/plain": [
              "<matplotlib.axes._subplots.AxesSubplot at 0x7f99887f5190>"
            ]
          },
          "metadata": {},
          "execution_count": 43
        },
        {
          "output_type": "display_data",
          "data": {
            "text/plain": [
              "<Figure size 432x288 with 1 Axes>"
            ],
            "image/png": "[encoded data removed]"
          },
          "metadata": {
            "needs_background": "light"
          }
        }
      ],
      "source": [
        "# Normalising quantitaive datasets (from N to M down to 0 to 1)\n",
        "grid_data['national_demand'].plot(title='national_demand', kind='hist', xlabel='au')"
      ]
    },
    {
      "cell_type": "code",
      "execution_count": 44,
      "metadata": {
        "colab": {
          "base_uri": "https://localhost:8080/",
          "height": 298
        },
        "id": "43zLJ9XxX0lz",
        "outputId": "d590e985-838d-46d0-dcf9-7a18b316412f"
      },
      "outputs": [
        {
          "output_type": "execute_result",
          "data": {
            "text/plain": [
              "<matplotlib.axes._subplots.AxesSubplot at 0x7f99886e1a90>"
            ]
          },
          "metadata": {},
          "execution_count": 44
        },
        {
          "output_type": "display_data",
          "data": {
            "text/plain": [
              "<Figure size 432x288 with 1 Axes>"
            ],
            "image/png": "[encoded data removed]"
          },
          "metadata": {
            "needs_background": "light"
          }
        }
      ],
      "source": [
        "grid_data['national_demand'].map(np.log1p).plot(title='national_demand (Log Transformed)', kind='hist', xlabel='au')"
      ]
    },
    {
      "cell_type": "code",
      "source": [
        "# Get the min for each parameter\n",
        "grid_data.describe()"
      ],
      "metadata": {
        "id": "e_GLd8o_Ishn",
        "outputId": "544201bb-eedc-4ad7-87ab-4aa756035978",
        "colab": {
          "base_uri": "https://localhost:8080/",
          "height": 394
        }
      },
      "execution_count": 45,
      "outputs": [
        {
          "output_type": "execute_result",
          "data": {
            "text/plain": [
              "       national_demand   pump_demand  demand_forecast  demand_outturn  \\\n",
              "count     16027.000000  16027.000000     16027.000000    16027.000000   \n",
              "mean      27170.686092    230.988457     27170.603669    27130.524303   \n",
              "std        6415.857551    419.052633      6444.978726     6387.764175   \n",
              "min       14879.000000      0.000000     14240.000000    15080.000000   \n",
              "25%       22326.000000      6.000000     22287.000000    22302.500000   \n",
              "50%       26119.000000     10.000000     26074.000000    26103.000000   \n",
              "75%       31139.000000    264.500000     31091.500000    31084.500000   \n",
              "max       45679.000000   1655.000000     46760.000000    45591.000000   \n",
              "\n",
              "                f01           f02           f03           f04           f05  \\\n",
              "count  16027.000000  16027.000000  16027.000000  16027.000000  16027.000000   \n",
              "mean       0.027560      0.000023      0.000007      0.000005      0.000004   \n",
              "std        0.017656      0.000020      0.000010      0.000009      0.000010   \n",
              "min        0.000000      0.000000      0.000000      0.000000      0.000000   \n",
              "25%        0.014746      0.000010      0.000003      0.000002      0.000001   \n",
              "50%        0.023562      0.000016      0.000004      0.000003      0.000002   \n",
              "75%        0.035940      0.000029      0.000009      0.000005      0.000005   \n",
              "max        0.178960      0.000269      0.000228      0.000234      0.000238   \n",
              "\n",
              "       biomass_perc  ...    solar_perc  storage_perc     wind_perc  \\\n",
              "count  16027.000000  ...  16027.000000  16027.000000  16027.000000   \n",
              "mean       5.784339  ...      4.181325      0.576352     25.016054   \n",
              "std        2.062269  ...      6.364818      1.066409     14.827770   \n",
              "min        0.000000  ...      0.000000      0.000000      1.000000   \n",
              "25%        4.400000  ...      0.000000      0.000000     12.650000   \n",
              "50%        5.900000  ...      0.000000      0.000000     22.500000   \n",
              "75%        7.200000  ...      6.900000      0.600000     37.000000   \n",
              "max       12.200000  ...     30.400000      6.300000     64.900000   \n",
              "\n",
              "       total_wind_power  wind_forecast  cloudcover_perc  windspeed_kmh  \\\n",
              "count      16027.000000   16027.000000     16027.000000   16027.000000   \n",
              "mean        5733.121044    5735.508143        66.407250      23.062888   \n",
              "std         3647.971864    3874.624968        34.183357      11.573835   \n",
              "min          132.346000     233.000000         0.000000       0.000000   \n",
              "25%         2549.051000    2365.000000        38.000000      14.500000   \n",
              "50%         5067.602000    4946.000000        77.000000      21.800000   \n",
              "75%         8876.795000    8807.000000       100.000000      30.600000   \n",
              "max        14135.430000   14115.000000       100.000000      85.500000   \n",
              "\n",
              "       winddirection_degr  import_export_electricity  temperature_k  \n",
              "count        16025.000000               16027.000000   16027.000000  \n",
              "mean           200.549017                 -34.507643     283.249473  \n",
              "std             86.837590                2929.819554       5.460614  \n",
              "min              1.000000               -6362.000000     269.700000  \n",
              "25%            162.000000               -2522.500000     279.200000  \n",
              "50%            213.000000                 194.000000     283.100000  \n",
              "75%            252.000000                2294.000000     287.300000  \n",
              "max            360.000000                5906.000000     305.700000  \n",
              "\n",
              "[8 rows x 27 columns]"
            ],
            "text/html": [
              "\n",
              "  <div id=\"df-42bc246e-16cf-48b6-9a1a-c6ce9585dbb3\">\n",
              "    <div class=\"colab-df-container\">\n",
              "      <div>\n",
              "<style scoped>\n",
              "    .dataframe tbody tr th:only-of-type {\n",
              "        vertical-align: middle;\n",
              "    }\n",
              "\n",
              "    .dataframe tbody tr th {\n",
              "        vertical-align: top;\n",
              "    }\n",
              "\n",
              "    .dataframe thead th {\n",
              "        text-align: right;\n",
              "    }\n",
              "</style>\n",
              "<table border=\"1\" class=\"dataframe\">\n",
              "  <thead>\n",
              "    <tr style=\"text-align: right;\">\n",
              "      <th></th>\n",
              "      <th>national_demand</th>\n",
              "      <th>pump_demand</th>\n",
              "      <th>demand_forecast</th>\n",
              "      <th>demand_outturn</th>\n",
              "      <th>f01</th>\n",
              "      <th>f02</th>\n",
              "      <th>f03</th>\n",
              "      <th>f04</th>\n",
              "      <th>f05</th>\n",
              "      <th>biomass_perc</th>\n",
              "      <th>...</th>\n",
              "      <th>solar_perc</th>\n",
              "      <th>storage_perc</th>\n",
              "      <th>wind_perc</th>\n",
              "      <th>total_wind_power</th>\n",
              "      <th>wind_forecast</th>\n",
              "      <th>cloudcover_perc</th>\n",
              "      <th>windspeed_kmh</th>\n",
              "      <th>winddirection_degr</th>\n",
              "      <th>import_export_electricity</th>\n",
              "      <th>temperature_k</th>\n",
              "    </tr>\n",
              "  </thead>\n",
              "  <tbody>\n",
              "    <tr>\n",
              "      <th>count</th>\n",
              "      <td>16027.000000</td>\n",
              "      <td>16027.000000</td>\n",
              "      <td>16027.000000</td>\n",
              "      <td>16027.000000</td>\n",
              "      <td>16027.000000</td>\n",
              "      <td>16027.000000</td>\n",
              "      <td>16027.000000</td>\n",
              "      <td>16027.000000</td>\n",
              "      <td>16027.000000</td>\n",
              "      <td>16027.000000</td>\n",
              "      <td>...</td>\n",
              "      <td>16027.000000</td>\n",
              "      <td>16027.000000</td>\n",
              "      <td>16027.000000</td>\n",
              "      <td>16027.000000</td>\n",
              "      <td>16027.000000</td>\n",
              "      <td>16027.000000</td>\n",
              "      <td>16027.000000</td>\n",
              "      <td>16025.000000</td>\n",
              "      <td>16027.000000</td>\n",
              "      <td>16027.000000</td>\n",
              "    </tr>\n",
              "    <tr>\n",
              "      <th>mean</th>\n",
              "      <td>27170.686092</td>\n",
              "      <td>230.988457</td>\n",
              "      <td>27170.603669</td>\n",
              "      <td>27130.524303</td>\n",
              "      <td>0.027560</td>\n",
              "      <td>0.000023</td>\n",
              "      <td>0.000007</td>\n",
              "      <td>0.000005</td>\n",
              "      <td>0.000004</td>\n",
              "      <td>5.784339</td>\n",
              "      <td>...</td>\n",
              "      <td>4.181325</td>\n",
              "      <td>0.576352</td>\n",
              "      <td>25.016054</td>\n",
              "      <td>5733.121044</td>\n",
              "      <td>5735.508143</td>\n",
              "      <td>66.407250</td>\n",
              "      <td>23.062888</td>\n",
              "      <td>200.549017</td>\n",
              "      <td>-34.507643</td>\n",
              "      <td>283.249473</td>\n",
              "    </tr>\n",
              "    <tr>\n",
              "      <th>std</th>\n",
              "      <td>6415.857551</td>\n",
              "      <td>419.052633</td>\n",
              "      <td>6444.978726</td>\n",
              "      <td>6387.764175</td>\n",
              "      <td>0.017656</td>\n",
              "      <td>0.000020</td>\n",
              "      <td>0.000010</td>\n",
              "      <td>0.000009</td>\n",
              "      <td>0.000010</td>\n",
              "      <td>2.062269</td>\n",
              "      <td>...</td>\n",
              "      <td>6.364818</td>\n",
              "      <td>1.066409</td>\n",
              "      <td>14.827770</td>\n",
              "      <td>3647.971864</td>\n",
              "      <td>3874.624968</td>\n",
              "      <td>34.183357</td>\n",
              "      <td>11.573835</td>\n",
              "      <td>86.837590</td>\n",
              "      <td>2929.819554</td>\n",
              "      <td>5.460614</td>\n",
              "    </tr>\n",
              "    <tr>\n",
              "      <th>min</th>\n",
              "      <td>14879.000000</td>\n",
              "      <td>0.000000</td>\n",
              "      <td>14240.000000</td>\n",
              "      <td>15080.000000</td>\n",
              "      <td>0.000000</td>\n",
              "      <td>0.000000</td>\n",
              "      <td>0.000000</td>\n",
              "      <td>0.000000</td>\n",
              "      <td>0.000000</td>\n",
              "      <td>0.000000</td>\n",
              "      <td>...</td>\n",
              "      <td>0.000000</td>\n",
              "      <td>0.000000</td>\n",
              "      <td>1.000000</td>\n",
              "      <td>132.346000</td>\n",
              "      <td>233.000000</td>\n",
              "      <td>0.000000</td>\n",
              "      <td>0.000000</td>\n",
              "      <td>1.000000</td>\n",
              "      <td>-6362.000000</td>\n",
              "      <td>269.700000</td>\n",
              "    </tr>\n",
              "    <tr>\n",
              "      <th>25%</th>\n",
              "      <td>22326.000000</td>\n",
              "      <td>6.000000</td>\n",
              "      <td>22287.000000</td>\n",
              "      <td>22302.500000</td>\n",
              "      <td>0.014746</td>\n",
              "      <td>0.000010</td>\n",
              "      <td>0.000003</td>\n",
              "      <td>0.000002</td>\n",
              "      <td>0.000001</td>\n",
              "      <td>4.400000</td>\n",
              "      <td>...</td>\n",
              "      <td>0.000000</td>\n",
              "      <td>0.000000</td>\n",
              "      <td>12.650000</td>\n",
              "      <td>2549.051000</td>\n",
              "      <td>2365.000000</td>\n",
              "      <td>38.000000</td>\n",
              "      <td>14.500000</td>\n",
              "      <td>162.000000</td>\n",
              "      <td>-2522.500000</td>\n",
              "      <td>279.200000</td>\n",
              "    </tr>\n",
              "    <tr>\n",
              "      <th>50%</th>\n",
              "      <td>26119.000000</td>\n",
              "      <td>10.000000</td>\n",
              "      <td>26074.000000</td>\n",
              "      <td>26103.000000</td>\n",
              "      <td>0.023562</td>\n",
              "      <td>0.000016</td>\n",
              "      <td>0.000004</td>\n",
              "      <td>0.000003</td>\n",
              "      <td>0.000002</td>\n",
              "      <td>5.900000</td>\n",
              "      <td>...</td>\n",
              "      <td>0.000000</td>\n",
              "      <td>0.000000</td>\n",
              "      <td>22.500000</td>\n",
              "      <td>5067.602000</td>\n",
              "      <td>4946.000000</td>\n",
              "      <td>77.000000</td>\n",
              "      <td>21.800000</td>\n",
              "      <td>213.000000</td>\n",
              "      <td>194.000000</td>\n",
              "      <td>283.100000</td>\n",
              "    </tr>\n",
              "    <tr>\n",
              "      <th>75%</th>\n",
              "      <td>31139.000000</td>\n",
              "      <td>264.500000</td>\n",
              "      <td>31091.500000</td>\n",
              "      <td>31084.500000</td>\n",
              "      <td>0.035940</td>\n",
              "      <td>0.000029</td>\n",
              "      <td>0.000009</td>\n",
              "      <td>0.000005</td>\n",
              "      <td>0.000005</td>\n",
              "      <td>7.200000</td>\n",
              "      <td>...</td>\n",
              "      <td>6.900000</td>\n",
              "      <td>0.600000</td>\n",
              "      <td>37.000000</td>\n",
              "      <td>8876.795000</td>\n",
              "      <td>8807.000000</td>\n",
              "      <td>100.000000</td>\n",
              "      <td>30.600000</td>\n",
              "      <td>252.000000</td>\n",
              "      <td>2294.000000</td>\n",
              "      <td>287.300000</td>\n",
              "    </tr>\n",
              "    <tr>\n",
              "      <th>max</th>\n",
              "      <td>45679.000000</td>\n",
              "      <td>1655.000000</td>\n",
              "      <td>46760.000000</td>\n",
              "      <td>45591.000000</td>\n",
              "      <td>0.178960</td>\n",
              "      <td>0.000269</td>\n",
              "      <td>0.000228</td>\n",
              "      <td>0.000234</td>\n",
              "      <td>0.000238</td>\n",
              "      <td>12.200000</td>\n",
              "      <td>...</td>\n",
              "      <td>30.400000</td>\n",
              "      <td>6.300000</td>\n",
              "      <td>64.900000</td>\n",
              "      <td>14135.430000</td>\n",
              "      <td>14115.000000</td>\n",
              "      <td>100.000000</td>\n",
              "      <td>85.500000</td>\n",
              "      <td>360.000000</td>\n",
              "      <td>5906.000000</td>\n",
              "      <td>305.700000</td>\n",
              "    </tr>\n",
              "  </tbody>\n",
              "</table>\n",
              "<p>8 rows × 27 columns</p>\n",
              "</div>\n",
              "      <button class=\"colab-df-convert\" onclick=\"convertToInteractive('df-42bc246e-16cf-48b6-9a1a-c6ce9585dbb3')\"\n",
              "              title=\"Convert this dataframe to an interactive table.\"\n",
              "              style=\"display:none;\">\n",
              "        \n",
              "  <svg xmlns=\"http://www.w3.org/2000/svg\" height=\"24px\"viewBox=\"0 0 24 24\"\n",
              "       width=\"24px\">\n",
              "    <path d=\"M0 0h24v24H0V0z\" fill=\"none\"/>\n",
              "    <path d=\"M18.56 5.44l.94 2.06.94-2.06 2.06-.94-2.06-.94-.94-2.06-.94 2.06-2.06.94zm-11 1L8.5 8.5l.94-2.06 2.06-.94-2.06-.94L8.5 2.5l-.94 2.06-2.06.94zm10 10l.94 2.06.94-2.06 2.06-.94-2.06-.94-.94-2.06-.94 2.06-2.06.94z\"/><path d=\"M17.41 7.96l-1.37-1.37c-.4-.4-.92-.59-1.43-.59-.52 0-1.04.2-1.43.59L10.3 9.45l-7.72 7.72c-.78.78-.78 2.05 0 2.83L4 21.41c.39.39.9.59 1.41.59.51 0 1.02-.2 1.41-.59l7.78-7.78 2.81-2.81c.8-.78.8-2.07 0-2.86zM5.41 20L4 18.59l7.72-7.72 1.47 1.35L5.41 20z\"/>\n",
              "  </svg>\n",
              "      </button>\n",
              "      \n",
              "  <style>\n",
              "    .colab-df-container {\n",
              "      display:flex;\n",
              "      flex-wrap:wrap;\n",
              "      gap: 12px;\n",
              "    }\n",
              "\n",
              "    .colab-df-convert {\n",
              "      background-color: #E8F0FE;\n",
              "      border: none;\n",
              "      border-radius: 50%;\n",
              "      cursor: pointer;\n",
              "      display: none;\n",
              "      fill: #1967D2;\n",
              "      height: 32px;\n",
              "      padding: 0 0 0 0;\n",
              "      width: 32px;\n",
              "    }\n",
              "\n",
              "    .colab-df-convert:hover {\n",
              "      background-color: #E2EBFA;\n",
              "      box-shadow: 0px 1px 2px rgba(60, 64, 67, 0.3), 0px 1px 3px 1px rgba(60, 64, 67, 0.15);\n",
              "      fill: #174EA6;\n",
              "    }\n",
              "\n",
              "    [theme=dark] .colab-df-convert {\n",
              "      background-color: #3B4455;\n",
              "      fill: #D2E3FC;\n",
              "    }\n",
              "\n",
              "    [theme=dark] .colab-df-convert:hover {\n",
              "      background-color: #434B5C;\n",
              "      box-shadow: 0px 1px 3px 1px rgba(0, 0, 0, 0.15);\n",
              "      filter: drop-shadow(0px 1px 2px rgba(0, 0, 0, 0.3));\n",
              "      fill: #FFFFFF;\n",
              "    }\n",
              "  </style>\n",
              "\n",
              "      <script>\n",
              "        const buttonEl =\n",
              "          document.querySelector('#df-42bc246e-16cf-48b6-9a1a-c6ce9585dbb3 button.colab-df-convert');\n",
              "        buttonEl.style.display =\n",
              "          google.colab.kernel.accessAllowed ? 'block' : 'none';\n",
              "\n",
              "        async function convertToInteractive(key) {\n",
              "          const element = document.querySelector('#df-42bc246e-16cf-48b6-9a1a-c6ce9585dbb3');\n",
              "          const dataTable =\n",
              "            await google.colab.kernel.invokeFunction('convertToInteractive',\n",
              "                                                     [key], {});\n",
              "          if (!dataTable) return;\n",
              "\n",
              "          const docLinkHtml = 'Like what you see? Visit the ' +\n",
              "            '<a target=\"_blank\" href=https://colab.research.google.com/notebooks/data_table.ipynb>data table notebook</a>'\n",
              "            + ' to learn more about interactive tables.';\n",
              "          element.innerHTML = '';\n",
              "          dataTable['output_type'] = 'display_data';\n",
              "          await google.colab.output.renderOutput(dataTable, element);\n",
              "          const docLink = document.createElement('div');\n",
              "          docLink.innerHTML = docLinkHtml;\n",
              "          element.appendChild(docLink);\n",
              "        }\n",
              "      </script>\n",
              "    </div>\n",
              "  </div>\n",
              "  "
            ]
          },
          "metadata": {},
          "execution_count": 45
        }
      ]
    },
    {
      "cell_type": "markdown",
      "source": [
        "# Feature engineering\n",
        "## Create the Y (to predict) variable\n",
        "\n",
        "It will be a BOOL on whether the import_export_electricity value will be positive or negative within t + 2h, given:\n",
        "\n",
        "- All the % of current generation types\n",
        "- Total generation value\n",
        "- National demand\n",
        "- Time of the day\n",
        "- Quarter of the year\n",
        "- Day of the week\n",
        "\n",
        "\n",
        "Below, need to create:\n",
        "- A column called `deficit_import_export_in_2h` that is 0 if net production is positive (export > import, -ve flow) or 1 if deficit in production (import > export, +ve flow).\n",
        "This is extracted from [FLOW data](https://https://data.nationalgrideso.com/demand/historic-demand-data/r/historic_demand_data_2019), where -ve signifies export power out from GB and +ve signifies import power into GB."
      ],
      "metadata": {
        "id": "Wi9kP_cecguJ"
      }
    },
    {
      "cell_type": "code",
      "source": [
        "# Create time columns metrics\n",
        "\n",
        "grid_data['datetime_quarter'] = grid_data['Datetime'].dt.quarter\n",
        "grid_data['datetime_day_of_week'] = grid_data['Datetime'].dt.dayofweek\n",
        "grid_data['datetime_time_of_day'] = grid_data['Datetime'].dt.time.apply(lambda t: t.hour * 3600 + t.minute * 60 + t.second)"
      ],
      "metadata": {
        "id": "gKAWMlh9dQ75"
      },
      "execution_count": 46,
      "outputs": []
    },
    {
      "cell_type": "code",
      "source": [
        "# Create the Y predictor (wheter imports are larger than exports) for current time\n",
        "\n",
        "grid_data['deficit_import_export'] = grid_data['import_export_electricity'] > 0\n",
        "grid_data['deficit_import_export']"
      ],
      "metadata": {
        "id": "eGh7y13GdQ1t",
        "outputId": "fa230928-e745-4716-e4f1-5b3173d4d331",
        "colab": {
          "base_uri": "https://localhost:8080/"
        }
      },
      "execution_count": 48,
      "outputs": [
        {
          "output_type": "execute_result",
          "data": {
            "text/plain": [
              "0        True\n",
              "1        True\n",
              "2        True\n",
              "3        True\n",
              "4        True\n",
              "         ... \n",
              "16022    True\n",
              "16023    True\n",
              "16024    True\n",
              "16025    True\n",
              "16026    True\n",
              "Name: deficit_import_export, Length: 16027, dtype: bool"
            ]
          },
          "metadata": {},
          "execution_count": 48
        }
      ]
    },
    {
      "cell_type": "code",
      "source": [
        "# Create the Y predictor (wheter imports are larger than exports) within 2 hours\n",
        "\n",
        "temp_df = grid_data.set_index('Datetime')\n",
        "temp_df['deficit_import_export_in_2h'] = temp_df['deficit_import_export'].shift(freq='2h')\n",
        "#temp_df['deficit_import_export_in_2h'], temp_df['deficit_import_export']\n",
        "\n",
        "grid_data['deficit_import_export_in_2h'] = temp_df['deficit_import_export_in_2h'].values\n",
        "del temp_df\n",
        "import gc\n",
        "gc.collect()\n",
        "\n",
        "grid_data['deficit_import_export_in_2h']"
      ],
      "metadata": {
        "id": "rcl_9D_2dQy2",
        "outputId": "79f3573c-2dbb-4de6-b12b-82456c8b084b",
        "colab": {
          "base_uri": "https://localhost:8080/"
        }
      },
      "execution_count": 50,
      "outputs": [
        {
          "output_type": "execute_result",
          "data": {
            "text/plain": [
              "0          NaN\n",
              "1          NaN\n",
              "2          NaN\n",
              "3          NaN\n",
              "4         True\n",
              "         ...  \n",
              "16022    False\n",
              "16023    False\n",
              "16024    False\n",
              "16025     True\n",
              "16026     True\n",
              "Name: deficit_import_export_in_2h, Length: 16027, dtype: object"
            ]
          },
          "metadata": {},
          "execution_count": 50
        }
      ]
    },
    {
      "cell_type": "code",
      "source": [
        "# Set features of interest\n",
        "\n",
        "columns_of_interest = [\n",
        "    \"deficit_import_export_in_2h\",\n",
        "    \"national_demand\",\n",
        "    \"generation\",\n",
        "    \"fossil_perc\",\n",
        "    \"nuclear_perc\",\n",
        "    \"biomass_perc\",\n",
        "    \"wind_perc\",    \n",
        "    \"solar_perc\",\n",
        "    \"hydro_perc\",\n",
        "    \"storage_perc\",\n",
        "    \"imports_perc\",\n",
        "    \"other_perc\",\n",
        "    \"datetime_quarter\",\n",
        "    \"datetime_day_of_week\",\n",
        "    \"datetime_time_of_day\",\n",
        "]"
      ],
      "metadata": {
        "id": "KpKPdQqokjVJ"
      },
      "execution_count": 51,
      "outputs": []
    },
    {
      "cell_type": "code",
      "source": [
        "grid_subdata = grid_data[columns_of_interest].dropna().reset_index(drop=True)\n",
        "grid_subdata[\"deficit_import_export_in_2h\"] = grid_subdata[\"deficit_import_export_in_2h\"].astype(int)\n",
        "grid_subdata"
      ],
      "metadata": {
        "id": "KU2LZdADlkeF",
        "outputId": "b53cf689-8e8c-4535-ee5b-de226eeb56c5",
        "colab": {
          "base_uri": "https://localhost:8080/",
          "height": 488
        }
      },
      "execution_count": 52,
      "outputs": [
        {
          "output_type": "execute_result",
          "data": {
            "text/plain": [
              "       deficit_import_export_in_2h  national_demand  generation  fossil_perc  \\\n",
              "0                                1            18909     24235.0         11.2   \n",
              "1                                1            18710     25142.0         15.2   \n",
              "2                                1            18399     24990.0         14.2   \n",
              "3                                1            18345     25482.0         15.8   \n",
              "4                                1            18574     25801.0         15.9   \n",
              "...                            ...              ...         ...          ...   \n",
              "16014                            0            25776     30995.0         26.8   \n",
              "16015                            0            24605     28498.0         24.7   \n",
              "16016                            0            23211     26937.0         21.9   \n",
              "16017                            1            21545     25974.0         19.4   \n",
              "16018                            1            20272     25424.0         17.6   \n",
              "\n",
              "       nuclear_perc  biomass_perc  wind_perc  solar_perc  hydro_perc  \\\n",
              "0              23.1           4.7       55.4         0.0         2.1   \n",
              "1              22.3           4.8       54.8         0.0         2.1   \n",
              "2              22.4           4.5       55.6         0.0         2.1   \n",
              "3              22.0           4.3       55.3         0.0         2.0   \n",
              "4              21.7           4.3       55.5         0.0         2.0   \n",
              "...             ...           ...        ...         ...         ...   \n",
              "16014          14.1           3.0       48.2         0.0         1.0   \n",
              "16015          15.3           2.5       50.7         0.0         0.9   \n",
              "16016          16.2           2.7       52.1         0.0         0.9   \n",
              "16017          16.8           2.8       53.7         0.0         0.9   \n",
              "16018          17.1           2.8       54.7         0.0         1.0   \n",
              "\n",
              "       storage_perc  imports_perc  other_perc  datetime_quarter  \\\n",
              "0               0.0           3.0         0.5                 4   \n",
              "1               0.0           0.3         0.6                 4   \n",
              "2               0.0           0.6         0.6                 4   \n",
              "3               0.0           0.0         0.6                 4   \n",
              "4               0.0           0.0         0.5                 4   \n",
              "...             ...           ...         ...               ...   \n",
              "16014           0.0           6.6         0.3                 3   \n",
              "16015           0.0           5.6         0.4                 3   \n",
              "16016           0.0           6.0         0.3                 3   \n",
              "16017           0.0           6.0         0.4                 3   \n",
              "16018           0.0           6.4         0.3                 3   \n",
              "\n",
              "       datetime_day_of_week  datetime_time_of_day  \n",
              "0                         0                  9000  \n",
              "1                         0                 10800  \n",
              "2                         0                 12600  \n",
              "3                         0                 14400  \n",
              "4                         0                 16200  \n",
              "...                     ...                   ...  \n",
              "16014                     4                 77400  \n",
              "16015                     4                 79200  \n",
              "16016                     4                 81000  \n",
              "16017                     4                 82800  \n",
              "16018                     4                 84600  \n",
              "\n",
              "[16019 rows x 15 columns]"
            ],
            "text/html": [
              "\n",
              "  <div id=\"df-dd9ec278-bf98-4a39-bc17-1e66c12eebca\">\n",
              "    <div class=\"colab-df-container\">\n",
              "      <div>\n",
              "<style scoped>\n",
              "    .dataframe tbody tr th:only-of-type {\n",
              "        vertical-align: middle;\n",
              "    }\n",
              "\n",
              "    .dataframe tbody tr th {\n",
              "        vertical-align: top;\n",
              "    }\n",
              "\n",
              "    .dataframe thead th {\n",
              "        text-align: right;\n",
              "    }\n",
              "</style>\n",
              "<table border=\"1\" class=\"dataframe\">\n",
              "  <thead>\n",
              "    <tr style=\"text-align: right;\">\n",
              "      <th></th>\n",
              "      <th>deficit_import_export_in_2h</th>\n",
              "      <th>national_demand</th>\n",
              "      <th>generation</th>\n",
              "      <th>fossil_perc</th>\n",
              "      <th>nuclear_perc</th>\n",
              "      <th>biomass_perc</th>\n",
              "      <th>wind_perc</th>\n",
              "      <th>solar_perc</th>\n",
              "      <th>hydro_perc</th>\n",
              "      <th>storage_perc</th>\n",
              "      <th>imports_perc</th>\n",
              "      <th>other_perc</th>\n",
              "      <th>datetime_quarter</th>\n",
              "      <th>datetime_day_of_week</th>\n",
              "      <th>datetime_time_of_day</th>\n",
              "    </tr>\n",
              "  </thead>\n",
              "  <tbody>\n",
              "    <tr>\n",
              "      <th>0</th>\n",
              "      <td>1</td>\n",
              "      <td>18909</td>\n",
              "      <td>24235.0</td>\n",
              "      <td>11.2</td>\n",
              "      <td>23.1</td>\n",
              "      <td>4.7</td>\n",
              "      <td>55.4</td>\n",
              "      <td>0.0</td>\n",
              "      <td>2.1</td>\n",
              "      <td>0.0</td>\n",
              "      <td>3.0</td>\n",
              "      <td>0.5</td>\n",
              "      <td>4</td>\n",
              "      <td>0</td>\n",
              "      <td>9000</td>\n",
              "    </tr>\n",
              "    <tr>\n",
              "      <th>1</th>\n",
              "      <td>1</td>\n",
              "      <td>18710</td>\n",
              "      <td>25142.0</td>\n",
              "      <td>15.2</td>\n",
              "      <td>22.3</td>\n",
              "      <td>4.8</td>\n",
              "      <td>54.8</td>\n",
              "      <td>0.0</td>\n",
              "      <td>2.1</td>\n",
              "      <td>0.0</td>\n",
              "      <td>0.3</td>\n",
              "      <td>0.6</td>\n",
              "      <td>4</td>\n",
              "      <td>0</td>\n",
              "      <td>10800</td>\n",
              "    </tr>\n",
              "    <tr>\n",
              "      <th>2</th>\n",
              "      <td>1</td>\n",
              "      <td>18399</td>\n",
              "      <td>24990.0</td>\n",
              "      <td>14.2</td>\n",
              "      <td>22.4</td>\n",
              "      <td>4.5</td>\n",
              "      <td>55.6</td>\n",
              "      <td>0.0</td>\n",
              "      <td>2.1</td>\n",
              "      <td>0.0</td>\n",
              "      <td>0.6</td>\n",
              "      <td>0.6</td>\n",
              "      <td>4</td>\n",
              "      <td>0</td>\n",
              "      <td>12600</td>\n",
              "    </tr>\n",
              "    <tr>\n",
              "      <th>3</th>\n",
              "      <td>1</td>\n",
              "      <td>18345</td>\n",
              "      <td>25482.0</td>\n",
              "      <td>15.8</td>\n",
              "      <td>22.0</td>\n",
              "      <td>4.3</td>\n",
              "      <td>55.3</td>\n",
              "      <td>0.0</td>\n",
              "      <td>2.0</td>\n",
              "      <td>0.0</td>\n",
              "      <td>0.0</td>\n",
              "      <td>0.6</td>\n",
              "      <td>4</td>\n",
              "      <td>0</td>\n",
              "      <td>14400</td>\n",
              "    </tr>\n",
              "    <tr>\n",
              "      <th>4</th>\n",
              "      <td>1</td>\n",
              "      <td>18574</td>\n",
              "      <td>25801.0</td>\n",
              "      <td>15.9</td>\n",
              "      <td>21.7</td>\n",
              "      <td>4.3</td>\n",
              "      <td>55.5</td>\n",
              "      <td>0.0</td>\n",
              "      <td>2.0</td>\n",
              "      <td>0.0</td>\n",
              "      <td>0.0</td>\n",
              "      <td>0.5</td>\n",
              "      <td>4</td>\n",
              "      <td>0</td>\n",
              "      <td>16200</td>\n",
              "    </tr>\n",
              "    <tr>\n",
              "      <th>...</th>\n",
              "      <td>...</td>\n",
              "      <td>...</td>\n",
              "      <td>...</td>\n",
              "      <td>...</td>\n",
              "      <td>...</td>\n",
              "      <td>...</td>\n",
              "      <td>...</td>\n",
              "      <td>...</td>\n",
              "      <td>...</td>\n",
              "      <td>...</td>\n",
              "      <td>...</td>\n",
              "      <td>...</td>\n",
              "      <td>...</td>\n",
              "      <td>...</td>\n",
              "      <td>...</td>\n",
              "    </tr>\n",
              "    <tr>\n",
              "      <th>16014</th>\n",
              "      <td>0</td>\n",
              "      <td>25776</td>\n",
              "      <td>30995.0</td>\n",
              "      <td>26.8</td>\n",
              "      <td>14.1</td>\n",
              "      <td>3.0</td>\n",
              "      <td>48.2</td>\n",
              "      <td>0.0</td>\n",
              "      <td>1.0</td>\n",
              "      <td>0.0</td>\n",
              "      <td>6.6</td>\n",
              "      <td>0.3</td>\n",
              "      <td>3</td>\n",
              "      <td>4</td>\n",
              "      <td>77400</td>\n",
              "    </tr>\n",
              "    <tr>\n",
              "      <th>16015</th>\n",
              "      <td>0</td>\n",
              "      <td>24605</td>\n",
              "      <td>28498.0</td>\n",
              "      <td>24.7</td>\n",
              "      <td>15.3</td>\n",
              "      <td>2.5</td>\n",
              "      <td>50.7</td>\n",
              "      <td>0.0</td>\n",
              "      <td>0.9</td>\n",
              "      <td>0.0</td>\n",
              "      <td>5.6</td>\n",
              "      <td>0.4</td>\n",
              "      <td>3</td>\n",
              "      <td>4</td>\n",
              "      <td>79200</td>\n",
              "    </tr>\n",
              "    <tr>\n",
              "      <th>16016</th>\n",
              "      <td>0</td>\n",
              "      <td>23211</td>\n",
              "      <td>26937.0</td>\n",
              "      <td>21.9</td>\n",
              "      <td>16.2</td>\n",
              "      <td>2.7</td>\n",
              "      <td>52.1</td>\n",
              "      <td>0.0</td>\n",
              "      <td>0.9</td>\n",
              "      <td>0.0</td>\n",
              "      <td>6.0</td>\n",
              "      <td>0.3</td>\n",
              "      <td>3</td>\n",
              "      <td>4</td>\n",
              "      <td>81000</td>\n",
              "    </tr>\n",
              "    <tr>\n",
              "      <th>16017</th>\n",
              "      <td>1</td>\n",
              "      <td>21545</td>\n",
              "      <td>25974.0</td>\n",
              "      <td>19.4</td>\n",
              "      <td>16.8</td>\n",
              "      <td>2.8</td>\n",
              "      <td>53.7</td>\n",
              "      <td>0.0</td>\n",
              "      <td>0.9</td>\n",
              "      <td>0.0</td>\n",
              "      <td>6.0</td>\n",
              "      <td>0.4</td>\n",
              "      <td>3</td>\n",
              "      <td>4</td>\n",
              "      <td>82800</td>\n",
              "    </tr>\n",
              "    <tr>\n",
              "      <th>16018</th>\n",
              "      <td>1</td>\n",
              "      <td>20272</td>\n",
              "      <td>25424.0</td>\n",
              "      <td>17.6</td>\n",
              "      <td>17.1</td>\n",
              "      <td>2.8</td>\n",
              "      <td>54.7</td>\n",
              "      <td>0.0</td>\n",
              "      <td>1.0</td>\n",
              "      <td>0.0</td>\n",
              "      <td>6.4</td>\n",
              "      <td>0.3</td>\n",
              "      <td>3</td>\n",
              "      <td>4</td>\n",
              "      <td>84600</td>\n",
              "    </tr>\n",
              "  </tbody>\n",
              "</table>\n",
              "<p>16019 rows × 15 columns</p>\n",
              "</div>\n",
              "      <button class=\"colab-df-convert\" onclick=\"convertToInteractive('df-dd9ec278-bf98-4a39-bc17-1e66c12eebca')\"\n",
              "              title=\"Convert this dataframe to an interactive table.\"\n",
              "              style=\"display:none;\">\n",
              "        \n",
              "  <svg xmlns=\"http://www.w3.org/2000/svg\" height=\"24px\"viewBox=\"0 0 24 24\"\n",
              "       width=\"24px\">\n",
              "    <path d=\"M0 0h24v24H0V0z\" fill=\"none\"/>\n",
              "    <path d=\"M18.56 5.44l.94 2.06.94-2.06 2.06-.94-2.06-.94-.94-2.06-.94 2.06-2.06.94zm-11 1L8.5 8.5l.94-2.06 2.06-.94-2.06-.94L8.5 2.5l-.94 2.06-2.06.94zm10 10l.94 2.06.94-2.06 2.06-.94-2.06-.94-.94-2.06-.94 2.06-2.06.94z\"/><path d=\"M17.41 7.96l-1.37-1.37c-.4-.4-.92-.59-1.43-.59-.52 0-1.04.2-1.43.59L10.3 9.45l-7.72 7.72c-.78.78-.78 2.05 0 2.83L4 21.41c.39.39.9.59 1.41.59.51 0 1.02-.2 1.41-.59l7.78-7.78 2.81-2.81c.8-.78.8-2.07 0-2.86zM5.41 20L4 18.59l7.72-7.72 1.47 1.35L5.41 20z\"/>\n",
              "  </svg>\n",
              "      </button>\n",
              "      \n",
              "  <style>\n",
              "    .colab-df-container {\n",
              "      display:flex;\n",
              "      flex-wrap:wrap;\n",
              "      gap: 12px;\n",
              "    }\n",
              "\n",
              "    .colab-df-convert {\n",
              "      background-color: #E8F0FE;\n",
              "      border: none;\n",
              "      border-radius: 50%;\n",
              "      cursor: pointer;\n",
              "      display: none;\n",
              "      fill: #1967D2;\n",
              "      height: 32px;\n",
              "      padding: 0 0 0 0;\n",
              "      width: 32px;\n",
              "    }\n",
              "\n",
              "    .colab-df-convert:hover {\n",
              "      background-color: #E2EBFA;\n",
              "      box-shadow: 0px 1px 2px rgba(60, 64, 67, 0.3), 0px 1px 3px 1px rgba(60, 64, 67, 0.15);\n",
              "      fill: #174EA6;\n",
              "    }\n",
              "\n",
              "    [theme=dark] .colab-df-convert {\n",
              "      background-color: #3B4455;\n",
              "      fill: #D2E3FC;\n",
              "    }\n",
              "\n",
              "    [theme=dark] .colab-df-convert:hover {\n",
              "      background-color: #434B5C;\n",
              "      box-shadow: 0px 1px 3px 1px rgba(0, 0, 0, 0.15);\n",
              "      filter: drop-shadow(0px 1px 2px rgba(0, 0, 0, 0.3));\n",
              "      fill: #FFFFFF;\n",
              "    }\n",
              "  </style>\n",
              "\n",
              "      <script>\n",
              "        const buttonEl =\n",
              "          document.querySelector('#df-dd9ec278-bf98-4a39-bc17-1e66c12eebca button.colab-df-convert');\n",
              "        buttonEl.style.display =\n",
              "          google.colab.kernel.accessAllowed ? 'block' : 'none';\n",
              "\n",
              "        async function convertToInteractive(key) {\n",
              "          const element = document.querySelector('#df-dd9ec278-bf98-4a39-bc17-1e66c12eebca');\n",
              "          const dataTable =\n",
              "            await google.colab.kernel.invokeFunction('convertToInteractive',\n",
              "                                                     [key], {});\n",
              "          if (!dataTable) return;\n",
              "\n",
              "          const docLinkHtml = 'Like what you see? Visit the ' +\n",
              "            '<a target=\"_blank\" href=https://colab.research.google.com/notebooks/data_table.ipynb>data table notebook</a>'\n",
              "            + ' to learn more about interactive tables.';\n",
              "          element.innerHTML = '';\n",
              "          dataTable['output_type'] = 'display_data';\n",
              "          await google.colab.output.renderOutput(dataTable, element);\n",
              "          const docLink = document.createElement('div');\n",
              "          docLink.innerHTML = docLinkHtml;\n",
              "          element.appendChild(docLink);\n",
              "        }\n",
              "      </script>\n",
              "    </div>\n",
              "  </div>\n",
              "  "
            ]
          },
          "metadata": {},
          "execution_count": 52
        }
      ]
    },
    {
      "cell_type": "markdown",
      "source": [
        "### Renormalisation of the new clean features"
      ],
      "metadata": {
        "id": "TsiCKmVO3UC2"
      }
    },
    {
      "cell_type": "code",
      "execution_count": 53,
      "metadata": {
        "colab": {
          "base_uri": "https://localhost:8080/",
          "height": 902
        },
        "id": "Bpyg9tZVYAbl",
        "outputId": "3fe566df-3f37-4038-a009-95dd9a1bf852"
      },
      "outputs": [
        {
          "output_type": "execute_result",
          "data": {
            "text/plain": [
              "array([[<matplotlib.axes._subplots.AxesSubplot object at 0x7f9988865850>,\n",
              "        <matplotlib.axes._subplots.AxesSubplot object at 0x7f9988851370>,\n",
              "        <matplotlib.axes._subplots.AxesSubplot object at 0x7f9990df9670>,\n",
              "        <matplotlib.axes._subplots.AxesSubplot object at 0x7f9988653460>],\n",
              "       [<matplotlib.axes._subplots.AxesSubplot object at 0x7f9988670ac0>,\n",
              "        <matplotlib.axes._subplots.AxesSubplot object at 0x7f9990b9b100>,\n",
              "        <matplotlib.axes._subplots.AxesSubplot object at 0x7f9990ba80d0>,\n",
              "        <matplotlib.axes._subplots.AxesSubplot object at 0x7f9990b57520>],\n",
              "       [<matplotlib.axes._subplots.AxesSubplot object at 0x7f9990af3ca0>,\n",
              "        <matplotlib.axes._subplots.AxesSubplot object at 0x7f998861d130>,\n",
              "        <matplotlib.axes._subplots.AxesSubplot object at 0x7f99885d74c0>,\n",
              "        <matplotlib.axes._subplots.AxesSubplot object at 0x7f99886068b0>],\n",
              "       [<matplotlib.axes._subplots.AxesSubplot object at 0x7f99885b3ca0>,\n",
              "        <matplotlib.axes._subplots.AxesSubplot object at 0x7f9988560130>,\n",
              "        <matplotlib.axes._subplots.AxesSubplot object at 0x7f998851d4c0>,\n",
              "        <matplotlib.axes._subplots.AxesSubplot object at 0x7f99885497f0>]],\n",
              "      dtype=object)"
            ]
          },
          "metadata": {},
          "execution_count": 53
        },
        {
          "output_type": "display_data",
          "data": {
            "text/plain": [
              "<Figure size 1440x720 with 16 Axes>"
            ],
            "image/png": "[encoded data removed]"
          },
          "metadata": {
            "needs_background": "light"
          }
        }
      ],
      "source": [
        "pd.DataFrame(grid_subdata).hist(figsize=(20, 10))"
      ]
    },
    {
      "cell_type": "code",
      "execution_count": 54,
      "metadata": {
        "id": "ZXyMl_YvYcBV",
        "outputId": "d5fcfa98-bc7b-4340-915f-3ec62cda26a9",
        "colab": {
          "base_uri": "https://localhost:8080/",
          "height": 937
        }
      },
      "outputs": [
        {
          "output_type": "stream",
          "name": "stderr",
          "text": [
            "/usr/local/lib/python3.8/dist-packages/sklearn/preprocessing/_data.py:3253: RuntimeWarning: divide by zero encountered in log\n",
            "  loglike = -n_samples / 2 * np.log(x_trans.var())\n"
          ]
        },
        {
          "output_type": "execute_result",
          "data": {
            "text/plain": [
              "array([[<matplotlib.axes._subplots.AxesSubplot object at 0x7f998819cb50>,\n",
              "        <matplotlib.axes._subplots.AxesSubplot object at 0x7f99881faa00>,\n",
              "        <matplotlib.axes._subplots.AxesSubplot object at 0x7f99880e2730>,\n",
              "        <matplotlib.axes._subplots.AxesSubplot object at 0x7f998810ce50>],\n",
              "       [<matplotlib.axes._subplots.AxesSubplot object at 0x7f99880c35b0>,\n",
              "        <matplotlib.axes._subplots.AxesSubplot object at 0x7f998806dc10>,\n",
              "        <matplotlib.axes._subplots.AxesSubplot object at 0x7f998806dd00>,\n",
              "        <matplotlib.axes._subplots.AxesSubplot object at 0x7f99880244f0>],\n",
              "       [<matplotlib.axes._subplots.AxesSubplot object at 0x7f99880052e0>,\n",
              "        <matplotlib.axes._subplots.AxesSubplot object at 0x7f9987fada00>,\n",
              "        <matplotlib.axes._subplots.AxesSubplot object at 0x7f9987f64160>,\n",
              "        <matplotlib.axes._subplots.AxesSubplot object at 0x7f9987f8e880>],\n",
              "       [<matplotlib.axes._subplots.AxesSubplot object at 0x7f9987f3bfa0>,\n",
              "        <matplotlib.axes._subplots.AxesSubplot object at 0x7f9987ef1700>,\n",
              "        <matplotlib.axes._subplots.AxesSubplot object at 0x7f9987e9ce20>,\n",
              "        <matplotlib.axes._subplots.AxesSubplot object at 0x7f9987e514c0>]],\n",
              "      dtype=object)"
            ]
          },
          "metadata": {},
          "execution_count": 54
        },
        {
          "output_type": "display_data",
          "data": {
            "text/plain": [
              "<Figure size 720x720 with 16 Axes>"
            ],
            "image/png": "[encoded data removed]"
          },
          "metadata": {
            "needs_background": "light"
          }
        }
      ],
      "source": [
        "# Fails because 0 is not positive. Need to shift all col.min() == 0 to not be zero\n",
        "\n",
        "from sklearn.preprocessing import PowerTransformer\n",
        "boxcox_transformer = PowerTransformer(method='yeo-johnson', standardize=False)\n",
        "\n",
        "pd.DataFrame(\n",
        "    boxcox_transformer.fit_transform(grid_subdata),\n",
        "    columns = grid_subdata.columns,\n",
        ").hist(figsize=(10,10))"
      ]
    },
    {
      "cell_type": "code",
      "execution_count": 55,
      "metadata": {
        "id": "cB_UG-3sYvP6",
        "outputId": "a592501e-249a-4032-e6d7-2269e243dbbe",
        "colab": {
          "base_uri": "https://localhost:8080/"
        }
      },
      "outputs": [
        {
          "output_type": "execute_result",
          "data": {
            "text/plain": [
              "array([ 0.34996143, -5.80973112,  0.15234095,  1.27064387, -0.49069781,\n",
              "        1.17397268,  0.45188196, -0.56542994, -0.07495398, -2.33872251,\n",
              "        0.44009815, -2.07591578,  0.46604825,  0.70527235,  0.60509532])"
            ]
          },
          "metadata": {},
          "execution_count": 55
        }
      ],
      "source": [
        "boxcox_transformer.lambdas_"
      ]
    },
    {
      "cell_type": "code",
      "execution_count": 56,
      "metadata": {
        "colab": {
          "base_uri": "https://localhost:8080/",
          "height": 902
        },
        "id": "kB4Ez5diaKQE",
        "outputId": "ef3e2fbe-2781-47da-abc7-fc777d6578c0"
      },
      "outputs": [
        {
          "output_type": "execute_result",
          "data": {
            "text/plain": [
              "array([[<matplotlib.axes._subplots.AxesSubplot object at 0x7f9987cb4f10>,\n",
              "        <matplotlib.axes._subplots.AxesSubplot object at 0x7f9987bb6b50>,\n",
              "        <matplotlib.axes._subplots.AxesSubplot object at 0x7f9987b612e0>,\n",
              "        <matplotlib.axes._subplots.AxesSubplot object at 0x7f9987b89a00>],\n",
              "       [<matplotlib.axes._subplots.AxesSubplot object at 0x7f9987b41160>,\n",
              "        <matplotlib.axes._subplots.AxesSubplot object at 0x7f9987aed7c0>,\n",
              "        <matplotlib.axes._subplots.AxesSubplot object at 0x7f9987aed8b0>,\n",
              "        <matplotlib.axes._subplots.AxesSubplot object at 0x7f9987aa3070>],\n",
              "       [<matplotlib.axes._subplots.AxesSubplot object at 0x7f9987a77e20>,\n",
              "        <matplotlib.axes._subplots.AxesSubplot object at 0x7f9987a2d580>,\n",
              "        <matplotlib.axes._subplots.AxesSubplot object at 0x7f99879d5ca0>,\n",
              "        <matplotlib.axes._subplots.AxesSubplot object at 0x7f9987a0d400>],\n",
              "       [<matplotlib.axes._subplots.AxesSubplot object at 0x7f99879b8b20>,\n",
              "        <matplotlib.axes._subplots.AxesSubplot object at 0x7f9987971280>,\n",
              "        <matplotlib.axes._subplots.AxesSubplot object at 0x7f998791a9a0>,\n",
              "        <matplotlib.axes._subplots.AxesSubplot object at 0x7f99878d2070>]],\n",
              "      dtype=object)"
            ]
          },
          "metadata": {},
          "execution_count": 56
        },
        {
          "output_type": "display_data",
          "data": {
            "text/plain": [
              "<Figure size 720x720 with 16 Axes>"
            ],
            "image/png": "[encoded data removed]"
          },
          "metadata": {
            "needs_background": "light"
          }
        }
      ],
      "source": [
        "from sklearn.preprocessing import StandardScaler, MinMaxScaler\n",
        "pd.DataFrame(StandardScaler().fit_transform(grid_subdata), columns=grid_subdata.columns\n",
        "    ).hist(figsize=(10,10))\n"
      ]
    },
    {
      "cell_type": "code",
      "execution_count": 57,
      "metadata": {
        "colab": {
          "base_uri": "https://localhost:8080/",
          "height": 902
        },
        "id": "nzU8VxEAaNS5",
        "outputId": "cc374c5b-95a6-4d7a-e02b-8cf838e1a46c"
      },
      "outputs": [
        {
          "output_type": "execute_result",
          "data": {
            "text/plain": [
              "array([[<matplotlib.axes._subplots.AxesSubplot object at 0x7f9987731d60>,\n",
              "        <matplotlib.axes._subplots.AxesSubplot object at 0x7f9987621280>,\n",
              "        <matplotlib.axes._subplots.AxesSubplot object at 0x7f998762e430>,\n",
              "        <matplotlib.axes._subplots.AxesSubplot object at 0x7f9987cb4670>],\n",
              "       [<matplotlib.axes._subplots.AxesSubplot object at 0x7f9987550df0>,\n",
              "        <matplotlib.axes._subplots.AxesSubplot object at 0x7f998758a160>,\n",
              "        <matplotlib.axes._subplots.AxesSubplot object at 0x7f998758a250>,\n",
              "        <matplotlib.axes._subplots.AxesSubplot object at 0x7f9987537790>],\n",
              "       [<matplotlib.axes._subplots.AxesSubplot object at 0x7f9987493ee0>,\n",
              "        <matplotlib.axes._subplots.AxesSubplot object at 0x7f99874ce310>,\n",
              "        <matplotlib.axes._subplots.AxesSubplot object at 0x7f998747b700>,\n",
              "        <matplotlib.axes._subplots.AxesSubplot object at 0x7f9987428af0>],\n",
              "       [<matplotlib.axes._subplots.AxesSubplot object at 0x7f99873d7ee0>,\n",
              "        <matplotlib.axes._subplots.AxesSubplot object at 0x7f9987390310>,\n",
              "        <matplotlib.axes._subplots.AxesSubplot object at 0x7f99873bd700>,\n",
              "        <matplotlib.axes._subplots.AxesSubplot object at 0x7f998736aa30>]],\n",
              "      dtype=object)"
            ]
          },
          "metadata": {},
          "execution_count": 57
        },
        {
          "output_type": "display_data",
          "data": {
            "text/plain": [
              "<Figure size 720x720 with 16 Axes>"
            ],
            "image/png": "[encoded data removed]"
          },
          "metadata": {
            "needs_background": "light"
          }
        }
      ],
      "source": [
        "pd.DataFrame(\n",
        "    MinMaxScaler().fit_transform(grid_subdata),\n",
        "    columns=grid_subdata.columns,\n",
        "    ).hist(figsize=(10,10))"
      ]
    },
    {
      "cell_type": "markdown",
      "source": [
        "# Prediction model"
      ],
      "metadata": {
        "id": "XK8YJtkKp22K"
      }
    },
    {
      "cell_type": "markdown",
      "metadata": {
        "id": "AzMthe85tAAv"
      },
      "source": [
        "## Start of the data splitting"
      ]
    },
    {
      "cell_type": "code",
      "execution_count": 58,
      "metadata": {
        "id": "_c1dM9FWT_J1",
        "outputId": "5a3ded88-5c21-41bb-baac-3a4462eabf2d",
        "colab": {
          "base_uri": "https://localhost:8080/"
        }
      },
      "outputs": [
        {
          "output_type": "stream",
          "name": "stdout",
          "text": [
            "train n = 12815, test n = 3204\n"
          ]
        }
      ],
      "source": [
        "from sklearn.model_selection import train_test_split\n",
        "X, y = grid_subdata.drop(['deficit_import_export_in_2h'], axis=1), grid_subdata['deficit_import_export_in_2h']\n",
        "x_train, x_test, y_train, y_test = train_test_split(\n",
        "    X, y, stratify=y, random_state=0, test_size=.2\n",
        ")\n",
        "\n",
        "print(f\"train n = {len(x_train)}, test n = {len(x_test)}\")"
      ]
    },
    {
      "cell_type": "code",
      "execution_count": 59,
      "metadata": {
        "id": "7s0KNnt3edkF"
      },
      "outputs": [],
      "source": [
        "# Tree classifier model with an optimiser using grid search on the hyperparameters (like depth. estimators and criterion)\n",
        "from sklearn.ensemble import ExtraTreesClassifier\n",
        "from sklearn.model_selection import GridSearchCV\n",
        "from sklearn.metrics import classification_report\n",
        "\n",
        "def simple_grid_search(\n",
        "    x_train, y_train, x_test, y_test, feature_engineering_pipeline):\n",
        "    '''\n",
        "    simple helper function to grid search an\n",
        "    ExtraTreesClassifier model and print out a classification report\n",
        "    for the best model where best here is defined as having\n",
        "    the best cross-validated accuracy on the training set\n",
        "    '''\n",
        "    params = {  # some simple parameters to grid search\n",
        "        'max_depth': [10, None],\n",
        "        'n_estimators': [10, 50, 100, 500],\n",
        "        'criterion': ['gini', 'entropy']\n",
        "    }\n",
        "    base_model = ExtraTreesClassifier()\n",
        "    model_grid_search = GridSearchCV(base_model, param_grid=params, cv=3)\n",
        "    start_time = time.time()  # capture the start time\n",
        "    # fit FE pipeline to training data and use it to transform test data\n",
        "    if feature_engineering_pipeline:\n",
        "        parsed_x_train = feature_engineering_pipeline.fit_transform(\n",
        "            x_train, y_train)\n",
        "        parsed_x_test = feature_engineering_pipeline.transform(x_test)\n",
        "    else:\n",
        "      parsed_x_train = x_train\n",
        "      parsed_x_test = x_test\n",
        "    parse_time = time.time()\n",
        "    print(f\"Parsing took {(parse_time - start_time):.2f} seconds\")\n",
        "    # Creates the model\n",
        "    model_grid_search.fit(parsed_x_train, y_train)\n",
        "    fit_time = time.time()\n",
        "    print(f\"Training took {(fit_time - start_time):.2f} seconds\")\n",
        "    best_model = model_grid_search.best_estimator_\n",
        "    print(classification_report(\n",
        "        y_true=y_test, y_pred=best_model.predict(parsed_x_test)))\n",
        "    end_time = time.time()\n",
        "    print(f\"Overall took {(end_time - start_time):.2f} seconds\")\n",
        "    return best_model"
      ]
    },
    {
      "cell_type": "markdown",
      "metadata": {
        "id": "7lC0i1d1iBLV"
      },
      "source": [
        "Precision: True positives / predicted positives\n",
        "\n",
        "Sensitivity: True positives / all positive cases"
      ]
    },
    {
      "cell_type": "code",
      "execution_count": 60,
      "metadata": {
        "id": "tl0wQJGmhqSU"
      },
      "outputs": [],
      "source": [
        "from sklearn.preprocessing import FunctionTransformer\n",
        "from sklearn.pipeline import Pipeline, FeatureUnion\n",
        "\n",
        "numerical_columns = [\n",
        "    'national_demand',\n",
        "    'generation',\n",
        "    'fossil_perc',\n",
        "    'nuclear_perc',\n",
        "    'biomass_perc',\n",
        "    'wind_perc',\n",
        "    'solar_perc',\n",
        "    'hydro_perc',\n",
        "    'storage_perc',\n",
        "    'imports_perc',\n",
        "    'other_perc',\n",
        "]\n",
        "\n",
        "datetime_columns = [\n",
        "    'datetime_quarter',\n",
        "    'datetime_day_of_week',\n",
        "    'datetime_time_of_day'\n",
        "]"
      ]
    },
    {
      "cell_type": "code",
      "source": [
        "# Run the baseline\n",
        "simple_grid_search(x_train, y_train, x_test, y_test, feature_engineering_pipeline= None)"
      ],
      "metadata": {
        "id": "5xcWniDPL4eT",
        "outputId": "8c7382e4-5ce5-4595-fd30-c38fd5a9b1dd",
        "colab": {
          "base_uri": "https://localhost:8080/"
        }
      },
      "execution_count": 84,
      "outputs": [
        {
          "output_type": "stream",
          "name": "stdout",
          "text": [
            "Parsing took 0.00 seconds\n",
            "Training took 71.21 seconds\n",
            "              precision    recall  f1-score   support\n",
            "\n",
            "           0       0.96      0.95      0.96      1537\n",
            "           1       0.96      0.97      0.96      1667\n",
            "\n",
            "    accuracy                           0.96      3204\n",
            "   macro avg       0.96      0.96      0.96      3204\n",
            "weighted avg       0.96      0.96      0.96      3204\n",
            "\n",
            "Overall took 71.70 seconds\n"
          ]
        },
        {
          "output_type": "execute_result",
          "data": {
            "text/plain": [
              "ExtraTreesClassifier(criterion='entropy', n_estimators=500)"
            ]
          },
          "metadata": {},
          "execution_count": 84
        }
      ]
    },
    {
      "cell_type": "code",
      "source": [
        "from sklearn.impute import SimpleImputer\n",
        "# Select only numerical descriptors\n",
        "numerical_pipeline = Pipeline(\n",
        "    [\n",
        "        ('select_numerical_features', FunctionTransformer(lambda df:\n",
        "df[numerical_columns])),\n",
        "        ('impute', SimpleImputer(strategy='constant', fill_value=0)),\n",
        "        ('scale', MinMaxScaler())\n",
        "    ]\n",
        ")"
      ],
      "metadata": {
        "id": "LLl3862xJKA2"
      },
      "execution_count": 85,
      "outputs": []
    },
    {
      "cell_type": "code",
      "source": [
        "# Run the test with the engineered features\n",
        "simple_grid_search(x_train, y_train, x_test, y_test, numerical_pipeline)"
      ],
      "metadata": {
        "id": "fd8LOZdoF1XC",
        "outputId": "ba12f74d-cb60-4b35-c32c-2ade0ee231bc",
        "colab": {
          "base_uri": "https://localhost:8080/"
        }
      },
      "execution_count": 86,
      "outputs": [
        {
          "output_type": "stream",
          "name": "stdout",
          "text": [
            "Parsing took 0.02 seconds\n",
            "Training took 55.34 seconds\n",
            "              precision    recall  f1-score   support\n",
            "\n",
            "           0       0.95      0.93      0.94      1537\n",
            "           1       0.93      0.95      0.94      1667\n",
            "\n",
            "    accuracy                           0.94      3204\n",
            "   macro avg       0.94      0.94      0.94      3204\n",
            "weighted avg       0.94      0.94      0.94      3204\n",
            "\n",
            "Overall took 55.45 seconds\n"
          ]
        },
        {
          "output_type": "execute_result",
          "data": {
            "text/plain": [
              "ExtraTreesClassifier()"
            ]
          },
          "metadata": {},
          "execution_count": 86
        }
      ]
    },
    {
      "cell_type": "code",
      "execution_count": 63,
      "metadata": {
        "id": "BQFL1jhGkIkO"
      },
      "outputs": [],
      "source": [
        "from sklearn.impute import SimpleImputer\n",
        "# Select only numerical descriptors\n",
        "numerical_pipeline = Pipeline(\n",
        "    [\n",
        "        ('select_numerical_features', FunctionTransformer(lambda df:\n",
        "df[numerical_columns])),\n",
        "        ('impute', SimpleImputer(strategy='constant', fill_value=0)),\n",
        "        ('scale', StandardScaler())\n",
        "    ]\n",
        ")\n"
      ]
    },
    {
      "cell_type": "code",
      "execution_count": 64,
      "metadata": {
        "colab": {
          "base_uri": "https://localhost:8080/"
        },
        "id": "UG_zv-U0kGUC",
        "outputId": "374548ba-f5f3-4a65-92f9-a4cf0b2f7b01"
      },
      "outputs": [
        {
          "output_type": "stream",
          "name": "stdout",
          "text": [
            "Parsing took 0.02 seconds\n",
            "Training took 53.84 seconds\n",
            "              precision    recall  f1-score   support\n",
            "\n",
            "           0       0.95      0.93      0.94      1537\n",
            "           1       0.94      0.95      0.94      1667\n",
            "\n",
            "    accuracy                           0.94      3204\n",
            "   macro avg       0.94      0.94      0.94      3204\n",
            "weighted avg       0.94      0.94      0.94      3204\n",
            "\n",
            "Overall took 53.95 seconds\n"
          ]
        },
        {
          "output_type": "execute_result",
          "data": {
            "text/plain": [
              "ExtraTreesClassifier(criterion='entropy')"
            ]
          },
          "metadata": {},
          "execution_count": 64
        }
      ],
      "source": [
        "# This is a data-centric approach because you cannot change the model in this function (it's hard coded). All you can change is the data and the data pipeline\n",
        "simple_grid_search(x_train, y_train, x_test, y_test, numerical_pipeline)"
      ]
    },
    {
      "cell_type": "code",
      "source": [
        "datetime_pipeline = Pipeline(\n",
        "    [\n",
        "        ('select_datetime_features', FunctionTransformer(lambda df:\n",
        "df[datetime_columns])),\n",
        "        ('impute', SimpleImputer(strategy='constant', fill_value=0)),\n",
        "        #('minmaxscale', MinMaxScaler())\n",
        "    ]\n",
        ")"
      ],
      "metadata": {
        "id": "Sl8WIaeWzq8V"
      },
      "execution_count": 81,
      "outputs": []
    },
    {
      "cell_type": "code",
      "source": [
        "simple_grid_search(x_train, y_train, x_test, y_test, datetime_pipeline)"
      ],
      "metadata": {
        "colab": {
          "base_uri": "https://localhost:8080/"
        },
        "id": "EADBw5r7zyak",
        "outputId": "32b115c9-c1aa-4b59-ce89-9231ce3b5351"
      },
      "execution_count": 83,
      "outputs": [
        {
          "output_type": "stream",
          "name": "stdout",
          "text": [
            "Parsing took 0.04 seconds\n",
            "Training took 47.10 seconds\n",
            "              precision    recall  f1-score   support\n",
            "\n",
            "           0       0.81      0.87      0.84      1537\n",
            "           1       0.87      0.81      0.84      1667\n",
            "\n",
            "    accuracy                           0.84      3204\n",
            "   macro avg       0.84      0.84      0.84      3204\n",
            "weighted avg       0.84      0.84      0.84      3204\n",
            "\n",
            "Overall took 47.21 seconds\n"
          ]
        },
        {
          "output_type": "execute_result",
          "data": {
            "text/plain": [
              "ExtraTreesClassifier(max_depth=10)"
            ]
          },
          "metadata": {},
          "execution_count": 83
        }
      ]
    },
    {
      "cell_type": "code",
      "source": [
        "datetime_pipeline = Pipeline(\n",
        "    [\n",
        "        ('select_datetime_features', FunctionTransformer(lambda df:\n",
        "df[datetime_columns])),\n",
        "        ('impute', SimpleImputer(strategy='constant', fill_value=0)),\n",
        "        ('scale', StandardScaler()),\n",
        "        ('minmaxscale', MinMaxScaler()),\n",
        "    ]\n",
        ")"
      ],
      "metadata": {
        "id": "VoI9x94L0i1e"
      },
      "execution_count": 67,
      "outputs": []
    },
    {
      "cell_type": "code",
      "source": [
        "simple_grid_search(x_train, y_train, x_test, y_test, numerical_pipeline)"
      ],
      "metadata": {
        "outputId": "eb9c95f2-f21f-426c-ba01-66f9d908dea9",
        "colab": {
          "base_uri": "https://localhost:8080/"
        },
        "id": "_11lu0Om0i1f"
      },
      "execution_count": 68,
      "outputs": [
        {
          "output_type": "stream",
          "name": "stdout",
          "text": [
            "Parsing took 0.02 seconds\n",
            "Training took 58.44 seconds\n",
            "              precision    recall  f1-score   support\n",
            "\n",
            "           0       0.95      0.93      0.94      1537\n",
            "           1       0.94      0.95      0.94      1667\n",
            "\n",
            "    accuracy                           0.94      3204\n",
            "   macro avg       0.94      0.94      0.94      3204\n",
            "weighted avg       0.94      0.94      0.94      3204\n",
            "\n",
            "Overall took 58.95 seconds\n"
          ]
        },
        {
          "output_type": "execute_result",
          "data": {
            "text/plain": [
              "ExtraTreesClassifier(criterion='entropy', n_estimators=500)"
            ]
          },
          "metadata": {},
          "execution_count": 68
        }
      ]
    },
    {
      "cell_type": "code",
      "source": [
        "# Select only datetime descriptors\n",
        "datetime_pipeline = Pipeline(\n",
        "    [\n",
        "        ('select_datetime_features', FunctionTransformer(lambda df:\n",
        "df[datetime_columns])),\n",
        "        ('impute', SimpleImputer(strategy='constant', fill_value=0)),\n",
        "        ('scale', StandardScaler())\n",
        "    ]\n",
        ")"
      ],
      "metadata": {
        "id": "AvwgCl09vAai"
      },
      "execution_count": 69,
      "outputs": []
    },
    {
      "cell_type": "code",
      "source": [
        "simple_grid_search(x_train, y_train, x_test, y_test, datetime_pipeline)"
      ],
      "metadata": {
        "colab": {
          "base_uri": "https://localhost:8080/"
        },
        "id": "esszlRR9vUBF",
        "outputId": "8a880671-92e2-40ba-c29c-8999cb3d1a59"
      },
      "execution_count": 70,
      "outputs": [
        {
          "output_type": "stream",
          "name": "stdout",
          "text": [
            "Parsing took 0.02 seconds\n",
            "Training took 37.76 seconds\n",
            "              precision    recall  f1-score   support\n",
            "\n",
            "           0       0.81      0.87      0.84      1537\n",
            "           1       0.87      0.81      0.84      1667\n",
            "\n",
            "    accuracy                           0.84      3204\n",
            "   macro avg       0.84      0.84      0.84      3204\n",
            "weighted avg       0.84      0.84      0.84      3204\n",
            "\n",
            "Overall took 38.10 seconds\n"
          ]
        },
        {
          "output_type": "execute_result",
          "data": {
            "text/plain": [
              "ExtraTreesClassifier(criterion='entropy', max_depth=10, n_estimators=500)"
            ]
          },
          "metadata": {},
          "execution_count": 70
        }
      ]
    },
    {
      "cell_type": "code",
      "source": [
        "# Select only datetime descriptors\n",
        "datetime_pipeline = Pipeline(\n",
        "    [\n",
        "        ('select_datetime_features', FunctionTransformer(lambda df:\n",
        "df[datetime_columns])),\n",
        "        ('impute', SimpleImputer(strategy='constant', fill_value=0)),\n",
        "        ('scale', StandardScaler()),\n",
        "        ('ordinal_bins', KBinsDiscretizer(n_bins=6, encode='ordinal',strategy='kmeans'))\n",
        "    ]\n",
        ")"
      ],
      "metadata": {
        "id": "ClefmznR1IQC"
      },
      "execution_count": 71,
      "outputs": []
    },
    {
      "cell_type": "code",
      "source": [
        "simple_grid_search(x_train, y_train, x_test, y_test, datetime_pipeline)"
      ],
      "metadata": {
        "outputId": "1f8db5bf-ce51-47d4-b785-8c5021ae0a7e",
        "colab": {
          "base_uri": "https://localhost:8080/"
        },
        "id": "H7uRhA8M1IQD"
      },
      "execution_count": 72,
      "outputs": [
        {
          "output_type": "stream",
          "name": "stdout",
          "text": [
            "Parsing took 0.05 seconds\n"
          ]
        },
        {
          "output_type": "stream",
          "name": "stderr",
          "text": [
            "/usr/local/lib/python3.8/dist-packages/sklearn/preprocessing/_discretization.py:219: ConvergenceWarning: Number of distinct clusters (4) found smaller than n_clusters (6). Possibly due to duplicate points in X.\n",
            "  centers = km.fit(column[:, None]).cluster_centers_[:, 0]\n",
            "/usr/local/lib/python3.8/dist-packages/sklearn/preprocessing/_discretization.py:230: UserWarning: Bins whose width are too small (i.e., <= 1e-8) in feature 0 are removed. Consider decreasing the number of bins.\n",
            "  warnings.warn(\n"
          ]
        },
        {
          "output_type": "stream",
          "name": "stdout",
          "text": [
            "Training took 27.62 seconds\n",
            "              precision    recall  f1-score   support\n",
            "\n",
            "           0       0.81      0.87      0.84      1537\n",
            "           1       0.87      0.81      0.84      1667\n",
            "\n",
            "    accuracy                           0.84      3204\n",
            "   macro avg       0.84      0.84      0.84      3204\n",
            "weighted avg       0.84      0.84      0.84      3204\n",
            "\n",
            "Overall took 27.64 seconds\n"
          ]
        },
        {
          "output_type": "execute_result",
          "data": {
            "text/plain": [
              "ExtraTreesClassifier(max_depth=10, n_estimators=10)"
            ]
          },
          "metadata": {},
          "execution_count": 72
        }
      ]
    },
    {
      "cell_type": "code",
      "execution_count": 73,
      "metadata": {
        "id": "MeksaIqZkU5H"
      },
      "outputs": [],
      "source": [
        "simple_fe = FeatureUnion([\n",
        "    ('datetime_pipeline', datetime_pipeline),\n",
        "    ('numerical_pipeline', numerical_pipeline)\n",
        "])"
      ]
    },
    {
      "cell_type": "code",
      "execution_count": 74,
      "metadata": {
        "colab": {
          "base_uri": "https://localhost:8080/"
        },
        "id": "ZRrP5TOjkX17",
        "outputId": "403189d5-3781-4e06-d50d-8117e2242243"
      },
      "outputs": [
        {
          "output_type": "stream",
          "name": "stdout",
          "text": [
            "Parsing took 0.04 seconds\n"
          ]
        },
        {
          "output_type": "stream",
          "name": "stderr",
          "text": [
            "/usr/local/lib/python3.8/dist-packages/sklearn/preprocessing/_discretization.py:219: ConvergenceWarning: Number of distinct clusters (4) found smaller than n_clusters (6). Possibly due to duplicate points in X.\n",
            "  centers = km.fit(column[:, None]).cluster_centers_[:, 0]\n",
            "/usr/local/lib/python3.8/dist-packages/sklearn/preprocessing/_discretization.py:230: UserWarning: Bins whose width are too small (i.e., <= 1e-8) in feature 0 are removed. Consider decreasing the number of bins.\n",
            "  warnings.warn(\n"
          ]
        },
        {
          "output_type": "stream",
          "name": "stdout",
          "text": [
            "Training took 57.91 seconds\n",
            "              precision    recall  f1-score   support\n",
            "\n",
            "           0       0.96      0.95      0.96      1537\n",
            "           1       0.96      0.97      0.96      1667\n",
            "\n",
            "    accuracy                           0.96      3204\n",
            "   macro avg       0.96      0.96      0.96      3204\n",
            "weighted avg       0.96      0.96      0.96      3204\n",
            "\n",
            "Overall took 58.40 seconds\n"
          ]
        }
      ],
      "source": [
        "best_model = simple_grid_search(x_train, y_train, x_test, y_test, simple_fe)"
      ]
    },
    {
      "cell_type": "code",
      "source": [
        "%pip install feature_engine"
      ],
      "metadata": {
        "id": "0qCHJPFzxX6L",
        "outputId": "3a98417b-d21d-4d98-f408-560b007fd70c",
        "colab": {
          "base_uri": "https://localhost:8080/"
        }
      },
      "execution_count": 75,
      "outputs": [
        {
          "output_type": "stream",
          "name": "stdout",
          "text": [
            "Looking in indexes: https://pypi.org/simple, https://us-python.pkg.dev/colab-wheels/public/simple/\n",
            "Collecting feature_engine\n",
            "  Downloading feature_engine-1.5.2-py2.py3-none-any.whl (290 kB)\n",
            "\u001b[K     |████████████████████████████████| 290 kB 4.9 MB/s \n",
            "\u001b[?25hRequirement already satisfied: pandas>=1.0.3 in /usr/local/lib/python3.8/dist-packages (from feature_engine) (1.3.5)\n",
            "Requirement already satisfied: numpy>=1.18.2 in /usr/local/lib/python3.8/dist-packages (from feature_engine) (1.21.6)\n",
            "Requirement already satisfied: scipy>=1.4.1 in /usr/local/lib/python3.8/dist-packages (from feature_engine) (1.7.3)\n",
            "Requirement already satisfied: scikit-learn>=1.0.0 in /usr/local/lib/python3.8/dist-packages (from feature_engine) (1.0.2)\n",
            "Requirement already satisfied: statsmodels>=0.11.1 in /usr/local/lib/python3.8/dist-packages (from feature_engine) (0.12.2)\n",
            "Requirement already satisfied: python-dateutil>=2.7.3 in /usr/local/lib/python3.8/dist-packages (from pandas>=1.0.3->feature_engine) (2.8.2)\n",
            "Requirement already satisfied: pytz>=2017.3 in /usr/local/lib/python3.8/dist-packages (from pandas>=1.0.3->feature_engine) (2022.6)\n",
            "Requirement already satisfied: six>=1.5 in /usr/local/lib/python3.8/dist-packages (from python-dateutil>=2.7.3->pandas>=1.0.3->feature_engine) (1.15.0)\n",
            "Requirement already satisfied: joblib>=0.11 in /usr/local/lib/python3.8/dist-packages (from scikit-learn>=1.0.0->feature_engine) (1.2.0)\n",
            "Requirement already satisfied: threadpoolctl>=2.0.0 in /usr/local/lib/python3.8/dist-packages (from scikit-learn>=1.0.0->feature_engine) (3.1.0)\n",
            "Requirement already satisfied: patsy>=0.5 in /usr/local/lib/python3.8/dist-packages (from statsmodels>=0.11.1->feature_engine) (0.5.3)\n",
            "Installing collected packages: feature-engine\n",
            "Successfully installed feature-engine-1.5.2\n"
          ]
        }
      ]
    },
    {
      "cell_type": "code",
      "execution_count": 76,
      "metadata": {
        "id": "UT-XW2fdkgYO"
      },
      "outputs": [],
      "source": [
        "from feature_engine.imputation import EndTailImputer\n",
        "from sklearn.preprocessing import PowerTransformer\n",
        "numerical_pipeline = Pipeline([\n",
        "    ('select_numerical_features', FunctionTransformer(lambda df: df[numerical_columns])),\n",
        "    ('Box–Cox', PowerTransformer(method='yeo-johnson', standardize=True)),\n",
        "    ('turn_into_df', FunctionTransformer(lambda matrix: pd.DataFrame(matrix))), # turn back into dataframe\n",
        "    ('end_of_tail', EndTailImputer(imputation_method='gaussian'))\n",
        "])"
      ]
    },
    {
      "cell_type": "code",
      "execution_count": 77,
      "metadata": {
        "colab": {
          "base_uri": "https://localhost:8080/"
        },
        "id": "1ZGFsvyLmOyB",
        "outputId": "d0014b9f-9ef9-4464-b72f-f28afb105d68"
      },
      "outputs": [
        {
          "output_type": "stream",
          "name": "stderr",
          "text": [
            "/usr/local/lib/python3.8/dist-packages/sklearn/preprocessing/_data.py:3253: RuntimeWarning: divide by zero encountered in log\n",
            "  loglike = -n_samples / 2 * np.log(x_trans.var())\n"
          ]
        },
        {
          "output_type": "stream",
          "name": "stdout",
          "text": [
            "Parsing took 0.39 seconds\n",
            "Training took 63.17 seconds\n",
            "              precision    recall  f1-score   support\n",
            "\n",
            "           0       0.94      0.92      0.93      1537\n",
            "           1       0.93      0.95      0.94      1667\n",
            "\n",
            "    accuracy                           0.93      3204\n",
            "   macro avg       0.94      0.93      0.93      3204\n",
            "weighted avg       0.93      0.93      0.93      3204\n",
            "\n",
            "Overall took 63.68 seconds\n"
          ]
        }
      ],
      "source": [
        "best_model = simple_grid_search(x_train, y_train, x_test, y_test, numerical_pipeline)"
      ]
    },
    {
      "cell_type": "code",
      "execution_count": 78,
      "metadata": {
        "id": "5Pcp5D5DmQ68"
      },
      "outputs": [],
      "source": [
        "numerical_pipeline = Pipeline([\n",
        "    ('select_numerical_features', FunctionTransformer(lambda df: df[numerical_columns])),\n",
        "    ('Box–Cox', PowerTransformer(method='yeo-johnson', standardize=True)),\n",
        "    ('turn_into_df', FunctionTransformer(lambda matrix: pd.DataFrame(matrix))), # turn back into dataframe\n",
        "    ('end_of_tail', EndTailImputer(imputation_method='gaussian')),\n",
        "    ('ordinal_bins', KBinsDiscretizer(n_bins=50, encode='ordinal',strategy='kmeans'))\n",
        "])"
      ]
    },
    {
      "cell_type": "code",
      "execution_count": 79,
      "metadata": {
        "colab": {
          "base_uri": "https://localhost:8080/"
        },
        "id": "NjwObcubmsV7",
        "outputId": "0e468415-f087-4f5b-cb10-48f116fd5ce9"
      },
      "outputs": [
        {
          "output_type": "stream",
          "name": "stdout",
          "text": [
            "Parsing took 0.10 seconds\n"
          ]
        },
        {
          "output_type": "stream",
          "name": "stderr",
          "text": [
            "/usr/local/lib/python3.8/dist-packages/sklearn/preprocessing/_discretization.py:219: ConvergenceWarning: Number of distinct clusters (4) found smaller than n_clusters (6). Possibly due to duplicate points in X.\n",
            "  centers = km.fit(column[:, None]).cluster_centers_[:, 0]\n",
            "/usr/local/lib/python3.8/dist-packages/sklearn/preprocessing/_discretization.py:230: UserWarning: Bins whose width are too small (i.e., <= 1e-8) in feature 0 are removed. Consider decreasing the number of bins.\n",
            "  warnings.warn(\n"
          ]
        },
        {
          "output_type": "stream",
          "name": "stdout",
          "text": [
            "Training took 66.76 seconds\n",
            "              precision    recall  f1-score   support\n",
            "\n",
            "           0       0.96      0.95      0.96      1537\n",
            "           1       0.96      0.97      0.96      1667\n",
            "\n",
            "    accuracy                           0.96      3204\n",
            "   macro avg       0.96      0.96      0.96      3204\n",
            "weighted avg       0.96      0.96      0.96      3204\n",
            "\n",
            "Overall took 67.25 seconds\n"
          ]
        }
      ],
      "source": [
        "best_model = simple_grid_search(x_train, y_train, x_test, y_test, simple_fe)"
      ]
    },
    {
      "cell_type": "markdown",
      "source": [
        " Select the best model combinations:"
      ],
      "metadata": {
        "id": "5rnpbCkPyp2Y"
      }
    },
    {
      "cell_type": "code",
      "execution_count": 80,
      "metadata": {
        "id": "RA7psKm4qSe-",
        "outputId": "833d155b-90b2-4390-c0e4-9838cda75982",
        "colab": {
          "base_uri": "https://localhost:8080/",
          "height": 236
        }
      },
      "outputs": [
        {
          "output_type": "error",
          "ename": "NameError",
          "evalue": "ignored",
          "traceback": [
            "\u001b[0;31m---------------------------------------------------------------------------\u001b[0m",
            "\u001b[0;31mNameError\u001b[0m                                 Traceback (most recent call last)",
            "\u001b[0;32m<ipython-input-80-ee958064734b>\u001b[0m in \u001b[0;36m<module>\u001b[0;34m\u001b[0m\n\u001b[1;32m      1\u001b[0m simple_fe = FeatureUnion([\n\u001b[0;32m----> 2\u001b[0;31m     \u001b[0;34m(\u001b[0m\u001b[0;34m'risk_factors'\u001b[0m\u001b[0;34m,\u001b[0m \u001b[0mrisk_factor_pipeline\u001b[0m\u001b[0;34m)\u001b[0m\u001b[0;34m,\u001b[0m\u001b[0;34m\u001b[0m\u001b[0;34m\u001b[0m\u001b[0m\n\u001b[0m\u001b[1;32m      3\u001b[0m     \u001b[0;34m(\u001b[0m\u001b[0;34m'binary_pipeline'\u001b[0m\u001b[0;34m,\u001b[0m \u001b[0mbinary_pipeline\u001b[0m\u001b[0;34m)\u001b[0m\u001b[0;34m,\u001b[0m\u001b[0;34m\u001b[0m\u001b[0;34m\u001b[0m\u001b[0m\n\u001b[1;32m      4\u001b[0m     \u001b[0;34m(\u001b[0m\u001b[0;34m'numerical_pipeline'\u001b[0m\u001b[0;34m,\u001b[0m \u001b[0mnumerical_pipeline\u001b[0m\u001b[0;34m)\u001b[0m\u001b[0;34m\u001b[0m\u001b[0;34m\u001b[0m\u001b[0m\n\u001b[1;32m      5\u001b[0m ])\n",
            "\u001b[0;31mNameError\u001b[0m: name 'risk_factor_pipeline' is not defined"
          ]
        }
      ],
      "source": [
        "simple_fe = FeatureUnion([\n",
        "    ('risk_factors', risk_factor_pipeline),\n",
        "    ('binary_pipeline', binary_pipeline),\n",
        "    ('numerical_pipeline', numerical_pipeline)\n",
        "])"
      ]
    },
    {
      "cell_type": "code",
      "execution_count": null,
      "metadata": {
        "id": "vJEPeOdFqUYh"
      },
      "outputs": [],
      "source": [
        "best_model = simple_grid_search(x_train, y_train, x_test, y_test, simple_fe)"
      ]
    },
    {
      "cell_type": "code",
      "execution_count": null,
      "metadata": {
        "id": "IlAPzkgGvGoI"
      },
      "outputs": [],
      "source": [
        "simple_fe.transformer_list"
      ]
    },
    {
      "cell_type": "code",
      "execution_count": null,
      "metadata": {
        "id": "9kHbmh6fq44-"
      },
      "outputs": [],
      "source": []
    }
  ],
  "metadata": {
    "colab": {
      "provenance": []
    },
    "kernelspec": {
      "display_name": "Python 3.9.12 ('base')",
      "language": "python",
      "name": "python3"
    },
    "language_info": {
      "codemirror_mode": {
        "name": "ipython",
        "version": 3
      },
      "file_extension": ".py",
      "mimetype": "text/x-python",
      "name": "python",
      "nbconvert_exporter": "python",
      "pygments_lexer": "ipython3",
      "version": "3.9.12"
    },
    "vscode": {
      "interpreter": {
        "hash": "3d0acdbfa3a8f436ad8414a81e53380ff9c1e6f7ba4c27311bc8f8e055475003"
      }
    }
  },
  "nbformat": 4,
  "nbformat_minor": 0
}