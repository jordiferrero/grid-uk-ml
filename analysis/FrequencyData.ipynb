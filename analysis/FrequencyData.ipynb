{
 "cells": [
  {
   "cell_type": "code",
   "execution_count": 1,
   "id": "d39cd43f",
   "metadata": {},
   "outputs": [],
   "source": [
    "import pandas as pd\n",
    "import requests\n",
    "import scipy.signal\n",
    "import numpy as np\n",
    "\n",
    "from datetime import datetime\n",
    "from dateutil import parser\n",
    "\n",
    "from urllib import parse\n",
    "from data_pull import data_pull_date\n",
    "from data_pull import data_pull_all"
   ]
  },
  {
   "cell_type": "code",
   "execution_count": 2,
   "id": "2234cdec",
   "metadata": {},
   "outputs": [],
   "source": [
    "# System Frequency (Dec 2019)\n",
    "# f0933bdd-1b0e-4dd3-aa7f-5498df1ba5b9    \n",
    "# https://data.nationalgrideso.com/system/system-frequency-data/r/december_2019_-_historic_frequency_data\n",
    "\n",
    "# \"9bc4746e-3152-4c6f-886e-58377ab88e0e\" # Nov 2021"
   ]
  },
  {
   "cell_type": "markdown",
   "id": "92dce44e",
   "metadata": {},
   "source": [
    "###  CSV Filenames"
   ]
  },
  {
   "cell_type": "code",
   "execution_count": 3,
   "id": "77cdeed9",
   "metadata": {},
   "outputs": [
    {
     "name": "stdout",
     "output_type": "stream",
     "text": [
      "['fNew 2021 11', 'fNew 2021 12', 'fNew 2022 1', 'fNew 2022 2', 'fNew 2022 3', 'fnew-2022-4', 'fnew-2022-5', 'fnew-2022-6', 'fnew-2022-7', 'fnew-2022-8', 'fnew-2022-9', 'fnew-2022-10']\n"
     ]
    }
   ],
   "source": [
    "file_base = [\"f \", \"fNew \", \"fnew-\"]\n",
    "\n",
    "filenames = list()\n",
    "for ii in range(0,2):\n",
    "    filenames.append(file_base[1] + \"2021 \" + str(ii+11))\n",
    "    \n",
    "for ii in range(0,3):\n",
    "    filenames.append(file_base[1] + \"2022 \" + str(ii+1))\n",
    "    \n",
    "for ii in range(0,7):\n",
    "    filenames.append(file_base[2] + \"2022-\" + str(ii+4))    \n",
    "    \n",
    "print(filenames)"
   ]
  },
  {
   "cell_type": "markdown",
   "id": "afc49cfb",
   "metadata": {},
   "source": [
    "### Load Data from CSV and Analyse"
   ]
  },
  {
   "cell_type": "code",
   "execution_count": 4,
   "id": "cb4a25ad",
   "metadata": {},
   "outputs": [
    {
     "name": "stdout",
     "output_type": "stream",
     "text": [
      "Start Time: 2021-11-01 00:00:00\n",
      "End Time: 2021-11-30 23:59:59\n",
      "Start Time: 2021-12-01 00:00:00\n",
      "End Time: 2021-12-31 23:59:59\n",
      "Start Time: 2022-01-01 00:00:00\n",
      "End Time: 2022-01-31 23:59:59\n",
      "Start Time: 2022-02-01 00:00:00\n",
      "End Time: 2022-02-28 23:59:59\n"
     ]
    },
    {
     "ename": "ParserError",
     "evalue": "Error tokenizing data. C error: Calling read(nbytes) on source failed. Try engine='python'.",
     "output_type": "error",
     "traceback": [
      "\u001b[1;31m---------------------------------------------------------------------------\u001b[0m",
      "\u001b[1;31mParserError\u001b[0m                               Traceback (most recent call last)",
      "\u001b[1;32m~\\AppData\\Local\\Temp\\ipykernel_11056\\266664700.py\u001b[0m in \u001b[0;36m<module>\u001b[1;34m\u001b[0m\n\u001b[0;32m      5\u001b[0m \u001b[1;33m\u001b[0m\u001b[0m\n\u001b[0;32m      6\u001b[0m \u001b[1;32mfor\u001b[0m \u001b[0mfiles\u001b[0m \u001b[1;32min\u001b[0m \u001b[0mfilenames\u001b[0m\u001b[1;33m:\u001b[0m\u001b[1;33m\u001b[0m\u001b[1;33m\u001b[0m\u001b[0m\n\u001b[1;32m----> 7\u001b[1;33m     \u001b[0mfreq\u001b[0m \u001b[1;33m=\u001b[0m \u001b[0mpd\u001b[0m\u001b[1;33m.\u001b[0m\u001b[0mread_csv\u001b[0m\u001b[1;33m(\u001b[0m\u001b[0mpath\u001b[0m \u001b[1;33m+\u001b[0m \u001b[1;34m'RawFrequencyData\\\\'\u001b[0m \u001b[1;33m+\u001b[0m \u001b[0mfiles\u001b[0m \u001b[1;33m+\u001b[0m \u001b[1;34m'.csv'\u001b[0m\u001b[1;33m)\u001b[0m\u001b[1;33m\u001b[0m\u001b[1;33m\u001b[0m\u001b[0m\n\u001b[0m\u001b[0;32m      8\u001b[0m     \u001b[0mfreq\u001b[0m\u001b[1;33m[\u001b[0m\u001b[1;34m'dtm'\u001b[0m\u001b[1;33m]\u001b[0m \u001b[1;33m=\u001b[0m \u001b[0mpd\u001b[0m\u001b[1;33m.\u001b[0m\u001b[0mto_datetime\u001b[0m\u001b[1;33m(\u001b[0m\u001b[0mfreq\u001b[0m\u001b[1;33m[\u001b[0m\u001b[1;34m'dtm'\u001b[0m\u001b[1;33m]\u001b[0m\u001b[1;33m,\u001b[0m \u001b[0mformat\u001b[0m\u001b[1;33m=\u001b[0m\u001b[1;34m\"%Y/%m/%d %H:%M:%S\"\u001b[0m\u001b[1;33m)\u001b[0m\u001b[1;33m\u001b[0m\u001b[1;33m\u001b[0m\u001b[0m\n\u001b[0;32m      9\u001b[0m \u001b[1;33m\u001b[0m\u001b[0m\n",
      "\u001b[1;32mD:\\Anaconda\\lib\\site-packages\\pandas\\util\\_decorators.py\u001b[0m in \u001b[0;36mwrapper\u001b[1;34m(*args, **kwargs)\u001b[0m\n\u001b[0;32m    309\u001b[0m                     \u001b[0mstacklevel\u001b[0m\u001b[1;33m=\u001b[0m\u001b[0mstacklevel\u001b[0m\u001b[1;33m,\u001b[0m\u001b[1;33m\u001b[0m\u001b[1;33m\u001b[0m\u001b[0m\n\u001b[0;32m    310\u001b[0m                 )\n\u001b[1;32m--> 311\u001b[1;33m             \u001b[1;32mreturn\u001b[0m \u001b[0mfunc\u001b[0m\u001b[1;33m(\u001b[0m\u001b[1;33m*\u001b[0m\u001b[0margs\u001b[0m\u001b[1;33m,\u001b[0m \u001b[1;33m**\u001b[0m\u001b[0mkwargs\u001b[0m\u001b[1;33m)\u001b[0m\u001b[1;33m\u001b[0m\u001b[1;33m\u001b[0m\u001b[0m\n\u001b[0m\u001b[0;32m    312\u001b[0m \u001b[1;33m\u001b[0m\u001b[0m\n\u001b[0;32m    313\u001b[0m         \u001b[1;32mreturn\u001b[0m \u001b[0mwrapper\u001b[0m\u001b[1;33m\u001b[0m\u001b[1;33m\u001b[0m\u001b[0m\n",
      "\u001b[1;32mD:\\Anaconda\\lib\\site-packages\\pandas\\io\\parsers\\readers.py\u001b[0m in \u001b[0;36mread_csv\u001b[1;34m(filepath_or_buffer, sep, delimiter, header, names, index_col, usecols, squeeze, prefix, mangle_dupe_cols, dtype, engine, converters, true_values, false_values, skipinitialspace, skiprows, skipfooter, nrows, na_values, keep_default_na, na_filter, verbose, skip_blank_lines, parse_dates, infer_datetime_format, keep_date_col, date_parser, dayfirst, cache_dates, iterator, chunksize, compression, thousands, decimal, lineterminator, quotechar, quoting, doublequote, escapechar, comment, encoding, encoding_errors, dialect, error_bad_lines, warn_bad_lines, on_bad_lines, delim_whitespace, low_memory, memory_map, float_precision, storage_options)\u001b[0m\n\u001b[0;32m    676\u001b[0m     \u001b[0mkwds\u001b[0m\u001b[1;33m.\u001b[0m\u001b[0mupdate\u001b[0m\u001b[1;33m(\u001b[0m\u001b[0mkwds_defaults\u001b[0m\u001b[1;33m)\u001b[0m\u001b[1;33m\u001b[0m\u001b[1;33m\u001b[0m\u001b[0m\n\u001b[0;32m    677\u001b[0m \u001b[1;33m\u001b[0m\u001b[0m\n\u001b[1;32m--> 678\u001b[1;33m     \u001b[1;32mreturn\u001b[0m \u001b[0m_read\u001b[0m\u001b[1;33m(\u001b[0m\u001b[0mfilepath_or_buffer\u001b[0m\u001b[1;33m,\u001b[0m \u001b[0mkwds\u001b[0m\u001b[1;33m)\u001b[0m\u001b[1;33m\u001b[0m\u001b[1;33m\u001b[0m\u001b[0m\n\u001b[0m\u001b[0;32m    679\u001b[0m \u001b[1;33m\u001b[0m\u001b[0m\n\u001b[0;32m    680\u001b[0m \u001b[1;33m\u001b[0m\u001b[0m\n",
      "\u001b[1;32mD:\\Anaconda\\lib\\site-packages\\pandas\\io\\parsers\\readers.py\u001b[0m in \u001b[0;36m_read\u001b[1;34m(filepath_or_buffer, kwds)\u001b[0m\n\u001b[0;32m    579\u001b[0m \u001b[1;33m\u001b[0m\u001b[0m\n\u001b[0;32m    580\u001b[0m     \u001b[1;32mwith\u001b[0m \u001b[0mparser\u001b[0m\u001b[1;33m:\u001b[0m\u001b[1;33m\u001b[0m\u001b[1;33m\u001b[0m\u001b[0m\n\u001b[1;32m--> 581\u001b[1;33m         \u001b[1;32mreturn\u001b[0m \u001b[0mparser\u001b[0m\u001b[1;33m.\u001b[0m\u001b[0mread\u001b[0m\u001b[1;33m(\u001b[0m\u001b[0mnrows\u001b[0m\u001b[1;33m)\u001b[0m\u001b[1;33m\u001b[0m\u001b[1;33m\u001b[0m\u001b[0m\n\u001b[0m\u001b[0;32m    582\u001b[0m \u001b[1;33m\u001b[0m\u001b[0m\n\u001b[0;32m    583\u001b[0m \u001b[1;33m\u001b[0m\u001b[0m\n",
      "\u001b[1;32mD:\\Anaconda\\lib\\site-packages\\pandas\\io\\parsers\\readers.py\u001b[0m in \u001b[0;36mread\u001b[1;34m(self, nrows)\u001b[0m\n\u001b[0;32m   1251\u001b[0m             \u001b[0mnrows\u001b[0m \u001b[1;33m=\u001b[0m \u001b[0mvalidate_integer\u001b[0m\u001b[1;33m(\u001b[0m\u001b[1;34m\"nrows\"\u001b[0m\u001b[1;33m,\u001b[0m \u001b[0mnrows\u001b[0m\u001b[1;33m)\u001b[0m\u001b[1;33m\u001b[0m\u001b[1;33m\u001b[0m\u001b[0m\n\u001b[0;32m   1252\u001b[0m             \u001b[1;32mtry\u001b[0m\u001b[1;33m:\u001b[0m\u001b[1;33m\u001b[0m\u001b[1;33m\u001b[0m\u001b[0m\n\u001b[1;32m-> 1253\u001b[1;33m                 \u001b[0mindex\u001b[0m\u001b[1;33m,\u001b[0m \u001b[0mcolumns\u001b[0m\u001b[1;33m,\u001b[0m \u001b[0mcol_dict\u001b[0m \u001b[1;33m=\u001b[0m \u001b[0mself\u001b[0m\u001b[1;33m.\u001b[0m\u001b[0m_engine\u001b[0m\u001b[1;33m.\u001b[0m\u001b[0mread\u001b[0m\u001b[1;33m(\u001b[0m\u001b[0mnrows\u001b[0m\u001b[1;33m)\u001b[0m\u001b[1;33m\u001b[0m\u001b[1;33m\u001b[0m\u001b[0m\n\u001b[0m\u001b[0;32m   1254\u001b[0m             \u001b[1;32mexcept\u001b[0m \u001b[0mException\u001b[0m\u001b[1;33m:\u001b[0m\u001b[1;33m\u001b[0m\u001b[1;33m\u001b[0m\u001b[0m\n\u001b[0;32m   1255\u001b[0m                 \u001b[0mself\u001b[0m\u001b[1;33m.\u001b[0m\u001b[0mclose\u001b[0m\u001b[1;33m(\u001b[0m\u001b[1;33m)\u001b[0m\u001b[1;33m\u001b[0m\u001b[1;33m\u001b[0m\u001b[0m\n",
      "\u001b[1;32mD:\\Anaconda\\lib\\site-packages\\pandas\\io\\parsers\\c_parser_wrapper.py\u001b[0m in \u001b[0;36mread\u001b[1;34m(self, nrows)\u001b[0m\n\u001b[0;32m    223\u001b[0m         \u001b[1;32mtry\u001b[0m\u001b[1;33m:\u001b[0m\u001b[1;33m\u001b[0m\u001b[1;33m\u001b[0m\u001b[0m\n\u001b[0;32m    224\u001b[0m             \u001b[1;32mif\u001b[0m \u001b[0mself\u001b[0m\u001b[1;33m.\u001b[0m\u001b[0mlow_memory\u001b[0m\u001b[1;33m:\u001b[0m\u001b[1;33m\u001b[0m\u001b[1;33m\u001b[0m\u001b[0m\n\u001b[1;32m--> 225\u001b[1;33m                 \u001b[0mchunks\u001b[0m \u001b[1;33m=\u001b[0m \u001b[0mself\u001b[0m\u001b[1;33m.\u001b[0m\u001b[0m_reader\u001b[0m\u001b[1;33m.\u001b[0m\u001b[0mread_low_memory\u001b[0m\u001b[1;33m(\u001b[0m\u001b[0mnrows\u001b[0m\u001b[1;33m)\u001b[0m\u001b[1;33m\u001b[0m\u001b[1;33m\u001b[0m\u001b[0m\n\u001b[0m\u001b[0;32m    226\u001b[0m                 \u001b[1;31m# destructive to chunks\u001b[0m\u001b[1;33m\u001b[0m\u001b[1;33m\u001b[0m\u001b[0m\n\u001b[0;32m    227\u001b[0m                 \u001b[0mdata\u001b[0m \u001b[1;33m=\u001b[0m \u001b[0m_concatenate_chunks\u001b[0m\u001b[1;33m(\u001b[0m\u001b[0mchunks\u001b[0m\u001b[1;33m)\u001b[0m\u001b[1;33m\u001b[0m\u001b[1;33m\u001b[0m\u001b[0m\n",
      "\u001b[1;32mD:\\Anaconda\\lib\\site-packages\\pandas\\_libs\\parsers.pyx\u001b[0m in \u001b[0;36mpandas._libs.parsers.TextReader.read_low_memory\u001b[1;34m()\u001b[0m\n",
      "\u001b[1;32mD:\\Anaconda\\lib\\site-packages\\pandas\\_libs\\parsers.pyx\u001b[0m in \u001b[0;36mpandas._libs.parsers.TextReader._read_rows\u001b[1;34m()\u001b[0m\n",
      "\u001b[1;32mD:\\Anaconda\\lib\\site-packages\\pandas\\_libs\\parsers.pyx\u001b[0m in \u001b[0;36mpandas._libs.parsers.TextReader._tokenize_rows\u001b[1;34m()\u001b[0m\n",
      "\u001b[1;32mD:\\Anaconda\\lib\\site-packages\\pandas\\_libs\\parsers.pyx\u001b[0m in \u001b[0;36mpandas._libs.parsers.raise_parser_error\u001b[1;34m()\u001b[0m\n",
      "\u001b[1;31mParserError\u001b[0m: Error tokenizing data. C error: Calling read(nbytes) on source failed. Try engine='python'."
     ]
    }
   ],
   "source": [
    "#path = \"C:\\\\Users\\\\kmp57\\\\Desktop\\\\Documents\\\\GitHub\\\\grid-uk-ml\\\\data\\\\\"\n",
    "path = \"\\\\\\\\ad\\\\ap\\\\homes$\\\\kmp57\\\\My Documents\\\\GitHub\\\\grid-uk-ml\\\\data\\\\\"\n",
    "\n",
    "\n",
    "for files in filenames:\n",
    "    freq = pd.read_csv(path + 'RawFrequencyData\\\\' + files + '.csv')\n",
    "    freq['dtm'] = pd.to_datetime(freq['dtm'], format=\"%Y/%m/%d %H:%M:%S\")\n",
    "\n",
    "    start_time = freq.loc[0,\"dtm\"]\n",
    "    start_str = \"Start Time: {}\".format(start_time)\n",
    "    print(start_str)\n",
    "\n",
    "    idx = freq.index[-1]\n",
    "    end_time = freq.loc[idx,\"dtm\"]\n",
    "    end_str = \"End Time: {}\".format(end_time)\n",
    "    print(end_str)\n",
    "\n",
    "    period = freq.loc[1,\"dtm\"] - start_time\n",
    "    period_str = \"Period: {}\".format(period) \n",
    "    \n",
    "    \n",
    "     ## Rearrange Data by Date\n",
    "    dates = freq.dtm.dt.date[0::86400]\n",
    "\n",
    "    freq_date = pd.DataFrame()\n",
    "    for ii in dates:\n",
    "        date_iter = ii.strftime('%Y-%m-%d')\n",
    "        foo = freq.loc[freq.dtm.dt.date==ii,'f'].reset_index(drop=True)\n",
    "        freq_date[date_iter] = foo\n",
    "\n",
    "        print(date_iter)\n",
    "    "
   ]
  },
  {
   "cell_type": "code",
   "execution_count": null,
   "id": "f3676e13",
   "metadata": {},
   "outputs": [],
   "source": []
  },
  {
   "cell_type": "markdown",
   "id": "eb0fbd08",
   "metadata": {},
   "source": [
    "### Calculate PSD for each date every 30 min and estimate noise power in different frequency bands\n"
   ]
  },
  {
   "cell_type": "code",
   "execution_count": null,
   "id": "949e654c",
   "metadata": {},
   "outputs": [],
   "source": [
    "    fs = 1    # Sampling Freq (Hz)\n",
    "    T = 30*60 # Measurement time (s)\n",
    "\n",
    "    idx_list = freq_date.index[0::T] # Find index for every 30 min\n",
    "\n",
    "    band_edges = np.linspace(0,0.5,6) # Define Frequency Bands\n",
    "    band_edges = np.round(band_edges, 1)\n",
    "\n",
    "    band_names = list_string = map(str, band_edges[1:])\n",
    "    band_names = list(band_names)\n",
    "\n",
    "    col_labels = [\"dtm\"] +  band_names\n",
    "\n",
    "    data = []\n",
    "    for date in dates:\n",
    "        date_iter = date.strftime('%Y-%m-%d')\n",
    "        for ii in range(len(idx_list)):\n",
    "            psd_band = []\n",
    "\n",
    "            # Calculate PSD for each 30 min\n",
    "            start_idx = idx_list[ii]\n",
    "            end_idx = idx_list[ii] + T   \n",
    "\n",
    "\n",
    "            signal = freq_date.loc[start_idx:end_idx,date_iter] - 50  # subtract 50 so signal is centred at 0Hz\n",
    "            (ff, psd) = scipy.signal.periodogram(signal, fs, scaling='density')\n",
    "            ## Frequency labelled ff as it is frequency of frequency measurements\n",
    "\n",
    "\n",
    "            # Label each 30 with datetime\n",
    "            dtm_str =  date_iter + datetime.fromtimestamp(start_idx).strftime(\"%H:%M:%S\")\n",
    "            dtm = datetime.strptime(dtm_str,\"%Y-%m-%d%H:%M:%S\")\n",
    "\n",
    "            # Calculate average PSD within each band\n",
    "            for jj in range(len(band_edges)-1):\n",
    "                band_start = band_edges[jj]\n",
    "                band_end = band_edges[jj+1]\n",
    "                psd_band.append( psd[(ff >= band_start) & (ff < band_end)].mean() )           \n",
    "\n",
    "            data.append( [dtm] + psd_band ) \n",
    "\n",
    "    # Build Datetimes and Averages into Dataframe\n",
    "    freq_psd = pd.DataFrame (data, columns = col_labels)"
   ]
  },
  {
   "cell_type": "markdown",
   "id": "07bfd855",
   "metadata": {},
   "source": [
    "### Save Data "
   ]
  },
  {
   "cell_type": "code",
   "execution_count": null,
   "id": "975d7be8",
   "metadata": {},
   "outputs": [],
   "source": [
    "    savename = freq_psd.loc[0,\"dtm\"]\n",
    "    savename = \"Data\\\\Frequency\\\\psd_\" + savename.strftime(\"%Y-%m\") + \".csv\"\n",
    "    print(savename)\n",
    "    freq_psd.to_csv(savename)\n"
   ]
  }
 ],
 "metadata": {
  "kernelspec": {
   "display_name": "Python 3 (ipykernel)",
   "language": "python",
   "name": "python3"
  },
  "language_info": {
   "codemirror_mode": {
    "name": "ipython",
    "version": 3
   },
   "file_extension": ".py",
   "mimetype": "text/x-python",
   "name": "python",
   "nbconvert_exporter": "python",
   "pygments_lexer": "ipython3",
   "version": "3.9.13"
  }
 },
 "nbformat": 4,
 "nbformat_minor": 5
}
