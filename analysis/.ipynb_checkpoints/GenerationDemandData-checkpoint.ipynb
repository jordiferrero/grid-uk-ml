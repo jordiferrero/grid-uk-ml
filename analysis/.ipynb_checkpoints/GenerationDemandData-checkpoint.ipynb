{
 "cells": [
  {
   "cell_type": "code",
   "execution_count": 1,
   "metadata": {},
   "outputs": [],
   "source": [
    "import pandas as pd\n",
    "import requests\n",
    "from datetime import datetime\n",
    "from dateutil import parser\n",
    "\n",
    "from urllib import parse\n",
    "from data_pull import data_pull_date\n",
    "from data_pull import data_pull_all"
   ]
  },
  {
   "cell_type": "markdown",
   "metadata": {},
   "source": [
    "### File Codes"
   ]
  },
  {
   "cell_type": "code",
   "execution_count": 2,
   "metadata": {},
   "outputs": [],
   "source": [
    "# Energy Generation Type (All)\n",
    "# \"f93d1835-75bc-43e5-84ad-12472b180a98\"\n",
    "# https://data.nationalgrideso.com/carbon-intensity1/historic-generation-mix/r/historic_gb_generation_mix\n",
    "\n",
    "# Energy Demand (2019)\n",
    "# dd9de980-d724-415a-b344-d8ae11321432\n",
    "# https://data.nationalgrideso.com/demand/historic-demand-data/r/historic_demand_data_2019\n",
    "\n",
    "# \"18c69c42-f20d-46f0-84e9-e279045befc6\" (2021)\n",
    "\n",
    "\n",
    "# Energy Cost (2019-2020 Financial Year)\n",
    "# 6a03c415-475f-4005-bf55-b9108291c511\n",
    "# https://data.nationalgrideso.com/trade-data/historic-gtma-grid-trade-master-agreement-trades-data/r/historic_gtma_trades_data_-_apr_2019_-_march_2020\n",
    "\n",
    "# System Frequency (Dec 2019)\n",
    "# f0933bdd-1b0e-4dd3-aa7f-5498df1ba5b9    \n",
    "# https://data.nationalgrideso.com/system/system-frequency-data/r/december_2019_-_historic_frequency_data\n",
    "\n",
    "# Metered Wind Power (2019 - 2020)\n",
    "#c36868d9-9d43-47ce-ac3e-de69f0bb6222\n",
    "#https://data.nationalgrideso.com/generation/monthly-operational-metered-wind-output/r/monthly_operational_metered_wind_output_2019-2020"
   ]
  },
  {
   "cell_type": "markdown",
   "metadata": {},
   "source": [
    "### Load Generation Data"
   ]
  },
  {
   "cell_type": "code",
   "execution_count": 3,
   "metadata": {},
   "outputs": [
    {
     "name": "stdout",
     "output_type": "stream",
     "text": [
      "Start Time: 2021-11-01 00:00:00+00:00\n",
      "End Time: 2022-10-31 23:30:00+00:00\n"
     ]
    }
   ],
   "source": [
    "date_start = \"2021-11-01T00:00:00.000Z\"\n",
    "date_end = \"2022-10-31T23:59:59.999Z\"\n",
    "entry_limit = '100000'\n",
    "\n",
    "path = \"C:\\\\Users\\\\kmp57\\\\Desktop\\\\Documents\\\\GitHub\\\\grid-uk-ml\\\\data\\\\\"\n",
    "\n",
    "datacode_gen1 = \"f93d1835-75bc-43e5-84ad-12472b180a98\"\n",
    "\n",
    "## Load Data\n",
    "datevar = \"DATETIME\"\n",
    "gen = data_pull_date(datacode_gen1,datevar,date_start,date_end,entry_limit)\n",
    "gen[datevar] = pd.to_datetime(gen[datevar], format=\"%Y/%m/%d %H:%M:%S\")\n",
    "\n",
    "## Check Data Start and End times\n",
    "start_time = gen.loc[0,datevar]\n",
    "start_str = \"Start Time: {}\".format(start_time)\n",
    "print(start_str)\n",
    "\n",
    "idx = gen.index[-1]\n",
    "end_time = gen.loc[idx,datevar]\n",
    "end_str = \"End Time: {}\".format(end_time)\n",
    "print(end_str)\n",
    "\n",
    "# period = datetime.strptime(\"00:30:00\", '%H:%M:%S').time()\n",
    "# period_str = \"Period: {}\".format(period)\n",
    "# print(period_str)     \n",
    "# print(gen.size)\n",
    "\n",
    "## Seperate Wind Data by Month and save each\n",
    "T = 48 #Number of 30 min in day\n",
    "idx_list = gen.index[0::T] # Find index for each day\n",
    "dtm = gen.loc[idx_list,datevar] # Get each date of measurement\n",
    "\n",
    "dtm_unique = []\n",
    "for ii in dtm:\n",
    "    dtm_unique.append(ii.strftime(\"%Y-%m\"))\n",
    "dtm_unique = set(dtm_unique) # Find each unique month\n",
    "# print(dtm_unique)\n",
    "\n",
    "\n",
    "## Save Data\n",
    "dtm = gen[datename].dt.strftime(\"%Y-%m\") # Get all dates in wind dataset\n",
    "for ii in dtm_unique:    \n",
    "    date_match = [ii==j for j in dtm]\n",
    "    gen_month =  gen.loc[date_match,:] #Extract and save all data for each unique month\n",
    "\n",
    "    filename = path + \"Generation\\\\gen_\" + ii + \".csv\"\n",
    "    gen_month.to_csv(filename)"
   ]
  },
  {
   "cell_type": "markdown",
   "metadata": {},
   "source": [
    "###  Load Demand Data"
   ]
  },
  {
   "cell_type": "code",
   "execution_count": 5,
   "metadata": {
    "scrolled": true
   },
   "outputs": [
    {
     "name": "stdout",
     "output_type": "stream",
     "text": [
      "18c69c42-f20d-46f0-84e9-e279045befc6\n",
      "Start Time: 2021-11-01 00:00:00\n",
      "End Time: 2021-12-31 00:00:00\n",
      "bb44a1b5-75b1-4db2-8491-257f23385006\n",
      "Start Time: 2022-01-01 00:00:00\n",
      "End Time: 2022-10-31 00:00:00\n"
     ]
    }
   ],
   "source": [
    "date_start = \"2021-11-01T00:00:00.000Z\"\n",
    "date_end = \"2022-10-31T23:59:59.999Z\"\n",
    "entry_limit = '100000'\n",
    "\n",
    "#datacode_dem1 = \"dd9de980-d724-415a-b344-d8ae11321432\"\n",
    "datacode_dem =  [\"18c69c42-f20d-46f0-84e9-e279045befc6\",\"bb44a1b5-75b1-4db2-8491-257f23385006\"]\n",
    "datevar = 'SETTLEMENT_DATE'\n",
    "\n",
    "## Load Data\n",
    "for code in datacode_dem:\n",
    "    #dem = data_pull_all(datacode2,entry_limit)\n",
    "    dem = data_pull_date(code,datevar,date_start,date_end,entry_limit)\n",
    "    dem[datevar] = pd.to_datetime(dem[datevar], format=\"%Y/%m/%d %H:%M:%S\")\n",
    "\n",
    "    ## Check Data Start and End times\n",
    "    start_time = dem.loc[0,datevar]\n",
    "    start_str = \"Start Time: {}\".format(start_time)\n",
    "    print(start_str)\n",
    "\n",
    "    idx = dem.index[-1]\n",
    "    end_time = dem.loc[idx,datevar]\n",
    "    end_str = \"End Time: {}\".format(end_time)\n",
    "    print(end_str)\n",
    "\n",
    "    # period = datetime.strptime(\"00:30:00\", '%H:%M:%S').time()\n",
    "    # period_str = \"Period: {}\".format(period)\n",
    "    # print(period_str)   \n",
    "    # print(dem.size)\n",
    "\n",
    "\n",
    "\n",
    "    ## Seperate Demand Data by Month and save each\n",
    "    T = 48 #Number of 30 min in day\n",
    "    idx_list = dem.index[0::T] # Find index for each day\n",
    "    dtm = dem.loc[idx_list,datevar] # Get each date of measurement\n",
    "\n",
    "    dtm_unique = []\n",
    "    for ii in dtm:\n",
    "        dtm_unique.append(ii.strftime(\"%Y-%m\"))\n",
    "    dtm_unique = set(dtm_unique) # Find each unique month\n",
    "    # print(dtm_unique)\n",
    "\n",
    "\n",
    "    ## Save Data\n",
    "    dtm = dem[datevar].dt.strftime(\"%Y-%m\") # Get all dates in wind dataset\n",
    "    for ii in dtm_unique:    \n",
    "        date_match = [ii==j for j in dtm]\n",
    "        dem_month =  dem.loc[date_match,:] #Extract and save all data for each unique month\n",
    "\n",
    "        filename = path + \"Demand\\\\dem_\" + ii + \".csv\"\n",
    "        dem_month.to_csv(filename)"
   ]
  },
  {
   "cell_type": "markdown",
   "metadata": {},
   "source": [
    "### Load Cost Data"
   ]
  },
  {
   "cell_type": "code",
   "execution_count": 5,
   "metadata": {},
   "outputs": [],
   "source": [
    "## Really complicated to handle\n",
    "\n",
    "# datacode3 = \"6a03c415-475f-4005-bf55-b9108291c511\"\n",
    "# cst = data_pull_all(datacode3,entry_limit)\n",
    "\n",
    "# start_time = parser.parse(cst.loc[0,\"Start Time\"])\n",
    "# start_str = \"Start Time: {}\".format(start_time)\n",
    "# print(start_str)\n",
    "\n",
    "# idx = cst.index[-1]\n",
    "# end_time = parser.parse(cst.loc[idx,\"Start Time\"])\n",
    "# end_str = \"End Time: {}\".format(end_time)\n",
    "# print(end_str) \n",
    "\n",
    "# cst.dtypes"
   ]
  },
  {
   "cell_type": "markdown",
   "metadata": {},
   "source": [
    "### Load Frequency Data"
   ]
  },
  {
   "cell_type": "code",
   "execution_count": 6,
   "metadata": {},
   "outputs": [],
   "source": [
    "# datacode4 = \"f0933bdd-1b0e-4dd3-aa7f-5498df1ba5b9\"\n",
    "# entry_limit = '3000000'\n",
    "\n",
    "# freq = data_pull_all(datacode4,entry_limit)\n",
    "# freq['dtm'] = pd.to_datetime(freq['dtm'], format=\"%Y/%m/%d %H:%M:%S\")\n",
    "\n",
    "# start_time = freq.loc[0,\"dtm\"]\n",
    "# start_str = \"Start Time: {}\".format(start_time)\n",
    "# print(start_str)\n",
    "\n",
    "# idx = freq.index[-1]\n",
    "# end_time = freq.loc[idx,\"dtm\"]\n",
    "# end_str = \"End Time: {}\".format(end_time)\n",
    "# print(end_str)\n",
    "\n",
    "# period = freq.loc[1,\"dtm\"] - start_time\n",
    "# period_str = \"Period: {}\".format(period)\n",
    "# print(period_str)  \n",
    "# print(freq.size)\n",
    "# #freq.dtypes"
   ]
  },
  {
   "cell_type": "markdown",
   "metadata": {},
   "source": [
    "### Load Wind Data"
   ]
  },
  {
   "cell_type": "code",
   "execution_count": 6,
   "metadata": {},
   "outputs": [
    {
     "name": "stdout",
     "output_type": "stream",
     "text": [
      "Start Time: 2021-11-01 00:00:00\n",
      "End Time: 2022-03-31 00:00:00\n",
      "Start Time: 2022-04-01 00:00:00\n",
      "End Time: 2022-10-31 00:00:00\n"
     ]
    }
   ],
   "source": [
    "date_start = \"2021-11-01T00:00:00.000Z\"\n",
    "date_end = \"2022-10-31T23:59:59.999Z\"\n",
    "entry_limit = '100000'\n",
    "\n",
    "#datacode_wind = \"c36868d9-9d43-47ce-ac3e-de69f0bb6222\"\n",
    "datacode_wind = [\"e5df03f3-a25b-4df4-a95c-8a709815924b\",\"f732e9bb-b573-46a7-8767-3affbbb29b45\"]\n",
    "datevar = 'Sett_Date'\n",
    "\n",
    "## Load Wind Data\n",
    "#wind = data_pull_all(datacode_wind,entry_limit)\n",
    "\n",
    "for code in datacode_wind:\n",
    "    wind = data_pull_date(code,datevar,date_start,date_end,entry_limit)\n",
    "    wind[datevar] = pd.to_datetime(wind[datevar], format=\"%Y/%m/%d %H:%M:%S\")\n",
    "\n",
    "\n",
    "    ## Check Data Start and End times\n",
    "    start_time = wind.loc[0,datevar]\n",
    "    start_str = \"Start Time: {}\".format(start_time)\n",
    "    print(start_str)\n",
    "\n",
    "    idx = wind.index[-1]\n",
    "    end_time = wind.loc[idx,datevar]\n",
    "    end_str = \"End Time: {}\".format(end_time)\n",
    "    print(end_str)\n",
    "\n",
    "\n",
    "    ## Seperate Wind Data by Month and save each\n",
    "    T = 48 #Number of 30 min in day\n",
    "    idx_list = wind.index[0::T] # Find index for each day\n",
    "    dtm = wind.loc[idx_list,datevar] # Get each date of measurement\n",
    "\n",
    "    dtm_unique = []\n",
    "    for ii in dtm:\n",
    "        dtm_unique.append(ii.strftime(\"%Y-%m\"))\n",
    "    dtm_unique = set(dtm_unique) # Find each unique month\n",
    "    # print(dtm_unique)\n",
    "\n",
    "\n",
    "    ## Save Data\n",
    "    dtm = wind[datevar].dt.strftime(\"%Y-%m\") # Get all dates in wind dataset\n",
    "    for ii in dtm_unique:    \n",
    "        date_match = [ii==j for j in dtm]\n",
    "        wind_month =  wind.loc[date_match,:] #Extract and save all data for each unique month\n",
    "\n",
    "        filename = path + \"Wind\\\\wind_\" + ii + \".csv\"\n",
    "        wind_month.to_csv(filename)"
   ]
  },
  {
   "cell_type": "code",
   "execution_count": null,
   "metadata": {},
   "outputs": [],
   "source": []
  }
 ],
 "metadata": {
  "kernelspec": {
   "display_name": "Python 3",
   "language": "python",
   "name": "python3"
  },
  "language_info": {
   "codemirror_mode": {
    "name": "ipython",
    "version": 3
   },
   "file_extension": ".py",
   "mimetype": "text/x-python",
   "name": "python",
   "nbconvert_exporter": "python",
   "pygments_lexer": "ipython3",
   "version": "3.6.7"
  }
 },
 "nbformat": 4,
 "nbformat_minor": 5
}
