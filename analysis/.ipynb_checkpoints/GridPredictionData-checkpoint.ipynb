{
 "cells": [
  {
   "cell_type": "code",
   "execution_count": 8,
   "id": "a70f7501",
   "metadata": {},
   "outputs": [],
   "source": [
    "import pandas as pd\n",
    "import requests\n",
    "from datetime import datetime\n",
    "from dateutil import parser\n",
    "\n",
    "from urllib import parse\n",
    "from data_pull import data_pull_date\n",
    "from data_pull import data_pull_all"
   ]
  },
  {
   "cell_type": "markdown",
   "id": "f0b44353",
   "metadata": {},
   "source": [
    "### File Codes"
   ]
  },
  {
   "cell_type": "code",
   "execution_count": 2,
   "id": "bc69ed9e",
   "metadata": {},
   "outputs": [],
   "source": [
    "# Day Ahead Prediction (2021-2022)\n",
    "# \"08e41551-80f8-4e28-a416-ea473a695db9\"\n",
    "# https://data.nationalgrideso.com/demand/day-ahead-half-hourly-demand-forecast-performance/r/day_ahead_half_hourly_demand_forecast_performance\n",
    "\n",
    "# Wind Prediction (2021-2022)\n",
    "# \"7524ec65-f782-4258-aaf8-5b926c17b966\"\n",
    "# https://data.nationalgrideso.com/demand/day-ahead-wind-forecast/r/historic_day_ahead_wind_forecasts"
   ]
  },
  {
   "cell_type": "markdown",
   "id": "5e00e389",
   "metadata": {},
   "source": [
    "### Load Demand Prediction Data"
   ]
  },
  {
   "cell_type": "code",
   "execution_count": 18,
   "id": "6c28e253",
   "metadata": {
    "scrolled": true
   },
   "outputs": [
    {
     "name": "stdout",
     "output_type": "stream",
     "text": [
      "Start Time: 2021-11-01 00:00:00\n",
      "End Time: 2022-10-01 00:00:00\n"
     ]
    }
   ],
   "source": [
    "date_start = \"2021-11-01T00:00:00.000Z\"\n",
    "date_end = \"2022-10-31T23:59:59.999Z\"\n",
    "entry_limit = '100000'\n",
    "\n",
    "#path = \"C:\\\\Users\\\\kmp57\\\\Desktop\\\\Documents\\\\GitHub\\\\grid-uk-ml\\\\data\\\\\"\n",
    "path = \"\\\\\\\\ad\\\\ap\\\\homes$\\\\kmp57\\\\My Documents\\\\GitHub\\\\grid-uk-ml\\\\data\\\\\"\n",
    "\n",
    "datacode_dem = [\"08e41551-80f8-4e28-a416-ea473a695db9\"]\n",
    "\n",
    "## Load Data\n",
    "datevar = \"Datetime\"\n",
    "\n",
    "## Load Data\n",
    "for code in datacode_dem:\n",
    "    #dem = data_pull_all(code,entry_limit)\n",
    "    dem = data_pull_date(code,datevar,date_start,date_end,entry_limit)\n",
    "    dem[datevar] = pd.to_datetime(dem[datevar], format=\"%Y/%m/%d %H:%M:%S\")\n",
    "\n",
    "    ## Check Data Start and End times\n",
    "    start_time = dem.loc[0,datevar]\n",
    "    start_str = \"Start Time: {}\".format(start_time)\n",
    "    print(start_str)\n",
    "\n",
    "    idx = dem.index[-1]\n",
    "    end_time = dem.loc[idx,datevar]\n",
    "    end_str = \"End Time: {}\".format(end_time)\n",
    "    print(end_str)\n",
    "\n",
    "\n",
    "    ## Seperate Demand Data by Month and save each\n",
    "    T = 48 #Number of 30 min in day\n",
    "    idx_list = dem.index[0::T] # Find index for each day\n",
    "    dtm = dem.loc[idx_list,datevar] # Get each date of measurement\n",
    "\n",
    "    dtm_unique = []\n",
    "    for ii in dtm:\n",
    "        dtm_unique.append(ii.strftime(\"%Y-%m\"))\n",
    "    dtm_unique = set(dtm_unique) # Find each unique month\n",
    "    # print(dtm_unique)\n",
    "\n",
    "    ## Set dataframe key to datetime\n",
    "    dtm = dem[datevar].dt.strftime(\"%Y-%m\") # Get all dates in wind dataset\n",
    "    dem = dem.set_index(datevar)\n",
    "    dem.index.names = ['Datetime']\n",
    "    ## Save Data\n",
    "    for ii in dtm_unique:    \n",
    "        date_match = [ii==j for j in dtm]\n",
    "        dem_month =  dem.loc[date_match,:] #Extract and save all data for each unique month\n",
    "\n",
    "        filename = path + \"DemandPred\\\\dem_pred_\" + ii + \".csv\"\n",
    "        dem_month.to_csv(filename)"
   ]
  },
  {
   "cell_type": "markdown",
   "id": "1572f316",
   "metadata": {},
   "source": [
    "### Load Wind Prediction Data"
   ]
  },
  {
   "cell_type": "code",
   "execution_count": 13,
   "id": "36bc8efb",
   "metadata": {},
   "outputs": [
    {
     "name": "stdout",
     "output_type": "stream",
     "text": [
      "Start Time: 2021-11-01 00:00:00\n",
      "End Time: 2022-10-31 23:30:00\n"
     ]
    }
   ],
   "source": [
    "date_start = \"2021-11-01T00:00:00.000Z\"\n",
    "date_end = \"2022-10-31T23:59:59.999Z\"\n",
    "entry_limit = '100000'\n",
    "\n",
    "datacode_wind = [\"7524ec65-f782-4258-aaf8-5b926c17b966\"]\n",
    "\n",
    "## Load Data\n",
    "datevar = \"Datetime_GMT\"\n",
    "\n",
    "\n",
    "for code in datacode_wind:\n",
    "    wind = data_pull_date(code,datevar,date_start,date_end,entry_limit)\n",
    "    wind[datevar] = pd.to_datetime(wind[datevar], format=\"%Y/%m/%d %H:%M:%S\")\n",
    "\n",
    "\n",
    "    ## Check Data Start and End times\n",
    "    start_time = wind.loc[0,datevar]\n",
    "    start_str = \"Start Time: {}\".format(start_time)\n",
    "    print(start_str)\n",
    "\n",
    "    idx = wind.index[-1]\n",
    "    end_time = wind.loc[idx,datevar]\n",
    "    end_str = \"End Time: {}\".format(end_time)\n",
    "    print(end_str)\n",
    "\n",
    "\n",
    "    ## Seperate Wind Data by Month and save each\n",
    "    T = 48 #Number of 30 min in day\n",
    "    idx_list = wind.index[0::T] # Find index for each day\n",
    "    dtm = wind.loc[idx_list,datevar] # Get each date of measurement\n",
    "\n",
    "    dtm_unique = []\n",
    "    for ii in dtm:\n",
    "        dtm_unique.append(ii.strftime(\"%Y-%m\"))\n",
    "    dtm_unique = set(dtm_unique) # Find each unique month\n",
    "    # print(dtm_unique)\n",
    "\n",
    "\n",
    "    dtm = wind[datevar].dt.strftime(\"%Y-%m\") # Get all dates in wind dataset\n",
    "    wind = wind.set_index(datevar)\n",
    "    wind.index.names = ['Datetime']\n",
    "    \n",
    "    ## Save Data\n",
    "    for ii in dtm_unique:    \n",
    "        date_match = [ii==j for j in dtm]\n",
    "        wind_month =  wind.loc[date_match,:] #Extract and save all data for each unique month\n",
    "              \n",
    "        filename = path + \"WindPred\\\\wind_pred_\" + ii + \".csv\"\n",
    "        wind_month.to_csv(filename)"
   ]
  },
  {
   "cell_type": "code",
   "execution_count": 19,
   "id": "5fce8538",
   "metadata": {},
   "outputs": [
    {
     "name": "stdout",
     "output_type": "stream",
     "text": [
      "                     TRIAD_Avoidance_Estimate _count  Demand_Outturn Month  \\\n",
      "Datetime                                                                     \n",
      "2021-11-01 00:00:00                         0  16031           20943   Oct   \n",
      "2021-11-01 00:30:00                         0  16031           20530   Nov   \n",
      "2021-11-01 01:00:00                         0  16031           20743   Nov   \n",
      "2021-11-01 01:30:00                         0  16031           20503   Nov   \n",
      "2021-11-01 02:00:00                         0  16031           19924   Nov   \n",
      "...                                       ...    ...             ...   ...   \n",
      "2022-09-30 22:00:00                         0  16031           25760   Sep   \n",
      "2022-09-30 22:30:00                         0  16031           24560   Sep   \n",
      "2022-09-30 23:00:00                         0  16031           23166   Sep   \n",
      "2022-09-30 23:30:00                         0  16031           21480   Sep   \n",
      "2022-10-01 00:00:00                         0  16031           20225   Sep   \n",
      "\n",
      "                                                            _full_text  \\\n",
      "Datetime                                                                 \n",
      "2021-11-01 00:00:00  '-01':7 '-10':3,18 '-11':6 '-30':19 '-31':4 '0...   \n",
      "2021-11-01 00:30:00  '-01':4,7 '-10':18 '-11':3,6 '-31':19 '0':14 '...   \n",
      "2021-11-01 01:00:00  '-01':4,7 '-10':18 '-11':3,6 '-31':19 '0':14 '...   \n",
      "2021-11-01 01:30:00  '-01':4,7 '-10':18 '-11':3,6 '-31':19 '0':14 '...   \n",
      "2021-11-01 02:00:00  '-01':4,7 '-10':18 '-11':3,6 '-31':19 '0':14 '...   \n",
      "...                                                                ...   \n",
      "2022-09-30 22:00:00  '-09':3,6,18 '-29':19 '-30':4,7 '0':14 '00':9,...   \n",
      "2022-09-30 22:30:00  '-09':3,6,18 '-29':19 '-30':4,7 '0':14 '0.6':1...   \n",
      "2022-09-30 23:00:00  '-09':3,6,18 '-29':19 '-30':4,7 '0':14 '0.3':1...   \n",
      "2022-09-30 23:30:00  '-09':3,6,18 '-29':19 '-30':4,7 '0':14 '0.9':1...   \n",
      "2022-10-01 00:00:00  '-01':7 '-09':3,18 '-10':6 '-29':19 '-30':4 '0...   \n",
      "\n",
      "                     Settlement_Period  \\\n",
      "Datetime                                 \n",
      "2021-11-01 00:00:00                 50   \n",
      "2021-11-01 00:30:00                  1   \n",
      "2021-11-01 01:00:00                  2   \n",
      "2021-11-01 01:30:00                  3   \n",
      "2021-11-01 02:00:00                  4   \n",
      "...                                ...   \n",
      "2022-09-30 22:00:00                 44   \n",
      "2022-09-30 22:30:00                 45   \n",
      "2022-09-30 23:00:00                 46   \n",
      "2022-09-30 23:30:00                 47   \n",
      "2022-10-01 00:00:00                 48   \n",
      "\n",
      "                     TRIAD_Avoidance_Corrected_Demand_Outturn        Date  \\\n",
      "Datetime                                                                    \n",
      "2021-11-01 00:00:00                                     20943  2021-10-31   \n",
      "2021-11-01 00:30:00                                     20530  2021-11-01   \n",
      "2021-11-01 01:00:00                                     20743  2021-11-01   \n",
      "2021-11-01 01:30:00                                     20503  2021-11-01   \n",
      "2021-11-01 02:00:00                                     19924  2021-11-01   \n",
      "...                                                       ...         ...   \n",
      "2022-09-30 22:00:00                                     25760  2022-09-30   \n",
      "2022-09-30 22:30:00                                     24560  2022-09-30   \n",
      "2022-09-30 23:00:00                                     23166  2022-09-30   \n",
      "2022-09-30 23:30:00                                     21480  2022-09-30   \n",
      "2022-10-01 00:00:00                                     20225  2022-09-30   \n",
      "\n",
      "                       _id  Demand_Forecast     Publish_Datetime  APE  \n",
      "Datetime                                                               \n",
      "2021-11-01 00:00:00  10274            22574  2021-10-30T08:45:00  7.8  \n",
      "2021-11-01 00:30:00  10275            20370  2021-10-31T08:45:00  0.8  \n",
      "2021-11-01 01:00:00  10276            20150  2021-10-31T08:45:00  2.9  \n",
      "2021-11-01 01:30:00  10277            19949  2021-10-31T08:45:00  2.7  \n",
      "2021-11-01 02:00:00  10278            19553  2021-10-31T08:45:00  1.9  \n",
      "...                    ...              ...                  ...  ...  \n",
      "2022-09-30 22:00:00  26300            26124  2022-09-29T08:45:00  1.4  \n",
      "2022-09-30 22:30:00  26301            24702  2022-09-29T08:45:00  0.6  \n",
      "2022-09-30 23:00:00  26302            23232  2022-09-29T08:45:00  0.3  \n",
      "2022-09-30 23:30:00  26303            21681  2022-09-29T08:45:00  0.9  \n",
      "2022-10-01 00:00:00  26304            20540  2022-09-29T08:45:00  1.6  \n",
      "\n",
      "[16031 rows x 12 columns]\n"
     ]
    }
   ],
   "source": [
    "#print(wind)\n",
    "print(dem)"
   ]
  },
  {
   "cell_type": "code",
   "execution_count": null,
   "id": "597f78e6",
   "metadata": {},
   "outputs": [],
   "source": []
  }
 ],
 "metadata": {
  "kernelspec": {
   "display_name": "Python 3 (ipykernel)",
   "language": "python",
   "name": "python3"
  },
  "language_info": {
   "codemirror_mode": {
    "name": "ipython",
    "version": 3
   },
   "file_extension": ".py",
   "mimetype": "text/x-python",
   "name": "python",
   "nbconvert_exporter": "python",
   "pygments_lexer": "ipython3",
   "version": "3.9.13"
  }
 },
 "nbformat": 4,
 "nbformat_minor": 5
}
