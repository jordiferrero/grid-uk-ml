{
 "cells": [
  {
   "cell_type": "code",
   "execution_count": 1,
   "metadata": {},
   "outputs": [],
   "source": [
    "import pandas as pd\n",
    "import requests\n",
    "import scipy.signal\n",
    "import numpy as np\n",
    "\n",
    "from datetime import datetime\n",
    "from dateutil import parser\n",
    "\n",
    "from urllib import parse\n",
    "from data_pull import data_pull_date\n",
    "from data_pull import data_pull_all"
   ]
  },
  {
   "cell_type": "code",
   "execution_count": 2,
   "metadata": {},
   "outputs": [],
   "source": [
    "# System Frequency (Dec 2019)\n",
    "# f0933bdd-1b0e-4dd3-aa7f-5498df1ba5b9    \n",
    "# https://data.nationalgrideso.com/system/system-frequency-data/r/december_2019_-_historic_frequency_data"
   ]
  },
  {
   "cell_type": "markdown",
   "metadata": {},
   "source": [
    "### Load Data via API or from CSV"
   ]
  },
  {
   "cell_type": "code",
   "execution_count": 3,
   "metadata": {},
   "outputs": [
    {
     "name": "stdout",
     "output_type": "stream",
     "text": [
      "Start Time: 2019-12-01 00:00:00+00:00\n",
      "End Time: 2019-12-31 23:59:59+00:00\n",
      "Period: 0 days 00:00:01\n",
      "2678400\n"
     ]
    },
    {
     "data": {
      "text/plain": [
       "dtm    datetime64[ns, UTC]\n",
       "f                  float64\n",
       "dtype: object"
      ]
     },
     "execution_count": 3,
     "metadata": {},
     "output_type": "execute_result"
    }
   ],
   "source": [
    "## datacode = \"f0933bdd-1b0e-4dd3-aa7f-5498df1ba5b9\"\n",
    "## entry_limit = '1300000'\n",
    "\n",
    "## freq = data_pull_all(datacode,entry_limit)\n",
    "\n",
    "freq = pd.read_csv(r'RawFrequencyData\\f 2019 12.csv')\n",
    "freq['dtm'] = pd.to_datetime(freq['dtm'], format=\"%Y/%m/%d %H:%M:%S\")\n",
    "\n",
    "start_time = freq.loc[0,\"dtm\"]\n",
    "start_str = \"Start Time: {}\".format(start_time)\n",
    "print(start_str)\n",
    "\n",
    "idx = freq.index[-1]\n",
    "end_time = freq.loc[idx,\"dtm\"]\n",
    "end_str = \"End Time: {}\".format(end_time)\n",
    "print(end_str)\n",
    "\n",
    "period = freq.loc[1,\"dtm\"] - start_time\n",
    "period_str = \"Period: {}\".format(period)\n",
    "print(period_str)  \n",
    "print(len(freq))\n",
    "freq.dtypes"
   ]
  },
  {
   "cell_type": "markdown",
   "metadata": {},
   "source": [
    "### Rearrange Data by Date"
   ]
  },
  {
   "cell_type": "code",
   "execution_count": 4,
   "metadata": {},
   "outputs": [
    {
     "name": "stdout",
     "output_type": "stream",
     "text": [
      "2019-12-01\n",
      "2019-12-02\n",
      "2019-12-03\n",
      "2019-12-04\n",
      "2019-12-05\n",
      "2019-12-06\n",
      "2019-12-07\n",
      "2019-12-08\n",
      "2019-12-09\n",
      "2019-12-10\n",
      "2019-12-11\n",
      "2019-12-12\n",
      "2019-12-13\n",
      "2019-12-14\n",
      "2019-12-15\n",
      "2019-12-16\n",
      "2019-12-17\n",
      "2019-12-18\n",
      "2019-12-19\n",
      "2019-12-20\n",
      "2019-12-21\n",
      "2019-12-22\n",
      "2019-12-23\n",
      "2019-12-24\n",
      "2019-12-25\n",
      "2019-12-26\n",
      "2019-12-27\n",
      "2019-12-28\n",
      "2019-12-29\n",
      "2019-12-30\n",
      "2019-12-31\n"
     ]
    }
   ],
   "source": [
    "dates = freq.dtm.dt.date[0::86400]\n",
    "\n",
    "freq_date = pd.DataFrame()\n",
    "for ii in dates:\n",
    "    date_iter = ii.strftime('%Y-%m-%d')\n",
    "    foo = freq.loc[freq.dtm.dt.date==ii,'f'].reset_index(drop=True)\n",
    "    freq_date[date_iter] = foo\n",
    "    \n",
    "    print(date_iter)\n",
    "#     print(ii)\n",
    "#     print(foo)\n",
    "\n"
   ]
  },
  {
   "cell_type": "markdown",
   "metadata": {},
   "source": [
    "### Calculate PSD for each date every 30 min and estimate noise power in different frequency bands\n"
   ]
  },
  {
   "cell_type": "code",
   "execution_count": 5,
   "metadata": {},
   "outputs": [],
   "source": [
    "fs = 1    # Sampling Freq (Hz)\n",
    "T = 30*60 # Measurement time (s)\n",
    "\n",
    "idx_list = freq_date.index[0::T] # Find index for every 30 min\n",
    "\n",
    "band_edges = np.linspace(0,0.5,6) # Define Frequency Bands\n",
    "band_edges = np.round(band_edges, 1)\n",
    "\n",
    "band_names = list_string = map(str, band_edges[1:])\n",
    "band_names = list(band_names)\n",
    "\n",
    "col_labels = [\"dtm\"] +  band_names\n",
    "\n",
    "data = []\n",
    "for date in dates:\n",
    "    date_iter = date.strftime('%Y-%m-%d')\n",
    "    for ii in range(len(idx_list)):\n",
    "        psd_band = []\n",
    "\n",
    "        # Calculate PSD for each 30 min\n",
    "        start_idx = idx_list[ii]\n",
    "        end_idx = idx_list[ii] + T   \n",
    "\n",
    "        \n",
    "        signal = freq_date.loc[start_idx:end_idx,date_iter] - 50  # subtract 50 so signal is centred at 0Hz\n",
    "        (ff, psd) = scipy.signal.periodogram(signal, fs, scaling='density')\n",
    "        ## Frequency labelled ff as it is frequency of frequency measurements\n",
    "        \n",
    "        \n",
    "        # Label each 30 with datetime\n",
    "        dtm_str =  date_iter + datetime.fromtimestamp(start_idx).strftime(\"%H:%M:%S\")\n",
    "        dtm = datetime.strptime(dtm_str,\"%Y-%m-%d%H:%M:%S\")\n",
    "    \n",
    "        # Calculate average PSD within each band\n",
    "        for jj in range(len(band_edges)-1):\n",
    "            band_start = band_edges[jj]\n",
    "            band_end = band_edges[jj+1]\n",
    "            psd_band.append( psd[(ff >= band_start) & (ff < band_end)].mean() )           \n",
    "            \n",
    "        data.append( [dtm] + psd_band ) \n",
    "\n",
    "# Build Datetimes and Averages into Dataframe\n",
    "freq_psd = pd.DataFrame (data, columns = col_labels)"
   ]
  },
  {
   "cell_type": "markdown",
   "metadata": {},
   "source": [
    "### Save Data "
   ]
  },
  {
   "cell_type": "code",
   "execution_count": 6,
   "metadata": {},
   "outputs": [
    {
     "name": "stdout",
     "output_type": "stream",
     "text": [
      "Data\\Frequency\\psd_2019-12.csv\n"
     ]
    }
   ],
   "source": [
    "filename = freq_psd.loc[0,\"dtm\"]\n",
    "filename = \"Data\\\\Frequency\\\\psd_\" + filename.strftime(\"%Y-%m\") + \".csv\"\n",
    "print(filename)\n",
    "freq_psd.to_csv(filename, sep='\\t')\n"
   ]
  }
 ],
 "metadata": {
  "kernelspec": {
   "display_name": "Python 3",
   "language": "python",
   "name": "python3"
  },
  "language_info": {
   "codemirror_mode": {
    "name": "ipython",
    "version": 3
   },
   "file_extension": ".py",
   "mimetype": "text/x-python",
   "name": "python",
   "nbconvert_exporter": "python",
   "pygments_lexer": "ipython3",
   "version": "3.6.7"
  }
 },
 "nbformat": 4,
 "nbformat_minor": 5
}
