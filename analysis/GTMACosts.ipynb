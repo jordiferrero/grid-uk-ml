{
 "cells": [
  {
   "cell_type": "code",
   "execution_count": 1,
   "id": "faa4ffea",
   "metadata": {},
   "outputs": [],
   "source": [
    "import pandas as pd\n",
    "import requests\n",
    "import numpy as np\n",
    "\n",
    "from datetime import datetime\n",
    "from dateutil import parser\n",
    "from matplotlib import pyplot as plt\n",
    "\n",
    "from urllib import parse\n",
    "from data_pull import data_pull_date\n",
    "from data_pull import data_pull_all"
   ]
  },
  {
   "cell_type": "code",
   "execution_count": 2,
   "id": "b6f67bd5",
   "metadata": {},
   "outputs": [],
   "source": [
    "# Energy Generation Type (All)\n",
    "# \"f93d1835-75bc-43e5-84ad-12472b180a98\"\n",
    "# https://data.nationalgrideso.com/carbon-intensity1/historic-generation-mix/r/historic_gb_generation_mix\n",
    "\n",
    "# Energy Demand (2019)\n",
    "# dd9de980-d724-415a-b344-d8ae11321432\n",
    "# https://data.nationalgrideso.com/demand/historic-demand-data/r/historic_demand_data_2019\n",
    "\n",
    "# Energy Cost (2019-2020 Financial Year)\n",
    "# 6a03c415-475f-4005-bf55-b9108291c511\n",
    "# https://data.nationalgrideso.com/trade-data/historic-gtma-grid-trade-master-agreement-trades-data/r/historic_gtma_trades_data_-_apr_2019_-_march_2020\n",
    "\n",
    "# System Frequency (Dec 2019)\n",
    "# f0933bdd-1b0e-4dd3-aa7f-5498df1ba5b9    \n",
    "# https://data.nationalgrideso.com/system/system-frequency-data/r/december_2019_-_historic_frequency_data"
   ]
  },
  {
   "cell_type": "markdown",
   "id": "4839b087",
   "metadata": {},
   "source": [
    "### Load Generation Data"
   ]
  },
  {
   "cell_type": "code",
   "execution_count": 3,
   "id": "74ab736d",
   "metadata": {},
   "outputs": [
    {
     "name": "stdout",
     "output_type": "stream",
     "text": [
      "Start Time: 2019-04-01 00:00:00+00:00\n",
      "End Time: 2019-04-26 04:00:00+00:00\n"
     ]
    },
    {
     "data": {
      "text/plain": [
       "_count                     object\n",
       "Price                      object\n",
       "_full_text                 object\n",
       "Start Time    datetime64[ns, UTC]\n",
       "SO Flag                    object\n",
       "Volume                     object\n",
       "End Time      datetime64[ns, UTC]\n",
       "Cost                       object\n",
       "Trade ID                   object\n",
       "_id                         int64\n",
       "dtype: object"
      ]
     },
     "execution_count": 3,
     "metadata": {},
     "output_type": "execute_result"
    }
   ],
   "source": [
    "\n",
    "datacode3 = \"6a03c415-475f-4005-bf55-b9108291c511\"\n",
    "entry_limit = '1000'\n",
    "\n",
    "cst = data_pull_all(datacode3,entry_limit)\n",
    "cst['Start Time'] = pd.to_datetime(cst['Start Time'], format=\"%Y/%m/%d %H:%M:%S\")\n",
    "cst['End Time'] = pd.to_datetime(cst['End Time'], format=\"%Y/%m/%d %H:%M:%S\")\n",
    "\n",
    "start_time = cst.loc[0,\"Start Time\"]\n",
    "start_str = \"Start Time: {}\".format(start_time)\n",
    "print(start_str)\n",
    "\n",
    "idx = cst.index[-1]\n",
    "end_time = cst.loc[idx,\"Start Time\"]\n",
    "end_str = \"End Time: {}\".format(end_time)\n",
    "print(end_str) \n",
    "\n",
    "cst.dtypes"
   ]
  },
  {
   "cell_type": "markdown",
   "id": "a589e01e",
   "metadata": {},
   "source": [
    "### Convert to floats, remove negative cost and non-system transactions"
   ]
  },
  {
   "cell_type": "code",
   "execution_count": 4,
   "id": "6f135a22",
   "metadata": {},
   "outputs": [
    {
     "name": "stdout",
     "output_type": "stream",
     "text": [
      "811\n"
     ]
    }
   ],
   "source": [
    "cst['Cost'] = cst['Cost'].astype(float)\n",
    "cst['Price'] = cst['Price'].astype(float)\n",
    "cst['Volume'] = cst['Volume'].astype(float)\n",
    "\n",
    "cst = cst[cst['Cost']<0]\n",
    "print(len(cst))"
   ]
  },
  {
   "cell_type": "markdown",
   "id": "9efb1984",
   "metadata": {},
   "source": [
    "### Calculate  Average Prices"
   ]
  },
  {
   "cell_type": "markdown",
   "id": "9011752b",
   "metadata": {},
   "source": [
    "#### Calculate Hourly Energy Volumes"
   ]
  },
  {
   "cell_type": "code",
   "execution_count": 5,
   "id": "baf86716",
   "metadata": {},
   "outputs": [],
   "source": [
    "starts = cst['Start Time']\n",
    "ends = cst['End Time']\n",
    "vols = -cst['Volume']\n",
    "\n",
    "time_diffs = ends - starts\n",
    "time_diffs = time_diffs / pd.to_timedelta(1, unit='H')\n",
    "\n",
    "ave_vols = vols/time_diffs\n",
    "cst['Average Volume'] = ave_vols"
   ]
  },
  {
   "cell_type": "markdown",
   "id": "114c0f12",
   "metadata": {},
   "source": [
    "#### Calculate weighted average prices"
   ]
  },
  {
   "cell_type": "code",
   "execution_count": 6,
   "id": "db0531fa",
   "metadata": {},
   "outputs": [],
   "source": [
    "dtm_interp = pd.date_range(start_time, end_time, freq=\"30min\")\n",
    "# print(dtm_interp)\n",
    "\n",
    "prices = []\n",
    "\n",
    "for ii in dtm_interp:  \n",
    "    mask = (starts <= ii) &\\\n",
    "       (ends > ii)\n",
    "    \n",
    "    foo = cst.loc[mask, 'Price'] * ave_vols[mask] \n",
    "    foo = foo/sum(ave_vols[mask])\n",
    "    prices.append( foo.mean() )"
   ]
  },
  {
   "cell_type": "code",
   "execution_count": 7,
   "id": "321843c6",
   "metadata": {},
   "outputs": [
    {
     "name": "stdout",
     "output_type": "stream",
     "text": [
      "1209\n",
      "1209\n"
     ]
    }
   ],
   "source": [
    "print(len(prices))\n",
    "print(len(dtm_interp))\n",
    "# print(prices)"
   ]
  },
  {
   "cell_type": "code",
   "execution_count": 31,
   "id": "902195d2",
   "metadata": {},
   "outputs": [
    {
     "data": {
      "text/plain": [
       "[<matplotlib.lines.Line2D at 0x214e4c12e20>]"
      ]
     },
     "execution_count": 31,
     "metadata": {},
     "output_type": "execute_result"
    },
    {
     "data": {
      "image/png": "[encoded data removed]",
      "text/plain": [
       "<Figure size 640x480 with 1 Axes>"
      ]
     },
     "metadata": {},
     "output_type": "display_data"
    }
   ],
   "source": [
    "fig = plt.figure()\n",
    "ax = fig.add_axes([0,0,1,1])\n",
    "ax.plot(dtm_interp,prices)\n",
    "\n",
    "# plt.xlim([17985, 18000])"
   ]
  },
  {
   "cell_type": "code",
   "execution_count": null,
   "id": "b91540d5",
   "metadata": {},
   "outputs": [],
   "source": []
  }
 ],
 "metadata": {
  "kernelspec": {
   "display_name": "Python 3 (ipykernel)",
   "language": "python",
   "name": "python3"
  },
  "language_info": {
   "codemirror_mode": {
    "name": "ipython",
    "version": 3
   },
   "file_extension": ".py",
   "mimetype": "text/x-python",
   "name": "python",
   "nbconvert_exporter": "python",
   "pygments_lexer": "ipython3",
   "version": "3.9.13"
  }
 },
 "nbformat": 4,
 "nbformat_minor": 5
}
